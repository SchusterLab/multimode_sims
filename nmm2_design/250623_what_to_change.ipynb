{
 "cells": [
  {
   "cell_type": "code",
   "execution_count": 2,
   "id": "1d3a48ec",
   "metadata": {},
   "outputs": [],
   "source": [
    "import numpy as np"
   ]
  },
  {
   "cell_type": "code",
   "execution_count": 25,
   "id": "61e742ea",
   "metadata": {},
   "outputs": [
    {
     "name": "stdout",
     "output_type": "stream",
     "text": [
      "g = 65.657 MHz\n"
     ]
    }
   ],
   "source": [
    "chi = 0.280\n",
    "alpha = 143\n",
    "delta = 4984 - 3570\n",
    "g = (chi/alpha * delta *(delta + alpha))**0.5\n",
    "print(f\"g = {g:.3f} MHz\")"
   ]
  },
  {
   "cell_type": "code",
   "execution_count": 26,
   "id": "318d4f46",
   "metadata": {},
   "outputs": [
    {
     "data": {
      "text/plain": [
       "1414"
      ]
     },
     "execution_count": 26,
     "metadata": {},
     "output_type": "execute_result"
    }
   ],
   "source": [
    "delta"
   ]
  },
  {
   "cell_type": "code",
   "execution_count": 12,
   "id": "9a6fdba8",
   "metadata": {},
   "outputs": [
    {
     "name": "stdout",
     "output_type": "stream",
     "text": [
      "kerr = 0.66475 kHz\n"
     ]
    }
   ],
   "source": [
    "# estimating kerr \n",
    "kerr = (g/delta)**4 * alpha\n",
    "print(f\"kerr = {kerr*1e3:.5f} kHz\")"
   ]
  },
  {
   "cell_type": "code",
   "execution_count": 29,
   "id": "298a1a69",
   "metadata": {},
   "outputs": [
    {
     "name": "stdout",
     "output_type": "stream",
     "text": [
      "kerr_coupler = 40.90739 kHz\n",
      "chi_coupler = 1.440 MHz\n"
     ]
    }
   ],
   "source": [
    "# with the coupler \n",
    "g_coupler = 155\n",
    "delta = 4984 - 4037\n",
    "alpha = 57\n",
    "kerr_coupler = (g_coupler/delta)**4 * alpha\n",
    "print(f\"kerr_coupler = {kerr_coupler*1e3:.5f} kHz\")\n",
    "chi_coupler = g_coupler **2 / (alpha + delta)/delta * alpha\n",
    "print(f\"chi_coupler = {chi_coupler:.3f} MHz\")"
   ]
  },
  {
   "cell_type": "code",
   "execution_count": 28,
   "id": "2c149c58",
   "metadata": {},
   "outputs": [
    {
     "data": {
      "text/plain": [
       "947"
      ]
     },
     "execution_count": 28,
     "metadata": {},
     "output_type": "execute_result"
    }
   ],
   "source": [
    "delta"
   ]
  },
  {
   "cell_type": "code",
   "execution_count": 21,
   "id": "b19941f3",
   "metadata": {},
   "outputs": [
    {
     "name": "stdout",
     "output_type": "stream",
     "text": [
      "g = 155.628 MHz\n"
     ]
    }
   ],
   "source": [
    "chi = 1.452 # Mhz\n",
    "alpha = 57\n",
    "delta = 4984 - 4037\n",
    "g = (chi/alpha * delta *(delta + alpha))**0.5\n",
    "print(f\"g = {g:.3f} MHz\")"
   ]
  },
  {
   "cell_type": "code",
   "execution_count": null,
   "id": "e594a849",
   "metadata": {},
   "outputs": [],
   "source": []
  }
 ],
 "metadata": {
  "kernelspec": {
   "display_name": "quantum",
   "language": "python",
   "name": "python3"
  },
  "language_info": {
   "codemirror_mode": {
    "name": "ipython",
    "version": 3
   },
   "file_extension": ".py",
   "mimetype": "text/x-python",
   "name": "python",
   "nbconvert_exporter": "python",
   "pygments_lexer": "ipython3",
   "version": "3.12.4"
  }
 },
 "nbformat": 4,
 "nbformat_minor": 5
}
