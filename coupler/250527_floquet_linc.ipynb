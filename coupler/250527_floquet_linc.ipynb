{
 "cells": [
  {
   "cell_type": "code",
   "execution_count": 1,
   "id": "ab0bc525",
   "metadata": {},
   "outputs": [],
   "source": [
    "import numpy as np \n",
    "import matplotlib.pyplot as plt\n",
    "import qutip as qt"
   ]
  },
  {
   "cell_type": "markdown",
   "id": "0019e40a",
   "metadata": {},
   "source": [
    "# Hamiltonians"
   ]
  },
  {
   "cell_type": "markdown",
   "id": "475290b2",
   "metadata": {},
   "source": [
    "## General Alice Bob Cavity Hamiltonian\n",
    "\n",
    "Let the Hamiltonian for Alice (A), Bob (B), and a coupler mode (C), all modeled as cavity modes with annihilation operators $a$, $b$, and $c$ and frequencies $\\omega_A$, $\\omega_B$, $\\omega_C$, be:\n",
    "\n",
    "$$\n",
    "H = \\omega_A\\, a^\\dagger a + \\omega_B\\, b^\\dagger b + \\omega_C\\, c^\\dagger c  + g_{AC} (a^\\dagger c + a c^\\dagger) + g_{BC} (b^\\dagger c + b c^\\dagger)\n",
    "$$\n",
    "\n",
    "where:\n",
    "- $a$, $b$, $c$ are annihilation operators for Alice, Bob, and the coupler mode,\n",
    "- $a^\\dagger$, $b^\\dagger$, $c^\\dagger$ are the corresponding creation operators,\n",
    "- $g_{AC}$, $g_{BC}$ are couplings between Alice/Coupler and Bob/Coupler."
   ]
  },
  {
   "cell_type": "code",
   "execution_count": 5,
   "id": "ed595856",
   "metadata": {},
   "outputs": [],
   "source": [
    "# Parameters for the general Alice-Bob-Cavity Hamiltonian (all units are in MHz)\n",
    "omega_A = 2 * np.pi * 5e3      # Frequency of Alice's mode\n",
    "omega_B = 2 * np.pi * 6e3      # Frequency of Bob's mode\n",
    "omega_C = 2 * np.pi * 4e3      # Frequency of Coupler mode\n",
    "g_AC = 2 * np.pi * 100         # Coupling between Alice and Coupler\n",
    "g_BC = 2 * np.pi * 100         # Coupling between Bob and Coupler\n"
   ]
  },
  {
   "cell_type": "code",
   "execution_count": 6,
   "id": "fac63e5e",
   "metadata": {},
   "outputs": [],
   "source": [
    "# Define truncation for each mode\n",
    "trunc = 5\n",
    "\n",
    "# Creation and annihilation operators for Alice (a), Bob (b), and Coupler (c)\n",
    "a = qt.destroy(trunc)      # Alice annihilation\n",
    "a_dag = a.dag()            # Alice creation\n",
    "\n",
    "b = qt.destroy(trunc)      # Bob annihilation\n",
    "b_dag = b.dag()            # Bob creation\n",
    "\n",
    "c = qt.destroy(trunc)      # Coupler annihilation\n",
    "c_dag = c.dag()            # Coupler creation"
   ]
  },
  {
   "cell_type": "code",
   "execution_count": 7,
   "id": "0ce19def",
   "metadata": {},
   "outputs": [],
   "source": [
    "def generate_alice_bob_cavity_hamiltonian(omega_A, omega_B, omega_C, g_AC, g_BC, a, a_dag, b, b_dag, c, c_dag):\n",
    "    \"\"\"\n",
    "    Generate the Hamiltonian:\n",
    "        H = omega_A * a†a + omega_B * b†b + omega_C * c†c\n",
    "            + g_AC * (a†c + a c†) + g_BC * (b†c + b c†)\n",
    "    \"\"\"\n",
    "    H = (\n",
    "        omega_A * a_dag * a\n",
    "        + omega_B * b_dag * b\n",
    "        + omega_C * c_dag * c\n",
    "        + g_AC * (a_dag * c + a * c_dag)\n",
    "        + g_BC * (b_dag * c + b * c_dag)\n",
    "    )\n",
    "    return H\n"
   ]
  },
  {
   "cell_type": "markdown",
   "id": "2dba93c1",
   "metadata": {},
   "source": [
    "## LINC Potential \n",
    "$$U = 2M^2E_J \\cos{\\phi_{ext}}\\cos{\\theta/M}$$\n",
    "- $M$: Integer parameter related to the number of junctions or modes in the system  \n",
    "- $E_J$: Josephson energy  \n",
    "- $\\phi_{ext}$: External flux phase  \n",
    "- $\\theta$: Collective phase variable, e.g., $\\theta = \\theta_{\\mathrm{zpt}} (c + c^\\dagger)$  \n",
    "- $\\theta_{\\mathrm{zpt}} = (2E_C/E_L)^{1/4}$\n",
    "- $U$: LINC potential energy\n",
    "\n",
    "If we set $\\phi_{ext} = \\frac{\\pi}{2} + \\phi_{AC}$, then H becomes:\n",
    "$$\n",
    "U = 2M^2E_J \\sin{\\phi_{AC}}\\cos{\\theta/M}\n",
    "$$\n",
    "\n"
   ]
  },
  {
   "cell_type": "code",
   "execution_count": null,
   "id": "a767d59e",
   "metadata": {
    "vscode": {
     "languageId": "julia"
    }
   },
   "outputs": [],
   "source": [
    "# Parameters for LINC potential (example values, adjust as needed)\n",
    "M = 3                # Integer parameter (number of junctions/modes)\n",
    "E_J = 2 * np.pi * 15e3    # Josephson energy (in appropriate units)\n",
    "# phi_AC = np.pi / 4   # Phase variable (in radians)\n",
    "E_C = 2 * np.pi * 100e3   # Charging energy\n",
    "E_L = 2 * np.pi * 52.8    # Inductive energy\n"
   ]
  },
  {
   "cell_type": "code",
   "execution_count": 8,
   "id": "41fb5164",
   "metadata": {},
   "outputs": [],
   "source": [
    "def theta_operator(E_C, E_L, c, c_dag):\n",
    "    \"\"\"\n",
    "    Construct the theta operator:\n",
    "        theta = theta_zpt * (c + c†)\n",
    "        where theta_zpt = (2 * E_C / E_L) ** 0.25\n",
    "\n",
    "    Parameters\n",
    "    ----------\n",
    "    E_C : float\n",
    "        Charging energy.\n",
    "    E_L : float\n",
    "        Inductive energy.\n",
    "    c : Qobj\n",
    "        Coupler annihilation operator.\n",
    "    c_dag : Qobj\n",
    "        Coupler creation operator.\n",
    "\n",
    "    Returns\n",
    "    -------\n",
    "    theta : Qobj\n",
    "        The theta operator.\n",
    "    \"\"\"\n",
    "    theta_zpt = (2 * E_C / E_L) ** 0.25\n",
    "    return theta_zpt * (c + c_dag)\n",
    "\n",
    "def linc_potential_operator(M, E_J, phi_AC, E_C, E_L, c, c_dag):\n",
    "    \"\"\"\n",
    "    Generate the LINC potential energy operator:\n",
    "        U = 2 * M**2 * E_J * sin(phi_AC) * cos(theta / M)\n",
    "    where theta = theta_zpt * (c + c†), theta_zpt = (2 * E_C / E_L) ** 0.25\n",
    "\n",
    "    Parameters\n",
    "    ----------\n",
    "    M : int\n",
    "        Integer parameter related to the number of junctions or modes.\n",
    "    E_J : float\n",
    "        Josephson energy.\n",
    "    phi_AC : float\n",
    "        Phase variable (in radians).\n",
    "    E_C : float\n",
    "        Charging energy.\n",
    "    E_L : float\n",
    "        Inductive energy.\n",
    "    c : Qobj\n",
    "        Coupler annihilation operator.\n",
    "    c_dag : Qobj\n",
    "        Coupler creation operator.\n",
    "\n",
    "    Returns\n",
    "    -------\n",
    "    U : Qobj\n",
    "        The LINC potential energy operator.\n",
    "    \"\"\"\n",
    "    theta = theta_operator(E_C, E_L, c, c_dag)\n",
    "    U = 2 * M**2 * E_J * np.sin(phi_AC) * (theta / M).cosm()\n",
    "    return U"
   ]
  },
  {
   "cell_type": "code",
   "execution_count": null,
   "id": "c0bfca0c",
   "metadata": {},
   "outputs": [],
   "source": []
  },
  {
   "cell_type": "code",
   "execution_count": 3,
   "id": "eafe4c1d",
   "metadata": {},
   "outputs": [
    {
     "name": "stderr",
     "output_type": "stream",
     "text": [
      "c:\\Anaconda3\\envs\\Lib\\site-packages\\qutip\\solver\\floquet_bwcomp.py:37: FutureWarning: `floquet_modes` is deprecated. Use `FloquetBasis.mode` instead.\n",
      "  warnings.warn(FutureWarning(\n",
      "c:\\Anaconda3\\envs\\Lib\\site-packages\\qutip\\core\\coefficient.py:420: UserWarning: `cython`, `setuptools` and `filelock` are required for compilation of string coefficents. Falling back on `eval`.\n",
      "  warnings.warn(\n"
     ]
    },
    {
     "ename": "AttributeError",
     "evalue": "module 'qutip' has no attribute 'floquet_master_equation_solver'",
     "output_type": "error",
     "traceback": [
      "\u001b[1;31m---------------------------------------------------------------------------\u001b[0m",
      "\u001b[1;31mAttributeError\u001b[0m                            Traceback (most recent call last)",
      "Cell \u001b[1;32mIn[3], line 23\u001b[0m\n\u001b[0;32m     21\u001b[0m floquet_modes, floquet_energies \u001b[38;5;241m=\u001b[39m qt\u001b[38;5;241m.\u001b[39mfloquet_modes(H, w, args)\n\u001b[0;32m     22\u001b[0m \u001b[38;5;66;03m# floquet_modes, floquet_energies = qt.floquet_modes(H, w, args, t=0)\u001b[39;00m\n\u001b[1;32m---> 23\u001b[0m result \u001b[38;5;241m=\u001b[39m \u001b[43mqt\u001b[49m\u001b[38;5;241;43m.\u001b[39;49m\u001b[43mfloquet_master_equation_solver\u001b[49m(H, w, [psi0], tlist, [], args\u001b[38;5;241m=\u001b[39margs)\n\u001b[0;32m     25\u001b[0m \u001b[38;5;66;03m# Plot the population of state |0>\u001b[39;00m\n\u001b[0;32m     26\u001b[0m plt\u001b[38;5;241m.\u001b[39mplot(tlist, np\u001b[38;5;241m.\u001b[39mreal(result\u001b[38;5;241m.\u001b[39mexpect[\u001b[38;5;241m0\u001b[39m]))\n",
      "\u001b[1;31mAttributeError\u001b[0m: module 'qutip' has no attribute 'floquet_master_equation_solver'"
     ]
    }
   ],
   "source": [
    "# Define system parameters\n",
    "w0 = 1.0         # qubit energy\n",
    "A = 0.5          # driving amplitude\n",
    "w = 1.0          # driving frequency\n",
    "\n",
    "# Hamiltonian: H = 0.5 * w0 * sigmaz + A * cos(w * t) * sigmax\n",
    "H0 = 0.5 * w0 * qt.sigmaz()\n",
    "H1 = A * qt.sigmax()\n",
    "H = [H0, [H1, 'cos(w * t)']]\n",
    "\n",
    "# Time-dependent coefficients\n",
    "args = {'w': w}\n",
    "\n",
    "# Initial state\n",
    "psi0 = qt.basis(2, 0)\n",
    "\n",
    "# Time list\n",
    "tlist = np.linspace(0, 10, 200)\n",
    "\n",
    "# Solve using Floquet formalism\n",
    "floquet_modes, floquet_energies = qt.floquet_modes(H, w, args)\n",
    "# floquet_modes, floquet_energies = qt.floquet_modes(H, w, args, t=0)\n",
    "result = qt.floquet_master_equation_solver(H, w, [psi0], tlist, [], args=args)\n",
    "\n",
    "# Plot the population of state |0>\n",
    "plt.plot(tlist, np.real(result.expect[0]))\n",
    "plt.xlabel('Time')\n",
    "plt.ylabel('Population of |0>')\n",
    "plt.title('Floquet Simulation: Population of |0>')\n",
    "plt.show()"
   ]
  },
  {
   "cell_type": "code",
   "execution_count": null,
   "id": "f79b22b1",
   "metadata": {},
   "outputs": [],
   "source": []
  }
 ],
 "metadata": {
  "kernelspec": {
   "display_name": "qctrl",
   "language": "python",
   "name": "python3"
  },
  "language_info": {
   "codemirror_mode": {
    "name": "ipython",
    "version": 3
   },
   "file_extension": ".py",
   "mimetype": "text/x-python",
   "name": "python",
   "nbconvert_exporter": "python",
   "pygments_lexer": "ipython3",
   "version": "3.11.5"
  }
 },
 "nbformat": 4,
 "nbformat_minor": 5
}
