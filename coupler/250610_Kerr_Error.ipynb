{
 "cells": [
  {
   "cell_type": "code",
   "execution_count": 68,
   "id": "b754412f",
   "metadata": {},
   "outputs": [
    {
     "name": "stdout",
     "output_type": "stream",
     "text": [
      "Mode 1 Kerr: 0.000372148\n",
      "Mode 2 Kerr: 0.000259294\n",
      "Eigenvalue (|0,0>): -3.514272997, Index: 0\n",
      "Eigenvalue (|0,1>): 6517.623115067, Index: 2\n",
      "Eigenvalue (|0,2>): 13038.760544398, Index: 5\n",
      "Eigenvalue (|1,0>): 4868.319793001, Index: 1\n",
      "Eigenvalue (|1,1>): 11389.457183992, Index: 4\n",
      "Eigenvalue (|1,2>): 17910.597093029, Index: 8\n",
      "Eigenvalue (|2,0>): 9740.153918228, Index: 3\n",
      "Eigenvalue (|2,1>): 16261.292657245, Index: 7\n",
      "Eigenvalue (|2,2>): 22782.491972748, Index: 12\n"
     ]
    },
    {
     "name": "stderr",
     "output_type": "stream",
     "text": [
      "C:\\Users\\eeshg\\AppData\\Local\\Temp\\ipykernel_5052\\4142462597.py:44: DeprecationWarning: `np.math` is a deprecated alias for the standard library `math` module (Deprecated Numpy 1.25). Replace usages of `np.math` with `math`\n",
      "  bare_states = [tensor(b1, b2) for b1 in [a1.dag()**n1 * a1**0 / np.sqrt(np.math.factorial(n1)) for n1 in range(N1)]\n",
      "C:\\Users\\eeshg\\AppData\\Local\\Temp\\ipykernel_5052\\4142462597.py:45: DeprecationWarning: `np.math` is a deprecated alias for the standard library `math` module (Deprecated Numpy 1.25). Replace usages of `np.math` with `math`\n",
      "  for b2 in [a2.dag()**n2 * a2**0 / np.sqrt(np.math.factorial(n2)) for n2 in range(N2)]]\n"
     ]
    }
   ],
   "source": [
    "from qutip import *\n",
    "import numpy as np\n",
    "\n",
    "# couple two mdoes with tunable truncation. diagonalize it, map dressed states back to bare states \n",
    "# find the kerr (2nd level - 1st level) - (1st kerr - 0th level) for both modes. do all of this \n",
    "# in qutip ; add lots of comments\n",
    "# Parameters\n",
    "N1 = 5  # Truncation for mode 1\n",
    "N2 = 5 # Truncation for mode 2\n",
    "w1 = 4.9 * 1e3* 2*np.pi  # Frequency of mode 1\n",
    "w2 = 6.5 * 1e3* 2*np.pi  # Frequency of mode 2\n",
    "g = 0.2 * 1e3* 2*np.pi  # Coupling strength\n",
    "alpha1 = 0 # Anharmonicity (Kerr) for mode 1\n",
    "alpha2 = 0  # Anharmonicity (Kerr) for mode 2\n",
    "\n",
    "# Creation and annihilation operators\n",
    "a1 = destroy(N1)\n",
    "a2 = destroy(N2)\n",
    "\n",
    "# Identity operators\n",
    "I1 = qeye(N1)\n",
    "I2 = qeye(N2)\n",
    "\n",
    "# Tensor operators for the full Hilbert space\n",
    "a1_full = tensor(a1, I2)\n",
    "a2_full = tensor(I1, a2)\n",
    "\n",
    "# Bare Hamiltonian for each mode (including Kerr nonlinearity)\n",
    "H1 = w1 * a1_full.dag() * a1_full #+ 0.5 * alpha1 * a1_full.dag() * a1_full.dag() * a1_full * a1_full\n",
    "H2 = w2 * a2_full.dag() * a2_full #+ 0.5 * alpha2 * a2_full.dag() * a2_full.dag() * a2_full * a2_full\n",
    "\n",
    "# Coupling term (beam-splitter type)\n",
    "# H_coupling = g * (a1_full.dag() * a2_full + a1_full * a2_full.dag())\n",
    "H_coupling = g* (a1_full + a1_full.dag()) * (a2_full + a2_full.dag())  # Ensure Hermitian\n",
    "\n",
    "# Total Hamiltonian\n",
    "H = H1 + H2 + H_coupling\n",
    "\n",
    "# Diagonalize the Hamiltonian\n",
    "eigenvals, eigenstates = H.eigenstates()\n",
    "\n",
    "# Map dressed states back to bare states: calculate overlaps\n",
    "# We'll use the bare basis |n1, n2> for n1 in 0..N1-1, n2 in 0..N2-1\n",
    "bare_states = [tensor(b1, b2) for b1 in [a1.dag()**n1 * a1**0 / np.sqrt(np.math.factorial(n1)) for n1 in range(N1)]\n",
    "                                  for b2 in [a2.dag()**n2 * a2**0 / np.sqrt(np.math.factorial(n2)) for n2 in range(N2)]]\n",
    "\n",
    "# Find the Kerr for each mode:\n",
    "# Kerr = (E_2 - E_1) - (E_1 - E_0) for the relevant ladder\n",
    "# We'll assume the lowest three eigenvalues correspond to the ground, first, and second excited states of the mode of interest\n",
    "\n",
    "# For mode 1: states with (n1, n2) = (0,0), (1,0), (2,0)\n",
    "# For mode 2: states with (n1, n2) = (0,0), (0,1), (0,2)\n",
    "\n",
    "# Find which eigenstates have the largest overlap with each bare state\n",
    "def find_state_index(target_state):\n",
    "    overlaps = [abs((target_state.dag() * e)) for e in eigenstates]\n",
    "    return np.argmax(overlaps)\n",
    "\n",
    "# Mode 1 Kerr\n",
    "idx_00 = find_state_index(tensor(basis(N1,0), basis(N2,0)))\n",
    "idx_10 = find_state_index(tensor(basis(N1,1), basis(N2,0)))\n",
    "idx_20 = find_state_index(tensor(basis(N1,2), basis(N2,0)))\n",
    "idx_11 = find_state_index(tensor(basis(N1,1), basis(N2,1)))\n",
    "kerr1 = (eigenvals[idx_20] - eigenvals[idx_10]) - (eigenvals[idx_10] - eigenvals[idx_00])\n",
    "\n",
    "# Mode 2 Kerr\n",
    "idx_01 = find_state_index(tensor(basis(N1,0), basis(N2,1)))\n",
    "idx_02 = find_state_index(tensor(basis(N1,0), basis(N2,2)))\n",
    "kerr2 = (eigenvals[idx_02] - eigenvals[idx_01]) - (eigenvals[idx_01] - eigenvals[idx_00])\n",
    "\n",
    "print(f\"Mode 1 Kerr: {kerr1:.9f}\")\n",
    "print(f\"Mode 2 Kerr: {kerr2:.9f}\")\n",
    "\n",
    "# Print the eigenvalues and the corresponding dressed states and also associate ket string |n1, n2> for clarity\n",
    "# Only print eigenstates corresponding to up to 2 photons in either mode\n",
    "for n1 in range(3):\n",
    "    for n2 in range(3):\n",
    "        idx = find_state_index(tensor(basis(N1, n1), basis(N2, n2)))\n",
    "        val = eigenvals[idx]\n",
    "        print(f\"Eigenvalue (|{n1},{n2}>): {val/2/np.pi:.9f}, Index: {idx}\")\n",
    "# for i, (val, state) in enumerate(zip(eigenvals, eigenstates)):\n",
    "#     ket_str = ''.join([f'|{n1},{n2}>' for n1 in range(N1) for n2 in range(N2) if find_state_index(tensor(basis(N1, n1), basis(N2, n2))) == i])\n",
    "#     print(f\"Eigenvalue {i}: {val:.9f}, Corresponding Ket: {ket_str}\")\n",
    "\n",
    "# Comments:\n",
    "# - This code builds a coupled two-mode system with tunable truncation and Kerr nonlinearities.\n",
    "# - The Hamiltonian is diagonalized to obtain dressed states.\n",
    "# - Dressed states are mapped back to bare states by overlap.\n",
    "# - Kerr for each mode is extracted from the dressed spectrum."
   ]
  },
  {
   "cell_type": "code",
   "execution_count": null,
   "id": "166b4f5e",
   "metadata": {},
   "outputs": [],
   "source": []
  },
  {
   "cell_type": "code",
   "execution_count": 50,
   "id": "bceaad8c",
   "metadata": {},
   "outputs": [
    {
     "name": "stdout",
     "output_type": "stream",
     "text": [
      "idx_00: 0\n",
      "idx_01: 2\n",
      "idx_02: 4\n",
      "idx_10: 1\n",
      "idx_11: 3\n",
      "idx_20: 4\n"
     ]
    }
   ],
   "source": [
    "print(f\"idx_00: {idx_00}\")\n",
    "print(f\"idx_01: {idx_01}\")\n",
    "print(f\"idx_02: {idx_02}\")\n",
    "print(f\"idx_10: {idx_10}\")\n",
    "print(f\"idx_11: {idx_11}\")\n",
    "print(f\"idx_20: {idx_20}\")"
   ]
  },
  {
   "cell_type": "code",
   "execution_count": 67,
   "id": "40153f1e",
   "metadata": {},
   "outputs": [
    {
     "data": {
      "image/png": "[encoded data removed]",
      "text/plain": [
       "<Figure size 1200x400 with 1 Axes>"
      ]
     },
     "metadata": {},
     "output_type": "display_data"
    }
   ],
   "source": [
    "# Plot the eigenstate 1 in the bare basis\n",
    "\n",
    "import matplotlib.pyplot as plt\n",
    "\n",
    "# eigenstates[1] is the first excited state (index 1)\n",
    "state = eigenstates[idx_20]\n",
    "\n",
    "# Compute amplitudes in the bare basis\n",
    "bare_basis = [tensor(basis(N1, n1), basis(N2, n2)) for n1 in range(N1) for n2 in range(N2)]\n",
    "amplitudes = [abs((b.dag() * state))**2 for b in bare_basis]\n",
    "\n",
    "# Prepare labels for the bare basis states\n",
    "labels = [f\"|{n1},{n2}>\" for n1 in range(N1) for n2 in range(N2)]\n",
    "\n",
    "plt.figure(figsize=(12,4))\n",
    "plt.bar(range(len(amplitudes)), amplitudes)\n",
    "plt.xticks(range(len(labels)), labels, rotation=90)\n",
    "plt.xlabel(\"Bare basis state |n1,n2>\")\n",
    "plt.ylabel(\"Probability\")\n",
    "plt.title(\"Eigenstate 1 in the bare basis\")\n",
    "plt.tight_layout()\n",
    "plt.show()"
   ]
  },
  {
   "cell_type": "code",
   "execution_count": 37,
   "id": "161b818f",
   "metadata": {},
   "outputs": [
    {
     "data": {
      "text/plain": [
       "4"
      ]
     },
     "execution_count": 37,
     "metadata": {},
     "output_type": "execute_result"
    }
   ],
   "source": [
    "idx_20"
   ]
  },
  {
   "cell_type": "code",
   "execution_count": null,
   "id": "32f49b53",
   "metadata": {},
   "outputs": [],
   "source": []
  },
  {
   "cell_type": "code",
   "execution_count": null,
   "id": "abc7117d",
   "metadata": {},
   "outputs": [],
   "source": []
  }
 ],
 "metadata": {
  "kernelspec": {
   "display_name": "qctrl",
   "language": "python",
   "name": "python3"
  },
  "language_info": {
   "codemirror_mode": {
    "name": "ipython",
    "version": 3
   },
   "file_extension": ".py",
   "mimetype": "text/x-python",
   "name": "python",
   "nbconvert_exporter": "python",
   "pygments_lexer": "ipython3",
   "version": "3.11.5"
  }
 },
 "nbformat": 4,
 "nbformat_minor": 5
}
