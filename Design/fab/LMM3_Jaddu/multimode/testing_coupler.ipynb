{
 "cells": [
  {
   "cell_type": "markdown",
   "id": "8ea58999",
   "metadata": {},
   "source": []
  },
  {
   "cell_type": "code",
   "execution_count": 248,
   "id": "ed186a55",
   "metadata": {},
   "outputs": [],
   "source": [
    "import numpy as np"
   ]
  },
  {
   "cell_type": "code",
   "execution_count": 249,
   "id": "cc6f8c57",
   "metadata": {},
   "outputs": [],
   "source": [
    "\n",
    "import sys\n",
    "# sys.path.append(r\"C:\\_Lib\\python\")\n",
    "sys.path.append(r\"C:\\Users\\eeshg\\Documents\\multimode_sims\\Design\\coupler\")\n",
    "\n",
    "from mask_maker import * "
   ]
  },
  {
   "cell_type": "code",
   "execution_count": 250,
   "id": "f1f8e1c2",
   "metadata": {},
   "outputs": [
    {
     "name": "stdout",
     "output_type": "stream",
     "text": [
      "The autoreload extension is already loaded. To reload it, use:\n",
      "  %reload_ext autoreload\n"
     ]
    }
   ],
   "source": [
    "\n",
    "%load_ext autoreload\n",
    "%autoreload 2"
   ]
  },
  {
   "cell_type": "code",
   "execution_count": 251,
   "id": "e85e15ea",
   "metadata": {},
   "outputs": [],
   "source": [
    "from mm_coupler import *\n",
    "from mm_chips_base import * "
   ]
  },
  {
   "cell_type": "markdown",
   "id": "10e1beb0",
   "metadata": {},
   "source": [
    "# Imports"
   ]
  },
  {
   "cell_type": "code",
   "execution_count": null,
   "id": "c83df455",
   "metadata": {},
   "outputs": [],
   "source": [
    "\n",
    "\n"
   ]
  },
  {
   "cell_type": "markdown",
   "id": "cf1ceee3",
   "metadata": {},
   "source": [
    "# Mask Generation"
   ]
  },
  {
   "cell_type": "markdown",
   "id": "a13aa1b0",
   "metadata": {},
   "source": [
    "## Wafer Initialization\n",
    "\n",
    " 4in wafer -> diameter=101600, flat_distance=48200\n",
    "\n",
    "\n",
    " 3in wafer -> diameter=76200., flat_distance=37100.\n",
    "\n",
    " \n",
    " 2in wafer -> diameter=50800., flat_distance=24100."
   ]
  },
  {
   "cell_type": "code",
   "execution_count": 252,
   "id": "5c3a3cae",
   "metadata": {},
   "outputs": [
    {
     "name": "stdout",
     "output_type": "stream",
     "text": [
      "Maximum number of rows=1 and cols=17\n",
      "Room for 13 chips on wafer.\n"
     ]
    }
   ],
   "source": [
    "MaskName = 'Jaddu_Coupler_junc'\n",
    "y_len = 6100\n",
    "s_match = 3\n",
    "w_hi=3\n",
    "shorten = 1000\n",
    "# MaskName = f'Raph_design_shorten_horizontal_{shorten/2}__y={y_len}_s={s_match}_w={w_hi}um'\n",
    "\n",
    "save_folder=r\"C:\\Users\\eeshg\\Documents\\multimode_sims\\Design\\coupler\\LMM3_Jaddu\\designs_dxf\"\n",
    "m = WaferMask(MaskName, diameter=101600., flat_angle=270., flat_distance=48200., wafer_padding=2500,\n",
    "                  chip_size=(5450, 48300),\n",
    "                  dicing_border=200, etchtype=False, wafer_edge=True,\n",
    "                  dashed_dicing_border=80, ndashes=2, dice_corner=True, square_arr=False)"
   ]
  },
  {
   "cell_type": "markdown",
   "id": "838cf71d",
   "metadata": {},
   "source": [
    "## Chips"
   ]
  },
  {
   "cell_type": "code",
   "execution_count": 253,
   "id": "8db73234",
   "metadata": {},
   "outputs": [],
   "source": [
    "## Iniatilization\n",
    "mm_chips_base = MMChipsBase()\n",
    "chip_defaults = mm_chips_base.set_mask_init()"
   ]
  },
  {
   "cell_type": "markdown",
   "id": "c9107c4b",
   "metadata": {},
   "source": [
    "### Chip Configs"
   ]
  },
  {
   "cell_type": "code",
   "execution_count": 254,
   "id": "decc9c33",
   "metadata": {},
   "outputs": [],
   "source": [
    "widths = [0.79, 0.31, 0.2 ]"
   ]
  },
  {
   "cell_type": "code",
   "execution_count": 255,
   "id": "9fa1f88a",
   "metadata": {},
   "outputs": [
    {
     "data": {
      "text/plain": [
       "[({'width': 0.79, 'gap': 0.2}, False, 'A', 1),\n",
       " ({'width': 0.31, 'gap': 0.2}, False, 'B', 1),\n",
       " ({'width': 0.2, 'gap': 0.2}, False, 'C', 1)]"
      ]
     },
     "execution_count": 255,
     "metadata": {},
     "output_type": "execute_result"
    }
   ],
   "source": [
    "# chip_configs = [\n",
    "#         # (junc_correction, flip, CHIPNAME, type)\n",
    "#         ({'width': 1.2, 'gap': 0.2}, False, 'A', 1),\n",
    "#         ({'width': 1.1, 'gap': 0.2}, False, 'B', 1),\n",
    "#         ({'width': 1.0, 'gap': 0.2}, False, 'C', 1),\n",
    "#         # ({'width': 0.9, 'gap': 0.2}, False, 'D', 1),\n",
    "#         # ({'width': 0.8, 'gap': 0.2}, False, 'E', 1),\n",
    "#         # ({'width': 0.7, 'gap': 0.2}, False, 'F', 1),\n",
    "#         # ({'width': 1.3, 'gap': 0.2}, False, 'C1G', 0),\n",
    "#         # ({'width': 0.14, 'gap': 0.2}, False, 'C1H', 0),\n",
    "#         # ({'width': 0.12, 'gap': 0.2}, False, 'C1I', 0),\n",
    "#         # ({'width': 0.13, 'gap': 0.2}, False, 'C1J', 1),\n",
    "#         # ({'width': 0.14, 'gap': 0.2}, False, 'C1K', 1),\n",
    "#         # ({'width': 0.35, 'gap': 0.2}, False, 'C1L', 1),\n",
    "#         # ({'width': 0.25, 'gap': 0.2}, False, 'C1M', 1),\n",
    "#         # ({'width': 0.2, 'gap': 0.2}, False, 'C1N', 0),\n",
    "#     ]\n",
    "gap = 0.2 \n",
    "widths = [0.79, 0.31, 0.2 ]\n",
    "# make chip configs \n",
    "chip_configs = [\n",
    "    ({'width': width, 'gap': gap}, False, chr(ord('A') + i), 1)\n",
    "    for i, width in enumerate(widths)\n",
    "]\n",
    "chip_configs\n"
   ]
  },
  {
   "cell_type": "markdown",
   "id": "9e0b7d7a",
   "metadata": {},
   "source": [
    "## Configs specific to Multimode Coupler Chip"
   ]
  },
  {
   "cell_type": "code",
   "execution_count": 256,
   "id": "c959949e",
   "metadata": {},
   "outputs": [],
   "source": [
    "balun_configs = dict(\n",
    "    launcher_width=500,\n",
    "    launcher_length=500,\n",
    "    launcher_taper=500,\n",
    "    ground=2825,\n",
    "    gap2ground=200 * 1.0,\n",
    "    cpw_ground_width=200 * 1.25,\n",
    "    cpw_pin=12 * 1.25,\n",
    "    cpw_gap=6 * 1.25,\n",
    "    cpw_ground4=200 * 1.25,\n",
    "    cpw_ground4_length=200 * 1.25,\n",
    "    cps_gap2=12 * 1.25,\n",
    "    cps_w=(200 * 1.25 * 2 + 6 * 1.25 * 2 + 12 * 1.25 - 12 * 1.25) / 2,\n",
    "    cps_port2_length=400 - 100,\n",
    "    cps_pin=200,\n",
    "    cps_gap=3,\n",
    "    cps_gap_target=3,\n",
    "    cps_pin_target=3,\n",
    "    cps_pin_taper=2000,\n",
    "    scpw_length=1000,\n",
    ")"
   ]
  },
  {
   "cell_type": "code",
   "execution_count": 257,
   "id": "d7db840a",
   "metadata": {},
   "outputs": [],
   "source": [
    "#end to end drops by shorten/2\n",
    "coupler_configs = dict(\n",
    "    s_lo=3,\n",
    "    s_hi=3,\n",
    "    w_lo=2422.5,\n",
    "    w_hi=3,\n",
    "    length_lo= 6100,\n",
    "    length_hi= 6100 - shorten,\n",
    "    length_pad_to_loop = 6100,\n",
    "    high_imp_horizontal_length_half = 1245 - shorten/4,\n",
    "    high_imp_bend_radius = 80,\n",
    "    high_imp_vertical_length = 95,\n",
    "    left_padx=1900,\n",
    "    left_pady=700,\n",
    "    right_padx=1900,\n",
    "    right_pady=1600 + 400,\n",
    "    bar_thick=50,\n",
    "    bar_length=500,\n",
    "    squid_space=30,\n",
    "    wirebond_x=750 - 200,\n",
    "    wirebond_y=400,\n",
    "    wirebond_dis=600,\n",
    "    flux_loop_x=190 - 60,\n",
    "    flux_loop_y=75 - 30 ,\n",
    "    squid_width=4,\n",
    "    squid_x=39,\n",
    "    squid_y=14 + 4 * 2,\n",
    "    tripplr_jj=False,\n",
    "    width_long_left_pad = 120,\n",
    "    thin_bar_length=200,\n",
    "    xpos =  5450 / 2.,    # center of pads (coupler; not the junction area)\n",
    "    ypos = 46000 - 17 + 3 + 890 ,\n",
    ")"
   ]
  },
  {
   "cell_type": "code",
   "execution_count": 258,
   "id": "d462379c",
   "metadata": {},
   "outputs": [
    {
     "data": {
      "text/plain": [
       "-837"
      ]
     },
     "execution_count": 258,
     "metadata": {},
     "output_type": "execute_result"
    }
   ],
   "source": [
    "813-250-1400"
   ]
  },
  {
   "cell_type": "code",
   "execution_count": 259,
   "id": "1ee8f015",
   "metadata": {},
   "outputs": [
    {
     "data": {
      "text/plain": [
       "46876"
      ]
     },
     "execution_count": 259,
     "metadata": {},
     "output_type": "execute_result"
    }
   ],
   "source": [
    "46000 - 17 + 3 + 890"
   ]
  },
  {
   "cell_type": "code",
   "execution_count": 260,
   "id": "bf022e40",
   "metadata": {},
   "outputs": [
    {
     "data": {
      "text/plain": [
       "2725.0"
      ]
     },
     "execution_count": 260,
     "metadata": {},
     "output_type": "execute_result"
    }
   ],
   "source": [
    "5450 / 2."
   ]
  },
  {
   "cell_type": "code",
   "execution_count": 261,
   "id": "dd61f596",
   "metadata": {},
   "outputs": [],
   "source": [
    "# Loop configuration (was 'loop')\n",
    "loop_configs = dict(\n",
    "    x=31 + 0.65 * 2,\n",
    "    y=14,\n",
    "    gap=0.2,\n",
    "    gap_wide=0.7,\n",
    "    width=4,\n",
    "    overlap=23,\n",
    ")"
   ]
  },
  {
   "cell_type": "code",
   "execution_count": 262,
   "id": "5db6834d",
   "metadata": {},
   "outputs": [],
   "source": [
    "\n",
    "# Junction configuration (was 'djj')\n",
    "junction_configs = dict(\n",
    "    bar_width=loop_configs['width'],\n",
    "    bar_length1=2,\n",
    "    bar_length2=2,\n",
    "    taper_length=3,\n",
    "    jj_length=0.8,\n",
    "    # jj_width=junc_correction['width'],\n",
    "    # jj_gap=junc_correction['gap'],\n",
    "    right_half_junction_width=2,\n",
    "    short = False, \n",
    "    open = False,\n",
    ")"
   ]
  },
  {
   "cell_type": "markdown",
   "id": "1bb48744",
   "metadata": {},
   "source": [
    "### test structure configs"
   ]
  },
  {
   "cell_type": "code",
   "execution_count": 263,
   "id": "8e8cf452",
   "metadata": {},
   "outputs": [],
   "source": [
    "\n",
    "from copy import copy\n",
    "test_structure_configs = copy(coupler_configs)\n",
    "test_structure_configs.update(\n",
    "    dict(\n",
    "       \n",
    "        left_padx=800,\n",
    "        left_pady=600,\n",
    "        right_padx=800,\n",
    "        right_pady=800,\n",
    "        # bar_thick=100,\n",
    "        bar_length=200,\n",
    "        thin_bar_length=100,\n",
    "\n",
    "        width_long_left_pad = 50,\n",
    "        squid_movey=0,  # coupler center position\n",
    "    )\n",
    ")\n",
    "yoffset = 900\n",
    "test_structure_coords = [(5450 / 4., 46000 + 5000 + 600 ),\n",
    "                         (5450 / 4., 46000 + 5000 +600 - yoffset),\n",
    "                         (3*5450 / 4., 46000 + 5000 + 600 ),\n",
    "                         (3*5450 / 4., 46000 + 5000 +600 - yoffset),\n",
    "                         # shorts and opens\n",
    "                         (5450 / 4., 46000 + 5000 +600 - 2*yoffset),\n",
    "                         (3*5450 / 4., 46000 + 5000 +600 - 2*yoffset),\n",
    "                         ]\n",
    "                         #(5450 / 2. + 1000, 46000 - 17 + 3 + 100)]\n",
    "test_substructure_configs =[{'short': False, 'open':False},\n",
    "                            {'short': False, 'open':False},\n",
    "                            {'short': False, 'open':False},\n",
    "                            {'short': False, 'open':False},\n",
    "                            {'short': True, 'open':False},\n",
    "                            {'short': False, 'open':True},\n",
    "                            ]"
   ]
  },
  {
   "cell_type": "markdown",
   "id": "fdce5147",
   "metadata": {},
   "source": [
    "### Chip Generation"
   ]
  },
  {
   "cell_type": "code",
   "execution_count": 264,
   "id": "2142e080",
   "metadata": {},
   "outputs": [],
   "source": [
    "draw_optical = False\n",
    "# draw_optical = False\n",
    "# draw_ebeam = False\n",
    "draw_ebeam = True\n",
    "two_layer = True if draw_ebeam == 1 else False"
   ]
  },
  {
   "cell_type": "code",
   "execution_count": 265,
   "id": "3b4f64ae",
   "metadata": {},
   "outputs": [
    {
     "name": "stdout",
     "output_type": "stream",
     "text": [
      "Drawing chip A with junc_correction={'width': 0.79, 'gap': 0.2}, flip=False, type=1\n",
      "Drawing test structure at (1362.5, 51600)\n",
      "idx :  0\n",
      "Drawing test structure at (1362.5, 50700)\n",
      "idx :  1\n",
      "Drawing test structure at (4087.5, 51600)\n",
      "idx :  2\n",
      "Drawing test structure at (4087.5, 50700)\n",
      "idx :  3\n",
      "Drawing test structure at (1362.5, 49800)\n",
      "idx :  4\n",
      "Drawing test structure at (4087.5, 49800)\n",
      "idx :  5\n",
      "Drawing chip B with junc_correction={'width': 0.31, 'gap': 0.2}, flip=False, type=1\n",
      "Drawing test structure at (1362.5, 51600)\n",
      "idx :  0\n",
      "Drawing test structure at (1362.5, 50700)\n",
      "idx :  1\n",
      "Drawing test structure at (4087.5, 51600)\n",
      "idx :  2\n",
      "Drawing test structure at (4087.5, 50700)\n",
      "idx :  3\n",
      "Drawing test structure at (1362.5, 49800)\n",
      "idx :  4\n",
      "Drawing test structure at (4087.5, 49800)\n",
      "idx :  5\n",
      "Drawing chip C with junc_correction={'width': 0.2, 'gap': 0.2}, flip=False, type=1\n",
      "Drawing test structure at (1362.5, 51600)\n",
      "idx :  0\n",
      "Drawing test structure at (1362.5, 50700)\n",
      "idx :  1\n",
      "Drawing test structure at (4087.5, 51600)\n",
      "idx :  2\n",
      "Drawing test structure at (4087.5, 50700)\n",
      "idx :  3\n",
      "Drawing test structure at (1362.5, 49800)\n",
      "idx :  4\n",
      "Drawing test structure at (4087.5, 49800)\n",
      "idx :  5\n"
     ]
    }
   ],
   "source": [
    "chips = []\n",
    "author = 'Eesh Gupta'\n",
    "for idx, (junc_correction, flip, CHIPNAME, type_) in enumerate(chip_configs):\n",
    "    print(f\"Drawing chip {CHIPNAME} with junc_correction={junc_correction}, flip={flip}, type={type_}\")\n",
    "    chip_id_loc = (50, 50) if idx < 2 else (100, 50)\n",
    "\n",
    "    \n",
    "    c = Chip(CHIPNAME, author=author, size=m.chip_size, mask_id_loc=(5800, 6430),\n",
    "                chip_id_loc=chip_id_loc, textsize=(300, 300), two_layer=two_layer, solid=False)\n",
    "\n",
    "    full_chip_drawer = MultimodeCouplerChip(structure = c, chip_defaults=chip_defaults, flip=flip)\n",
    "    if draw_optical: \n",
    "        draw_marks = True if idx == 0 or idx == (len(chip_configs)-1) else False\n",
    "        full_chip_drawer.draw_alignment_marks(draw_marks=draw_marks)\n",
    "\n",
    "    if draw_optical:\n",
    "        full_chip_drawer.draw_coupler_optical(balun_configs=balun_configs, coupler_configs=coupler_configs)\n",
    "        for idx_test, (xpos, ypos) in enumerate(test_structure_coords):\n",
    "            print(f\"Drawing test structure at ({xpos}, {ypos})\")\n",
    "            test_structure_configs['xpos'] = xpos\n",
    "            test_structure_configs['ypos'] = ypos\n",
    "            full_chip_drawer.draw_coupler_optical(balun_configs=balun_configs, coupler_configs=test_structure_configs,\n",
    "                                                  flux_line_bool=False)#, short=test_substructure_configs[idx_test]['short'])\n",
    "        # test structure name\n",
    "        c.label_chip(drawing=c, maskid=None, chipid=c.name,\n",
    "                     author=c.author, offset=(100, 48500))\n",
    "        # CHIP NAME\n",
    "        c.label_chip(drawing=c, maskid=None, chipid=c.name,\n",
    "                     author=c.author, offset=chip_id_loc)\n",
    "    if draw_ebeam:\n",
    "        j_conf_for_chip = copy(junction_configs)\n",
    "        loop_configs_for_chip = copy(loop_configs)\n",
    "        full_chip_drawer.draw_coupler_ebeam(loop_configs=loop_configs_for_chip, junction_configs=j_conf_for_chip,\n",
    "                                            junc_correction=junc_correction)\n",
    "        for idx_test, (xpos, ypos) in enumerate(test_structure_coords):\n",
    "            print(f\"Drawing test structure at ({xpos}, {ypos})\")\n",
    "            print('idx : ', idx_test)\n",
    "            j_conf_for_chip['xpos'] = xpos\n",
    "            j_conf_for_chip['ypos'] = ypos + 11\n",
    "            # print('test structure short : ', test_substructure_configs[idx_test]['short'])\n",
    "            # print('test structure open : ', test_substructure_configs[idx_test]['open'])\n",
    "            # short_or_open = test_substructure_configs[idx_test]['short'] or test_substructure_configs[idx_test]['open']\n",
    "\n",
    "            j_conf_for_chip['short'] = test_substructure_configs[idx_test]['short']\n",
    "            j_conf_for_chip['open'] = test_substructure_configs[idx_test]['open']\n",
    "            full_chip_drawer.draw_coupler_ebeam(loop_configs=loop_configs_for_chip, junction_configs=j_conf_for_chip,\n",
    "                                            junc_correction=junc_correction)\n",
    "        \n",
    "    chips.append(c)"
   ]
  },
  {
   "cell_type": "code",
   "execution_count": 266,
   "id": "a06b8610",
   "metadata": {},
   "outputs": [
    {
     "data": {
      "text/plain": [
       "{'bar_width': 4,\n",
       " 'bar_length1': 2,\n",
       " 'bar_length2': 2,\n",
       " 'taper_length': 3,\n",
       " 'jj_length': 0.8,\n",
       " 'right_half_junction_width': 2,\n",
       " 'short': False,\n",
       " 'open': False}"
      ]
     },
     "execution_count": 266,
     "metadata": {},
     "output_type": "execute_result"
    }
   ],
   "source": [
    "junction_configs"
   ]
  },
  {
   "cell_type": "markdown",
   "id": "38468c93",
   "metadata": {},
   "source": [
    "## Addings Chips to wafer"
   ]
  },
  {
   "cell_type": "code",
   "execution_count": 267,
   "id": "e9673b0c",
   "metadata": {},
   "outputs": [
    {
     "name": "stdout",
     "output_type": "stream",
     "text": [
      "[<mask_maker.sdxf.Layer object at 0x000001D5FEBC60D0>, <mask_maker.sdxf.Layer object at 0x000001D59E40D750>, <mask_maker.sdxf.Layer object at 0x000001D59E2E99D0>]\n",
      "GAP\n",
      "PIN\n",
      "[<mask_maker.sdxf.Layer object at 0x000001D5FEBC60D0>, <mask_maker.sdxf.Layer object at 0x000001D59E2EACD0>, <mask_maker.sdxf.Layer object at 0x000001D59E2E9010>]\n",
      "GAP\n",
      "PIN\n",
      "[<mask_maker.sdxf.Layer object at 0x000001D5FEBC60D0>, <mask_maker.sdxf.Layer object at 0x000001D59EB5EE50>, <mask_maker.sdxf.Layer object at 0x000001D59EB5D250>]\n",
      "GAP\n",
      "PIN\n"
     ]
    },
    {
     "data": {
      "text/plain": [
       "['C:\\\\Users\\\\eeshg\\\\Documents\\\\multimode_sims\\\\Design\\\\coupler\\\\LMM3_Jaddu\\\\designs_dxf\\\\JADDU_COUPLER_JUNC-A.dxf',\n",
       " 'C:\\\\Users\\\\eeshg\\\\Documents\\\\multimode_sims\\\\Design\\\\coupler\\\\LMM3_Jaddu\\\\designs_dxf\\\\JADDU_COUPLER_JUNC-B.dxf',\n",
       " 'C:\\\\Users\\\\eeshg\\\\Documents\\\\multimode_sims\\\\Design\\\\coupler\\\\LMM3_Jaddu\\\\designs_dxf\\\\JADDU_COUPLER_JUNC-C.dxf']"
      ]
     },
     "execution_count": 267,
     "metadata": {},
     "output_type": "execute_result"
    }
   ],
   "source": [
    "# add chips to wafer\n",
    "chip_fnames = []\n",
    "for idx, c in enumerate(chips[:18]):\n",
    "    name = m.add_chip(c, 1, label= True, save_folder=save_folder)\n",
    "    chip_fnames.append(name)\n",
    "chip_fnames"
   ]
  },
  {
   "cell_type": "code",
   "execution_count": 268,
   "id": "cb3d7c9e",
   "metadata": {},
   "outputs": [],
   "source": [
    "with open(\"chip_names_coupler.txt\", \"w\") as f:\n",
    "    for name in chip_fnames:\n",
    "        f.write(name + \"\\n\")"
   ]
  },
  {
   "cell_type": "code",
   "execution_count": null,
   "id": "2ee9abe0",
   "metadata": {},
   "outputs": [],
   "source": []
  },
  {
   "cell_type": "markdown",
   "id": "3c0cba9d",
   "metadata": {},
   "source": [
    "# Output Wafer"
   ]
  },
  {
   "cell_type": "code",
   "execution_count": 269,
   "id": "96abbab8",
   "metadata": {},
   "outputs": [
    {
     "name": "stdout",
     "output_type": "stream",
     "text": [
      "\n",
      "\n",
      " Chip names are:\n",
      "_____________________\n",
      "_____________________\n",
      "\n",
      "\n"
     ]
    }
   ],
   "source": [
    "import os\n",
    "import subprocess\n",
    "from time import sleep\n",
    "\n",
    "def save_and_open_mask(m, folder_path, klayout_path, sleep_time=0.1):\n",
    "\n",
    "    mask_name = m.name\n",
    "    mask_file_path = os.path.join(folder_path, mask_name + '.dxf')\n",
    "    m.save(name=mask_file_path)\n",
    "\n",
    "    print(\"\\n\\n Chip names are:\")\n",
    "    print(\"_____________________\")\n",
    "    # for name in chip_names:\n",
    "    #     print(name)\n",
    "    print(\"_____________________\\n\\n\")\n",
    "\n",
    "    sleep(sleep_time)\n",
    "\n",
    "    def open_klayout_app(klayout_path, mask_file_path):\n",
    "        subprocess.Popen(f'\"{klayout_path}\" \"{mask_file_path}\" -e')\n",
    "\n",
    "    open_klayout_app(klayout_path, mask_file_path)\n",
    "\n",
    "# Usage:\n",
    "folder_path = save_folder\n",
    "klayout_path = r\"C:\\Users\\eeshg\\AppData\\Roaming\\KLayout\\klayout_app\"\n",
    "save_and_open_mask(m, folder_path, klayout_path)\n"
   ]
  },
  {
   "cell_type": "code",
   "execution_count": null,
   "id": "fd2373d1",
   "metadata": {},
   "outputs": [],
   "source": []
  }
 ],
 "metadata": {
  "kernelspec": {
   "display_name": "klayout_env",
   "language": "python",
   "name": "python3"
  },
  "language_info": {
   "codemirror_mode": {
    "name": "ipython",
    "version": 3
   },
   "file_extension": ".py",
   "mimetype": "text/x-python",
   "name": "python",
   "nbconvert_exporter": "python",
   "pygments_lexer": "ipython3",
   "version": "3.11.5"
  }
 },
 "nbformat": 4,
 "nbformat_minor": 5
}
