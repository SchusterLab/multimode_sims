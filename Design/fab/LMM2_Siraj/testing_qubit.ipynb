{
 "cells": [
  {
   "cell_type": "markdown",
   "id": "8ea58999",
   "metadata": {},
   "source": []
  },
  {
   "cell_type": "code",
   "execution_count": 829,
   "id": "ed186a55",
   "metadata": {},
   "outputs": [],
   "source": [
    "import numpy as np"
   ]
  },
  {
   "cell_type": "code",
   "execution_count": 830,
   "id": "cc6f8c57",
   "metadata": {},
   "outputs": [],
   "source": [
    "import sys\n",
    "sys.path.append(r\"C:\\_Lib\\python\")\n",
    "sys.path.append(r\"C:\\Users\\eeshg\\Documents\\multimode_sims\\Design\\coupler\")\n",
    "\n",
    "from mask_maker import * \n",
    "# from slab.circuits.mp_components import *"
   ]
  },
  {
   "cell_type": "code",
   "execution_count": 831,
   "id": "f1f8e1c2",
   "metadata": {},
   "outputs": [
    {
     "name": "stdout",
     "output_type": "stream",
     "text": [
      "The autoreload extension is already loaded. To reload it, use:\n",
      "  %reload_ext autoreload\n"
     ]
    }
   ],
   "source": [
    "\n",
    "%load_ext autoreload\n",
    "%autoreload 2"
   ]
  },
  {
   "cell_type": "code",
   "execution_count": 832,
   "id": "e85e15ea",
   "metadata": {},
   "outputs": [],
   "source": [
    "from mm_qubit import *\n",
    "from mm_chips_base import * "
   ]
  },
  {
   "cell_type": "markdown",
   "id": "10e1beb0",
   "metadata": {},
   "source": [
    "# Imports"
   ]
  },
  {
   "cell_type": "code",
   "execution_count": null,
   "id": "c83df455",
   "metadata": {},
   "outputs": [],
   "source": [
    "\n",
    "\n"
   ]
  },
  {
   "cell_type": "markdown",
   "id": "cf1ceee3",
   "metadata": {},
   "source": [
    "# Mask Generation"
   ]
  },
  {
   "cell_type": "markdown",
   "id": "a13aa1b0",
   "metadata": {},
   "source": [
    "## Wafer Initialization\n",
    "\n",
    " 4in wafer -> diameter=101600, flat_distance=48200\n",
    "\n",
    "\n",
    " 3in wafer -> diameter=76200., flat_distance=37100.\n",
    "\n",
    " \n",
    " 2in wafer -> diameter=50800., flat_distance=24100."
   ]
  },
  {
   "cell_type": "code",
   "execution_count": 833,
   "id": "5c3a3cae",
   "metadata": {},
   "outputs": [
    {
     "name": "stdout",
     "output_type": "stream",
     "text": [
      "Maximum number of rows=3 and cols=53\n",
      "Room for 113 chips on wafer.\n"
     ]
    }
   ],
   "source": [
    "MaskName = 'SirajQubit_skinny_juncs'\n",
    "save_folder=r\"C:\\Users\\eeshg\\Documents\\multimode_sims\\Design\\coupler\\Siraj1\\designs_dxf\"\n",
    "# m = WaferMask(MaskName, diameter=101600., flat_angle=270., flat_distance=48200., wafer_padding=2500,\n",
    "#                   chip_size=(1600, 25950),\n",
    "#                   dicing_border=400, etchtype=False, wafer_edge=False,\n",
    "#                   dashed_dicing_border=80, ndashes=3, dice_corner=True, square_arr=False)\n",
    "m = WaferMask(MaskName, diameter=101600., flat_angle=270., flat_distance=48200., wafer_padding=2500,\n",
    "                  chip_size=(1600, 25950),\n",
    "                  dicing_border=200, etchtype=False, wafer_edge=True,\n",
    "                  dashed_dicing_border=80, ndashes=0, dice_corner=False, square_arr=False)"
   ]
  },
  {
   "cell_type": "markdown",
   "id": "838cf71d",
   "metadata": {},
   "source": [
    "## Chips"
   ]
  },
  {
   "cell_type": "code",
   "execution_count": 834,
   "id": "8db73234",
   "metadata": {},
   "outputs": [],
   "source": [
    "## Iniatilization\n",
    "mm_chips_base = MMChipsBase()\n",
    "chip_defaults = mm_chips_base.set_mask_init()"
   ]
  },
  {
   "cell_type": "markdown",
   "id": "c9107c4b",
   "metadata": {},
   "source": [
    "### Chip Configs"
   ]
  },
  {
   "cell_type": "code",
   "execution_count": 835,
   "id": "c6b3aa78",
   "metadata": {},
   "outputs": [],
   "source": [
    "import itertools\n",
    "\n",
    "# Generate 25 unique (width, gap) pairs\n",
    "widths = np.round(np.linspace(0.3, 0.9, 12), 2)\n",
    "gaps = [0.2,0.15]\n",
    "width_gap_pairs = list(itertools.product(widths, gaps))[:25]\n",
    "\n",
    "chip_configs = [\n",
    "    ({'width': float(w), 'gap': float(g)}, False, f'Q{i+1}')#, 1 if i % 2 == 0 else 0)\n",
    "    for i, (w, g) in enumerate(width_gap_pairs)\n",
    "]\n",
    "\n",
    "chip_configs.append(({'width': 1.0, 'gap': 0.2}, False, 'Q25'))  # Add a custom chip config for Q11\n"
   ]
  },
  {
   "cell_type": "code",
   "execution_count": 836,
   "id": "849895e7",
   "metadata": {},
   "outputs": [
    {
     "data": {
      "text/plain": [
       "[({'width': 0.3, 'gap': 0.2}, False, 'Q1'),\n",
       " ({'width': 0.3, 'gap': 0.15}, False, 'Q2'),\n",
       " ({'width': 0.35, 'gap': 0.2}, False, 'Q3'),\n",
       " ({'width': 0.35, 'gap': 0.15}, False, 'Q4'),\n",
       " ({'width': 0.41, 'gap': 0.2}, False, 'Q5'),\n",
       " ({'width': 0.41, 'gap': 0.15}, False, 'Q6'),\n",
       " ({'width': 0.46, 'gap': 0.2}, False, 'Q7'),\n",
       " ({'width': 0.46, 'gap': 0.15}, False, 'Q8'),\n",
       " ({'width': 0.52, 'gap': 0.2}, False, 'Q9'),\n",
       " ({'width': 0.52, 'gap': 0.15}, False, 'Q10'),\n",
       " ({'width': 0.57, 'gap': 0.2}, False, 'Q11'),\n",
       " ({'width': 0.57, 'gap': 0.15}, False, 'Q12'),\n",
       " ({'width': 0.63, 'gap': 0.2}, False, 'Q13'),\n",
       " ({'width': 0.63, 'gap': 0.15}, False, 'Q14'),\n",
       " ({'width': 0.68, 'gap': 0.2}, False, 'Q15'),\n",
       " ({'width': 0.68, 'gap': 0.15}, False, 'Q16'),\n",
       " ({'width': 0.74, 'gap': 0.2}, False, 'Q17'),\n",
       " ({'width': 0.74, 'gap': 0.15}, False, 'Q18'),\n",
       " ({'width': 0.79, 'gap': 0.2}, False, 'Q19'),\n",
       " ({'width': 0.79, 'gap': 0.15}, False, 'Q20'),\n",
       " ({'width': 0.85, 'gap': 0.2}, False, 'Q21'),\n",
       " ({'width': 0.85, 'gap': 0.15}, False, 'Q22'),\n",
       " ({'width': 0.9, 'gap': 0.2}, False, 'Q23'),\n",
       " ({'width': 0.9, 'gap': 0.15}, False, 'Q24'),\n",
       " ({'width': 1.0, 'gap': 0.2}, False, 'Q25')]"
      ]
     },
     "execution_count": 836,
     "metadata": {},
     "output_type": "execute_result"
    }
   ],
   "source": [
    "chip_configs"
   ]
  },
  {
   "cell_type": "markdown",
   "id": "9e0b7d7a",
   "metadata": {},
   "source": [
    "## Configs specific to Multimode Qubit Chip"
   ]
  },
  {
   "cell_type": "code",
   "execution_count": 837,
   "id": "c959949e",
   "metadata": {},
   "outputs": [],
   "source": [
    "qubit_optical_configs= {\n",
    "    'x_thin': 30,\n",
    "    'y_right_thin': 350,\n",
    "    'x_right_thick': 150,\n",
    "    'y_right_thick': 3100,\n",
    "    'y_left_thin': 370,\n",
    "    'x_left_thick': 150,\n",
    "    'y_left_thick': 4100,\n",
    "    'jjgap': 30,\n",
    "    'xpos': 1000 - 200,\n",
    "    'ypos': 17700 - 200 + 7780 + 350,\n",
    "    \n",
    "}"
   ]
  },
  {
   "cell_type": "code",
   "execution_count": 838,
   "id": "4fbad18e",
   "metadata": {},
   "outputs": [],
   "source": [
    "test_qubit_optical_configs = {\n",
    "    'x_thin': 30,\n",
    "    'y_right_thin': 100,\n",
    "    'x_right_thick': 800,\n",
    "    'y_right_thick': 800,\n",
    "    'y_left_thin': 100,\n",
    "    'x_left_thick': 800,\n",
    "    'y_left_thick': 800,\n",
    "    'jjgap': 30,\n",
    "}\n",
    "test_qubit_optical_posns = [\n",
    "    (800, 3000+200), \n",
    "    (800, 5500+200),\n",
    "    (800, 8000+200),\n",
    "]"
   ]
  },
  {
   "cell_type": "code",
   "execution_count": 839,
   "id": "5f4304b2",
   "metadata": {},
   "outputs": [],
   "source": [
    "\n",
    "qubit_junction_configs = dict(\n",
    "    bar_width=20,\n",
    "    bar_length=17,\n",
    "    thin_bar_length = 8, # this is the length for top bar\n",
    "    # taper_length=5, # this i\n",
    "    taper_length1=5,  # this is the first taper (bottom bar)\n",
    "    taper_length2=5,  # this is the second taper (bottom bar) \n",
    "    thin_bar_width1=2,  # this is the width of the first thin bar\n",
    "    thin_bar_length1=2.5,  # this is the length of the first thin bar (bottom bar)\n",
    "    thin_bar_length2=2.5,  # this is the length of the second thin bar(bottom bar)\n",
    "    top_bar_taper_length=5,\n",
    "    jj_length=0.8,\n",
    "    # jj_width=junc_correction['width'],\n",
    "    # jj_gap=junc_correction['gap'],\n",
    "    top_bar_jj_width=2,\n",
    "    # under cut parameters \n",
    "    undercut_width = 0.2,\n",
    "    undercut_width_pads = 0.7,\n",
    "    # for horizontal oriented junctions 07/27 blunder\n",
    "    # horizontal_l_arm = 70+15,\n",
    "    # bend_radius = 5,\n",
    "\n",
    ")\n"
   ]
  },
  {
   "cell_type": "markdown",
   "id": "fdce5147",
   "metadata": {},
   "source": [
    "### Chip Generation"
   ]
  },
  {
   "cell_type": "code",
   "execution_count": null,
   "id": "2142e080",
   "metadata": {},
   "outputs": [],
   "source": [
    "draw_optical = True\n",
    "# draw_optical = False\n",
    "draw_ebeam = True\n",
    "# draw_ebeam = False\n",
    "two_layer = True if draw_ebeam == 1 else False"
   ]
  },
  {
   "cell_type": "code",
   "execution_count": 841,
   "id": "3b4f64ae",
   "metadata": {},
   "outputs": [
    {
     "name": "stdout",
     "output_type": "stream",
     "text": [
      "flag1 0\n",
      "flag1 0\n",
      "flag1 0\n",
      "flag1 0\n",
      "flag1 0\n",
      "flag1 0\n",
      "flag1 0\n",
      "flag1 0\n",
      "flag1 0\n",
      "flag1 0\n",
      "flag1 0\n",
      "flag1 0\n",
      "flag1 0\n",
      "flag1 0\n",
      "flag1 0\n",
      "flag1 0\n",
      "flag1 0\n",
      "flag1 0\n",
      "flag1 0\n",
      "flag1 0\n",
      "flag1 0\n",
      "flag1 0\n",
      "flag1 0\n",
      "flag1 0\n",
      "flag1 0\n",
      "flag1 0\n",
      "flag1 0\n",
      "flag1 0\n",
      "flag1 0\n",
      "flag1 0\n",
      "flag1 0\n",
      "flag1 0\n",
      "flag1 0\n",
      "flag1 0\n",
      "flag1 0\n",
      "flag1 0\n",
      "flag1 0\n",
      "flag1 0\n",
      "flag1 0\n",
      "flag1 0\n",
      "flag1 0\n",
      "flag1 0\n",
      "flag1 0\n",
      "flag1 0\n",
      "flag1 0\n",
      "flag1 0\n",
      "flag1 0\n",
      "flag1 0\n",
      "flag1 0\n",
      "flag1 0\n",
      "flag1 0\n",
      "flag1 0\n",
      "flag1 0\n",
      "flag1 0\n",
      "flag1 0\n",
      "flag1 0\n",
      "flag1 0\n",
      "flag1 0\n",
      "flag1 0\n",
      "flag1 0\n",
      "flag1 0\n",
      "flag1 0\n",
      "flag1 0\n",
      "flag1 0\n",
      "flag1 0\n",
      "flag1 0\n",
      "flag1 0\n",
      "flag1 0\n",
      "flag1 0\n",
      "flag1 0\n",
      "flag1 0\n",
      "flag1 0\n",
      "flag1 0\n",
      "flag1 0\n",
      "flag1 0\n",
      "flag1 0\n",
      "flag1 0\n",
      "flag1 0\n",
      "flag1 0\n",
      "flag1 0\n",
      "flag1 0\n",
      "flag1 0\n",
      "flag1 0\n",
      "flag1 0\n",
      "flag1 0\n",
      "flag1 0\n",
      "flag1 0\n",
      "flag1 0\n",
      "flag1 0\n",
      "flag1 0\n",
      "flag1 0\n",
      "flag1 0\n",
      "flag1 0\n",
      "flag1 0\n",
      "flag1 0\n",
      "flag1 0\n",
      "flag1 0\n",
      "flag1 0\n",
      "flag1 0\n",
      "flag1 0\n"
     ]
    }
   ],
   "source": [
    "chips = []\n",
    "author = 'Eesh Gupta'\n",
    "# flag flips the junction vertically \n",
    "for idx, (junc_correction, flip, name) in enumerate(chip_configs):\n",
    "    chip = Chip(\n",
    "        name,\n",
    "        author=\"\",\n",
    "        size=m.chip_size,\n",
    "        mask_id_loc=(5800, 6430),\n",
    "        chip_id_loc=(200, 100),\n",
    "        textsize=(70, 70),\n",
    "        two_layer=two_layer,\n",
    "        solid=False,\n",
    "    )\n",
    "    full_chip_drawer = MultimodeQubitChip(structure=chip, chip_defaults=chip_defaults, flip=flip)\n",
    "    full_chip_drawer.chipInit(c, defaults=chip_defaults)\n",
    "    if draw_optical: \n",
    "        draw_marks = True if idx == 0 or idx == (len(chip_configs)-1) else False\n",
    "        full_chip_drawer.draw_alignment_marks(draw_marks=draw_marks)\n",
    "\n",
    "    if draw_optical:\n",
    "        full_chip_drawer.draw_multimode_qubit_optical(qubit_optical_configs=qubit_optical_configs,\n",
    "                                                      flag = not flip,xpos= qubit_optical_configs['xpos'],\n",
    "                                                      ypos= qubit_optical_configs['ypos'])\n",
    "        #test structures\n",
    "        for idx, (xpos, ypos) in enumerate(test_qubit_optical_posns):\n",
    "            full_chip_drawer.draw_multimode_qubit_optical(qubit_optical_configs=test_qubit_optical_configs,\n",
    "                                                          flag = not flip, \n",
    "                                                          xpos = xpos, ypos = ypos)\n",
    "        \n",
    "    if draw_ebeam:\n",
    "        # print(f\"Drawing e-beam features for {name} with flip={flip}\")\n",
    "        full_chip_drawer.draw_multimode_qubit_ebeam(junction_configs=qubit_junction_configs,\n",
    "                                                    junc_correction=junc_correction, flag= not flip, \n",
    "                                                    xpos = qubit_optical_configs['xpos'],\n",
    "                                                    ypos = qubit_optical_configs['ypos'] - qubit_optical_configs['y_left_thick'] - qubit_optical_configs['y_left_thin'] - qubit_optical_configs['jjgap'] )#- qubit_optical_configs['x_thin'])\n",
    "        ##test structures\n",
    "        for idx, (xpos, ypos) in enumerate(test_qubit_optical_posns):\n",
    "            full_chip_drawer.draw_multimode_qubit_ebeam(junction_configs=qubit_junction_configs,\n",
    "                                                        junc_correction=junc_correction, flag= not flip,\n",
    "                                                        xpos = xpos, \n",
    "                                                        ypos = ypos - test_qubit_optical_configs['y_left_thick'] - test_qubit_optical_configs['y_left_thin'] - test_qubit_optical_configs['jjgap'] )#- test_qubit_optical_configs['x_thin'])\n",
    "\n",
    "    # draw_bridge_junction(chip, d, junc_correction, flip)\n",
    "    chips.append(chip)\n",
    "\n",
    "\n",
    "\n"
   ]
  },
  {
   "cell_type": "code",
   "execution_count": 842,
   "id": "4aa94d1c",
   "metadata": {},
   "outputs": [
    {
     "data": {
      "text/plain": [
       "0"
      ]
     },
     "execution_count": 842,
     "metadata": {},
     "output_type": "execute_result"
    }
   ],
   "source": [
    "square"
   ]
  },
  {
   "cell_type": "markdown",
   "id": "38468c93",
   "metadata": {},
   "source": [
    "## Addings Chips to wafer"
   ]
  },
  {
   "cell_type": "code",
   "execution_count": 843,
   "id": "e9673b0c",
   "metadata": {},
   "outputs": [
    {
     "name": "stdout",
     "output_type": "stream",
     "text": [
      "[<mask_maker.sdxf.Layer object at 0x000001FA53D838C0>, <mask_maker.sdxf.Layer object at 0x000001FA5B3F7460>, <mask_maker.sdxf.Layer object at 0x000001FA5B3F47C0>]\n",
      "GAP\n",
      "PIN\n",
      "[<mask_maker.sdxf.Layer object at 0x000001FA53D838C0>, <mask_maker.sdxf.Layer object at 0x000001FA5B3F73F0>, <mask_maker.sdxf.Layer object at 0x000001FA5B3F7310>]\n",
      "GAP\n",
      "PIN\n",
      "[<mask_maker.sdxf.Layer object at 0x000001FA53D838C0>, <mask_maker.sdxf.Layer object at 0x000001FA5B3F74D0>, <mask_maker.sdxf.Layer object at 0x000001FA5B3F78C0>]\n",
      "GAP\n",
      "PIN\n",
      "[<mask_maker.sdxf.Layer object at 0x000001FA53D838C0>, <mask_maker.sdxf.Layer object at 0x000001FA5B3F7230>, <mask_maker.sdxf.Layer object at 0x000001FA5B3F4520>]\n",
      "GAP\n",
      "PIN\n",
      "[<mask_maker.sdxf.Layer object at 0x000001FA53D838C0>, <mask_maker.sdxf.Layer object at 0x000001FA5B3F7380>, <mask_maker.sdxf.Layer object at 0x000001FA5B3F7150>]\n",
      "GAP\n",
      "PIN\n",
      "[<mask_maker.sdxf.Layer object at 0x000001FA53D838C0>, <mask_maker.sdxf.Layer object at 0x000001FA5B3F4210>, <mask_maker.sdxf.Layer object at 0x000001FA5B3F6F20>]\n",
      "GAP\n",
      "PIN\n",
      "[<mask_maker.sdxf.Layer object at 0x000001FA53D838C0>, <mask_maker.sdxf.Layer object at 0x000001FA5B3F6F90>, <mask_maker.sdxf.Layer object at 0x000001FA5B3F5BE0>]\n",
      "GAP\n",
      "PIN\n",
      "[<mask_maker.sdxf.Layer object at 0x000001FA53D838C0>, <mask_maker.sdxf.Layer object at 0x000001FA5B3F7070>, <mask_maker.sdxf.Layer object at 0x000001FA5B3F40C0>]\n",
      "GAP\n",
      "PIN\n",
      "[<mask_maker.sdxf.Layer object at 0x000001FA53D838C0>, <mask_maker.sdxf.Layer object at 0x000001FA5B3F6820>, <mask_maker.sdxf.Layer object at 0x000001FA5B3F5940>]\n",
      "GAP\n",
      "PIN\n",
      "[<mask_maker.sdxf.Layer object at 0x000001FA53D838C0>, <mask_maker.sdxf.Layer object at 0x000001FA5B3F6A50>, <mask_maker.sdxf.Layer object at 0x000001FA5B3F72A0>]\n",
      "GAP\n",
      "PIN\n",
      "[<mask_maker.sdxf.Layer object at 0x000001FA53D838C0>, <mask_maker.sdxf.Layer object at 0x000001FA5B3F7620>, <mask_maker.sdxf.Layer object at 0x000001FA5B3F6C10>]\n",
      "GAP\n",
      "PIN\n",
      "[<mask_maker.sdxf.Layer object at 0x000001FA53D838C0>, <mask_maker.sdxf.Layer object at 0x000001FA5B3F70E0>, <mask_maker.sdxf.Layer object at 0x000001FA5B3F4670>]\n",
      "GAP\n",
      "PIN\n",
      "[<mask_maker.sdxf.Layer object at 0x000001FA53D838C0>, <mask_maker.sdxf.Layer object at 0x000001FA5B3F44B0>, <mask_maker.sdxf.Layer object at 0x000001FA5B3F7A10>]\n",
      "GAP\n",
      "PIN\n",
      "[<mask_maker.sdxf.Layer object at 0x000001FA53D838C0>, <mask_maker.sdxf.Layer object at 0x000001FA5B3F7A80>, <mask_maker.sdxf.Layer object at 0x000001FA5B3F7AF0>]\n",
      "GAP\n",
      "PIN\n",
      "[<mask_maker.sdxf.Layer object at 0x000001FA53D838C0>, <mask_maker.sdxf.Layer object at 0x000001FA5B3F62E0>, <mask_maker.sdxf.Layer object at 0x000001FA5B3F5B00>]\n",
      "GAP\n",
      "PIN\n",
      "[<mask_maker.sdxf.Layer object at 0x000001FA53D838C0>, <mask_maker.sdxf.Layer object at 0x000001FA5B3F77E0>, <mask_maker.sdxf.Layer object at 0x000001FA596CFF50>]\n",
      "GAP\n",
      "PIN\n",
      "[<mask_maker.sdxf.Layer object at 0x000001FA53D838C0>, <mask_maker.sdxf.Layer object at 0x000001FA55ACAEB0>, <mask_maker.sdxf.Layer object at 0x000001FA5A746DD0>]\n",
      "GAP\n",
      "PIN\n",
      "[<mask_maker.sdxf.Layer object at 0x000001FA53D838C0>, <mask_maker.sdxf.Layer object at 0x000001FA5A746A50>, <mask_maker.sdxf.Layer object at 0x000001FA5A746EB0>]\n",
      "GAP\n",
      "PIN\n",
      "[<mask_maker.sdxf.Layer object at 0x000001FA53D838C0>, <mask_maker.sdxf.Layer object at 0x000001FA5A7470E0>, <mask_maker.sdxf.Layer object at 0x000001FA5A747690>]\n",
      "GAP\n",
      "PIN\n",
      "[<mask_maker.sdxf.Layer object at 0x000001FA53D838C0>, <mask_maker.sdxf.Layer object at 0x000001FA59AEE190>, <mask_maker.sdxf.Layer object at 0x000001FA59AEF690>]\n",
      "GAP\n",
      "PIN\n",
      "[<mask_maker.sdxf.Layer object at 0x000001FA53D838C0>, <mask_maker.sdxf.Layer object at 0x000001FA59AEC910>, <mask_maker.sdxf.Layer object at 0x000001FA59AEF540>]\n",
      "GAP\n",
      "PIN\n",
      "[<mask_maker.sdxf.Layer object at 0x000001FA53D838C0>, <mask_maker.sdxf.Layer object at 0x000001FA59AEF770>, <mask_maker.sdxf.Layer object at 0x000001FA59AEDCC0>]\n",
      "GAP\n",
      "PIN\n",
      "[<mask_maker.sdxf.Layer object at 0x000001FA53D838C0>, <mask_maker.sdxf.Layer object at 0x000001FA59AEF8C0>, <mask_maker.sdxf.Layer object at 0x000001FA59AEE7B0>]\n",
      "GAP\n",
      "PIN\n",
      "[<mask_maker.sdxf.Layer object at 0x000001FA53D838C0>, <mask_maker.sdxf.Layer object at 0x000001FA59AEE6D0>, <mask_maker.sdxf.Layer object at 0x000001FA59AEFB60>]\n",
      "GAP\n",
      "PIN\n",
      "[<mask_maker.sdxf.Layer object at 0x000001FA53D838C0>, <mask_maker.sdxf.Layer object at 0x000001FA59AEF850>, <mask_maker.sdxf.Layer object at 0x000001FA59AEE820>]\n",
      "GAP\n",
      "PIN\n"
     ]
    },
    {
     "data": {
      "text/plain": [
       "['C:\\\\Users\\\\eeshg\\\\Documents\\\\multimode_sims\\\\Design\\\\coupler\\\\Siraj1\\\\designs_dxf\\\\SIRAJQUBIT_SKINNY_JUNCS-Q1.dxf',\n",
       " 'C:\\\\Users\\\\eeshg\\\\Documents\\\\multimode_sims\\\\Design\\\\coupler\\\\Siraj1\\\\designs_dxf\\\\SIRAJQUBIT_SKINNY_JUNCS-Q2.dxf',\n",
       " 'C:\\\\Users\\\\eeshg\\\\Documents\\\\multimode_sims\\\\Design\\\\coupler\\\\Siraj1\\\\designs_dxf\\\\SIRAJQUBIT_SKINNY_JUNCS-Q3.dxf',\n",
       " 'C:\\\\Users\\\\eeshg\\\\Documents\\\\multimode_sims\\\\Design\\\\coupler\\\\Siraj1\\\\designs_dxf\\\\SIRAJQUBIT_SKINNY_JUNCS-Q4.dxf',\n",
       " 'C:\\\\Users\\\\eeshg\\\\Documents\\\\multimode_sims\\\\Design\\\\coupler\\\\Siraj1\\\\designs_dxf\\\\SIRAJQUBIT_SKINNY_JUNCS-Q5.dxf',\n",
       " 'C:\\\\Users\\\\eeshg\\\\Documents\\\\multimode_sims\\\\Design\\\\coupler\\\\Siraj1\\\\designs_dxf\\\\SIRAJQUBIT_SKINNY_JUNCS-Q6.dxf',\n",
       " 'C:\\\\Users\\\\eeshg\\\\Documents\\\\multimode_sims\\\\Design\\\\coupler\\\\Siraj1\\\\designs_dxf\\\\SIRAJQUBIT_SKINNY_JUNCS-Q7.dxf',\n",
       " 'C:\\\\Users\\\\eeshg\\\\Documents\\\\multimode_sims\\\\Design\\\\coupler\\\\Siraj1\\\\designs_dxf\\\\SIRAJQUBIT_SKINNY_JUNCS-Q8.dxf',\n",
       " 'C:\\\\Users\\\\eeshg\\\\Documents\\\\multimode_sims\\\\Design\\\\coupler\\\\Siraj1\\\\designs_dxf\\\\SIRAJQUBIT_SKINNY_JUNCS-Q9.dxf',\n",
       " 'C:\\\\Users\\\\eeshg\\\\Documents\\\\multimode_sims\\\\Design\\\\coupler\\\\Siraj1\\\\designs_dxf\\\\SIRAJQUBIT_SKINNY_JUNCS-Q10.dxf',\n",
       " 'C:\\\\Users\\\\eeshg\\\\Documents\\\\multimode_sims\\\\Design\\\\coupler\\\\Siraj1\\\\designs_dxf\\\\SIRAJQUBIT_SKINNY_JUNCS-Q11.dxf',\n",
       " 'C:\\\\Users\\\\eeshg\\\\Documents\\\\multimode_sims\\\\Design\\\\coupler\\\\Siraj1\\\\designs_dxf\\\\SIRAJQUBIT_SKINNY_JUNCS-Q12.dxf',\n",
       " 'C:\\\\Users\\\\eeshg\\\\Documents\\\\multimode_sims\\\\Design\\\\coupler\\\\Siraj1\\\\designs_dxf\\\\SIRAJQUBIT_SKINNY_JUNCS-Q13.dxf',\n",
       " 'C:\\\\Users\\\\eeshg\\\\Documents\\\\multimode_sims\\\\Design\\\\coupler\\\\Siraj1\\\\designs_dxf\\\\SIRAJQUBIT_SKINNY_JUNCS-Q14.dxf',\n",
       " 'C:\\\\Users\\\\eeshg\\\\Documents\\\\multimode_sims\\\\Design\\\\coupler\\\\Siraj1\\\\designs_dxf\\\\SIRAJQUBIT_SKINNY_JUNCS-Q15.dxf',\n",
       " 'C:\\\\Users\\\\eeshg\\\\Documents\\\\multimode_sims\\\\Design\\\\coupler\\\\Siraj1\\\\designs_dxf\\\\SIRAJQUBIT_SKINNY_JUNCS-Q16.dxf',\n",
       " 'C:\\\\Users\\\\eeshg\\\\Documents\\\\multimode_sims\\\\Design\\\\coupler\\\\Siraj1\\\\designs_dxf\\\\SIRAJQUBIT_SKINNY_JUNCS-Q17.dxf',\n",
       " 'C:\\\\Users\\\\eeshg\\\\Documents\\\\multimode_sims\\\\Design\\\\coupler\\\\Siraj1\\\\designs_dxf\\\\SIRAJQUBIT_SKINNY_JUNCS-Q18.dxf',\n",
       " 'C:\\\\Users\\\\eeshg\\\\Documents\\\\multimode_sims\\\\Design\\\\coupler\\\\Siraj1\\\\designs_dxf\\\\SIRAJQUBIT_SKINNY_JUNCS-Q19.dxf',\n",
       " 'C:\\\\Users\\\\eeshg\\\\Documents\\\\multimode_sims\\\\Design\\\\coupler\\\\Siraj1\\\\designs_dxf\\\\SIRAJQUBIT_SKINNY_JUNCS-Q20.dxf',\n",
       " 'C:\\\\Users\\\\eeshg\\\\Documents\\\\multimode_sims\\\\Design\\\\coupler\\\\Siraj1\\\\designs_dxf\\\\SIRAJQUBIT_SKINNY_JUNCS-Q21.dxf',\n",
       " 'C:\\\\Users\\\\eeshg\\\\Documents\\\\multimode_sims\\\\Design\\\\coupler\\\\Siraj1\\\\designs_dxf\\\\SIRAJQUBIT_SKINNY_JUNCS-Q22.dxf',\n",
       " 'C:\\\\Users\\\\eeshg\\\\Documents\\\\multimode_sims\\\\Design\\\\coupler\\\\Siraj1\\\\designs_dxf\\\\SIRAJQUBIT_SKINNY_JUNCS-Q23.dxf',\n",
       " 'C:\\\\Users\\\\eeshg\\\\Documents\\\\multimode_sims\\\\Design\\\\coupler\\\\Siraj1\\\\designs_dxf\\\\SIRAJQUBIT_SKINNY_JUNCS-Q24.dxf',\n",
       " 'C:\\\\Users\\\\eeshg\\\\Documents\\\\multimode_sims\\\\Design\\\\coupler\\\\Siraj1\\\\designs_dxf\\\\SIRAJQUBIT_SKINNY_JUNCS-Q25.dxf']"
      ]
     },
     "execution_count": 843,
     "metadata": {},
     "output_type": "execute_result"
    }
   ],
   "source": [
    "# add chips to wafer\n",
    "chip_fnames = []\n",
    "for idx, c in enumerate(chips):\n",
    "    name = m.add_chip(c, 1, label= True, save_folder=save_folder)\n",
    "    chip_fnames.append(name)\n",
    "chip_fnames"
   ]
  },
  {
   "cell_type": "code",
   "execution_count": 844,
   "id": "f912df81",
   "metadata": {},
   "outputs": [],
   "source": [
    "with open(\"chip_names.txt\", \"w\") as f:\n",
    "    for name in chip_fnames:\n",
    "        f.write(name + \"\\n\")\n"
   ]
  },
  {
   "cell_type": "markdown",
   "id": "3c0cba9d",
   "metadata": {},
   "source": [
    "# Output Wafer"
   ]
  },
  {
   "cell_type": "code",
   "execution_count": 845,
   "id": "96abbab8",
   "metadata": {},
   "outputs": [
    {
     "name": "stdout",
     "output_type": "stream",
     "text": [
      "\n",
      "\n",
      " Chip names are:\n",
      "_____________________\n",
      "_____________________\n",
      "\n",
      "\n"
     ]
    }
   ],
   "source": [
    "import os\n",
    "import subprocess\n",
    "from time import sleep\n",
    "\n",
    "def save_and_open_mask(m, folder_path, klayout_path, sleep_time=0.1):\n",
    "\n",
    "    mask_name = m.name\n",
    "    mask_file_path = os.path.join(folder_path, mask_name + '.dxf')\n",
    "    m.save(name=mask_file_path)\n",
    "\n",
    "    print(\"\\n\\n Chip names are:\")\n",
    "    print(\"_____________________\")\n",
    "    # for name in chip_names:\n",
    "    #     print(name)\n",
    "    print(\"_____________________\\n\\n\")\n",
    "\n",
    "    sleep(sleep_time)\n",
    "\n",
    "    def open_klayout_app(klayout_path, mask_file_path):\n",
    "        subprocess.Popen(f'\"{klayout_path}\" \"{mask_file_path}\" -e')\n",
    "\n",
    "    open_klayout_app(klayout_path, mask_file_path)\n",
    "\n",
    "# Usage:\n",
    "folder_path = r\"C:\\Users\\eeshg\\Documents\\multimode_sims\\Design\\coupler\\Siraj1\\designs_dxf\"\n",
    "klayout_path = r\"C:\\Users\\eeshg\\AppData\\Roaming\\KLayout\\klayout_app\"\n",
    "save_and_open_mask(m, folder_path, klayout_path)\n"
   ]
  },
  {
   "cell_type": "code",
   "execution_count": 846,
   "id": "e50597f8",
   "metadata": {},
   "outputs": [
    {
     "data": {
      "text/plain": [
       "2.0"
      ]
     },
     "execution_count": 846,
     "metadata": {},
     "output_type": "execute_result"
    }
   ],
   "source": [
    "2/2+1"
   ]
  },
  {
   "cell_type": "code",
   "execution_count": null,
   "id": "c6e69a02",
   "metadata": {},
   "outputs": [],
   "source": []
  },
  {
   "cell_type": "code",
   "execution_count": null,
   "id": "71c35abe",
   "metadata": {},
   "outputs": [],
   "source": []
  },
  {
   "cell_type": "code",
   "execution_count": null,
   "id": "593e7c94",
   "metadata": {},
   "outputs": [],
   "source": []
  },
  {
   "cell_type": "code",
   "execution_count": null,
   "id": "946019bb",
   "metadata": {},
   "outputs": [],
   "source": []
  },
  {
   "cell_type": "code",
   "execution_count": null,
   "id": "a9800258",
   "metadata": {},
   "outputs": [],
   "source": []
  }
 ],
 "metadata": {
  "kernelspec": {
   "display_name": "base",
   "language": "python",
   "name": "python3"
  },
  "language_info": {
   "codemirror_mode": {
    "name": "ipython",
    "version": 3
   },
   "file_extension": ".py",
   "mimetype": "text/x-python",
   "name": "python",
   "nbconvert_exporter": "python",
   "pygments_lexer": "ipython3",
   "version": "3.13.5"
  }
 },
 "nbformat": 4,
 "nbformat_minor": 5
}
