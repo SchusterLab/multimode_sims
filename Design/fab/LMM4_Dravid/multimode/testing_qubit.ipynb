{
 "cells": [
  {
   "cell_type": "markdown",
   "id": "8ea58999",
   "metadata": {},
   "source": []
  },
  {
   "cell_type": "code",
   "execution_count": 106,
   "id": "ed186a55",
   "metadata": {},
   "outputs": [],
   "source": [
    "import numpy as np"
   ]
  },
  {
   "cell_type": "code",
   "execution_count": 107,
   "id": "cc6f8c57",
   "metadata": {},
   "outputs": [],
   "source": [
    "import sys\n",
    "sys.path.append(r\"C:\\_Lib\\python\")\n",
    "sys.path.append(r\"C:\\Users\\eeshg\\Documents\\multimode_sims\\Design\\fab\")\n",
    "\n",
    "from mask_maker import * \n",
    "# from slab.circuits.mp_components import *"
   ]
  },
  {
   "cell_type": "code",
   "execution_count": 108,
   "id": "f1f8e1c2",
   "metadata": {},
   "outputs": [
    {
     "name": "stdout",
     "output_type": "stream",
     "text": [
      "The autoreload extension is already loaded. To reload it, use:\n",
      "  %reload_ext autoreload\n"
     ]
    }
   ],
   "source": [
    "\n",
    "%load_ext autoreload\n",
    "%autoreload 2"
   ]
  },
  {
   "cell_type": "code",
   "execution_count": 109,
   "id": "e85e15ea",
   "metadata": {},
   "outputs": [],
   "source": [
    "from mm_qubit import *\n",
    "from mm_chips_base import * "
   ]
  },
  {
   "cell_type": "markdown",
   "id": "10e1beb0",
   "metadata": {},
   "source": [
    "# Imports"
   ]
  },
  {
   "cell_type": "code",
   "execution_count": null,
   "id": "c83df455",
   "metadata": {},
   "outputs": [],
   "source": [
    "\n",
    "\n"
   ]
  },
  {
   "cell_type": "markdown",
   "id": "cf1ceee3",
   "metadata": {},
   "source": [
    "# Mask Generation"
   ]
  },
  {
   "cell_type": "markdown",
   "id": "a13aa1b0",
   "metadata": {},
   "source": [
    "## Wafer Initialization\n",
    "\n",
    " 4in wafer -> diameter=101600, flat_distance=48200\n",
    "\n",
    "\n",
    " 3in wafer -> diameter=76200., flat_distance=37100.\n",
    "\n",
    " \n",
    " 2in wafer -> diameter=50800., flat_distance=24100."
   ]
  },
  {
   "cell_type": "code",
   "execution_count": 110,
   "id": "5c3a3cae",
   "metadata": {},
   "outputs": [
    {
     "name": "stdout",
     "output_type": "stream",
     "text": [
      "Maximum number of rows=3 and cols=53\n",
      "Room for 113 chips on wafer.\n"
     ]
    }
   ],
   "source": [
    "MaskName = 'DravidQubits_opt'\n",
    "save_folder=r\"C:\\Users\\eeshg\\Documents\\multimode_sims\\Design\\fab\\LMM4_Dravid\\designs_dxf\"\n",
    "# m = WaferMask(MaskName, diameter=101600., flat_angle=270., flat_distance=48200., wafer_padding=2500,\n",
    "#                   chip_size=(1600, 25950),\n",
    "#                   dicing_border=400, etchtype=False, wafer_edge=False,\n",
    "#                   dashed_dicing_border=80, ndashes=3, dice_corner=True, square_arr=False)\n",
    "m = WaferMask(MaskName, diameter=101600., flat_angle=270., flat_distance=48200., wafer_padding=2500,\n",
    "                  chip_size=(1600, 25950),\n",
    "                  dicing_border=200, etchtype=False, wafer_edge=True,\n",
    "                  dashed_dicing_border=80, ndashes=2, dice_corner=False, square_arr=False)"
   ]
  },
  {
   "cell_type": "markdown",
   "id": "838cf71d",
   "metadata": {},
   "source": [
    "## Chips"
   ]
  },
  {
   "cell_type": "code",
   "execution_count": 111,
   "id": "8db73234",
   "metadata": {},
   "outputs": [],
   "source": [
    "## Iniatilization\n",
    "mm_chips_base = MMChipsBase()\n",
    "chip_defaults = mm_chips_base.set_mask_init()"
   ]
  },
  {
   "cell_type": "markdown",
   "id": "c9107c4b",
   "metadata": {},
   "source": [
    "### Chip Configs"
   ]
  },
  {
   "cell_type": "code",
   "execution_count": 112,
   "id": "c6b3aa78",
   "metadata": {},
   "outputs": [
    {
     "data": {
      "text/plain": [
       "[({'width': 0.39, 'gap': 0.2}, False, 'A'),\n",
       " ({'width': 0.22, 'gap': 0.2}, False, 'B'),\n",
       " ({'width': 0.16, 'gap': 0.2}, False, 'C'),\n",
       " ({'width': 0.12, 'gap': 0.2}, False, 'D'),\n",
       " ({'width': 0.1, 'gap': 0.2}, False, 'E'),\n",
       " ({'width': 0.39, 'gap': 0.2}, False, 'F'),\n",
       " ({'width': 0.22, 'gap': 0.2}, False, 'G'),\n",
       " ({'width': 0.16, 'gap': 0.2}, False, 'H'),\n",
       " ({'width': 0.12, 'gap': 0.2}, False, 'I'),\n",
       " ({'width': 0.1, 'gap': 0.2}, False, 'J')]"
      ]
     },
     "execution_count": 112,
     "metadata": {},
     "output_type": "execute_result"
    }
   ],
   "source": [
    "import itertools\n",
    "\n",
    "# Generate 10 unique (width, gap) pairs\n",
    "widths = [0.39, 0.22, 0.16, 0.12, 0.1, 0.39, 0.22, 0.16, 0.12, 0.1 ]\n",
    "gaps = [0.2]*10\n",
    "names = [chr(ord('A') + i) for i in range(len(widths))]\n",
    "\n",
    "\n",
    "chip_configs = [\n",
    "    ({'width': float(w), 'gap': float(g)}, False, names[i])#, 1 if i % 2 == 0 else 0)\n",
    "    for i, (w, g) in enumerate(zip(widths, gaps))\n",
    "]\n",
    "\n",
    "chip_configs"
   ]
  },
  {
   "cell_type": "code",
   "execution_count": 113,
   "id": "849de789",
   "metadata": {},
   "outputs": [
    {
     "data": {
      "text/plain": [
       "['A', 'B', 'C', 'D', 'E', 'F', 'G', 'H', 'I', 'J']"
      ]
     },
     "execution_count": 113,
     "metadata": {},
     "output_type": "execute_result"
    }
   ],
   "source": [
    "names"
   ]
  },
  {
   "cell_type": "code",
   "execution_count": null,
   "id": "849895e7",
   "metadata": {},
   "outputs": [],
   "source": []
  },
  {
   "cell_type": "markdown",
   "id": "9e0b7d7a",
   "metadata": {},
   "source": [
    "## Configs specific to Multimode Qubit Chip"
   ]
  },
  {
   "cell_type": "code",
   "execution_count": 114,
   "id": "c959949e",
   "metadata": {},
   "outputs": [],
   "source": [
    "qubit_optical_configs= {\n",
    "    'x_thin': 30,\n",
    "    'y_right_thin': 350,\n",
    "    'x_right_thick': 150,\n",
    "    'y_right_thick': 3100,\n",
    "    'y_left_thin': 370,\n",
    "    'x_left_thick': 150,\n",
    "    'y_left_thick': 4100,\n",
    "    'jjgap': 30,\n",
    "    'xpos': 1000 - 200,\n",
    "    'ypos': 17700 - 200 + 7780 + 350,\n",
    "    \n",
    "}"
   ]
  },
  {
   "cell_type": "code",
   "execution_count": 115,
   "id": "4fbad18e",
   "metadata": {},
   "outputs": [],
   "source": [
    "test_qubit_optical_configs = {\n",
    "    'x_thin': 30,\n",
    "    'y_right_thin': 100,\n",
    "    'x_right_thick': 800,\n",
    "    'y_right_thick': 800,\n",
    "    'y_left_thin': 100,\n",
    "    'x_left_thick': 800,\n",
    "    'y_left_thick': 800,\n",
    "    'jjgap': 30,\n",
    "}\n",
    "yoffset = 2000\n",
    "test_qubit_optical_posns = [\n",
    "    (800, 3000+200), \n",
    "    (800, 3000+ yoffset+200),\n",
    "    (800, 3000+2*yoffset +200),\n",
    "    (800, 3000+3*yoffset +200),\n",
    "    #(800, 3000+4*yoffset +200),\n",
    "]"
   ]
  },
  {
   "cell_type": "code",
   "execution_count": 116,
   "id": "5f4304b2",
   "metadata": {},
   "outputs": [],
   "source": [
    "\n",
    "qubit_junction_configs = dict(\n",
    "    bar_width=20,\n",
    "    bar_length=17,\n",
    "    thin_bar_length = 8, # this is the length for top bar\n",
    "    # taper_length=5, # this i\n",
    "    taper_length1=5,  # this is the first taper (bottom bar)\n",
    "    taper_length2=5,  # this is the second taper (bottom bar) \n",
    "    thin_bar_width1=2,  # this is the width of the first thin bar\n",
    "    thin_bar_length1=2.5,  # this is the length of the first thin bar (bottom bar)\n",
    "    thin_bar_length2=2.5,  # this is the length of the second thin bar(bottom bar)\n",
    "    top_bar_taper_length=5,\n",
    "    jj_length=0.8,\n",
    "    # jj_width=junc_correction['width'],\n",
    "    # jj_gap=junc_correction['gap'],\n",
    "    top_bar_jj_width=2,\n",
    "    # under cut parameters \n",
    "    undercut_width = 0.2,\n",
    "    undercut_width_pads = 0.7,\n",
    "    # for horizontal oriented junctions 07/27 blunder\n",
    "    # horizontal_l_arm = 70+15,\n",
    "    # bend_radius = 5,\n",
    "    short = False,\n",
    "    open = False\n",
    "\n",
    ")\n",
    "test_qubit_junction_type=[{'open': True, 'short': False},\n",
    "                          {'open': False, 'short': True},\n",
    "                          {'open': False, 'short': False},\n",
    "                          {'open': False, 'short': False}\n",
    "                          ]\n"
   ]
  },
  {
   "cell_type": "markdown",
   "id": "fdce5147",
   "metadata": {},
   "source": [
    "### Chip Generation"
   ]
  },
  {
   "cell_type": "code",
   "execution_count": 117,
   "id": "2142e080",
   "metadata": {},
   "outputs": [],
   "source": [
    "draw_optical = True\n",
    "# draw_optical = False\n",
    "draw_ebeam = False\n",
    "# draw_ebeam = False\n",
    "two_layer = True if draw_ebeam == 1 else False"
   ]
  },
  {
   "cell_type": "code",
   "execution_count": 118,
   "id": "3b4f64ae",
   "metadata": {},
   "outputs": [],
   "source": [
    "from copy import copy\n",
    "chips = []\n",
    "author = 'Eesh Gupta'\n",
    "# flag flips the junction vertically \n",
    "for idx, (junc_correction, flip, name) in enumerate(chip_configs):\n",
    "    chip = Chip(\n",
    "        name,\n",
    "        author=\"\",\n",
    "        size=m.chip_size,\n",
    "        mask_id_loc=(5800, 6430),\n",
    "        chip_id_loc=(200, 100),\n",
    "        textsize=(300, 300),\n",
    "        two_layer=two_layer,\n",
    "        solid=False,\n",
    "    )\n",
    "    full_chip_drawer = MultimodeQubitChip(structure=chip, chip_defaults=chip_defaults, flip=flip)\n",
    "    full_chip_drawer.chipInit(chip, defaults=chip_defaults)\n",
    "    if draw_optical: \n",
    "        draw_marks = True if idx == 0 or idx == (len(chip_configs)-1) else False\n",
    "        full_chip_drawer.draw_alignment_marks(draw_marks=draw_marks)\n",
    "\n",
    "    if draw_optical:\n",
    "        full_chip_drawer.draw_multimode_qubit_optical(qubit_optical_configs=qubit_optical_configs,\n",
    "                                                      flag = not flip,xpos= qubit_optical_configs['xpos'],\n",
    "                                                      ypos= qubit_optical_configs['ypos'])\n",
    "        #test structures\n",
    "        for idx_test, (xpos, ypos) in enumerate(test_qubit_optical_posns):\n",
    "            full_chip_drawer.draw_multimode_qubit_optical(qubit_optical_configs=test_qubit_optical_configs,\n",
    "                                                          flag = not flip, \n",
    "                                                          xpos = xpos, ypos = ypos)\n",
    "            chip.label_chip(drawing=chip, maskid=None, chipid=name + str(idx_test),\n",
    "                     author=chip.author, offset=(xpos - 300, ypos -50), textsize = (100,100))\n",
    "        # names \n",
    "        # CHIP NAME\n",
    "        chip.label_chip(drawing=chip, maskid=None, chipid=name,\n",
    "                     author=chip.author, offset=(300, 20))\n",
    "        \n",
    "    if draw_ebeam:\n",
    "        # print(f\"Drawing e-beam features for {name} with flip={flip}\")\n",
    "        full_chip_drawer.draw_multimode_qubit_ebeam(junction_configs=qubit_junction_configs,\n",
    "                                                    junc_correction=junc_correction, flag= not flip, \n",
    "                                                    xpos = qubit_optical_configs['xpos'],\n",
    "                                                    ypos = qubit_optical_configs['ypos'] - qubit_optical_configs['y_left_thick'] - qubit_optical_configs['y_left_thin'] - qubit_optical_configs['jjgap'] )#- qubit_optical_configs['x_thin'])\n",
    "        ##test structures\n",
    "        for idx_test, (xpos, ypos) in enumerate(test_qubit_optical_posns):\n",
    "            test_qubit_junction_configs = copy(qubit_junction_configs)\n",
    "            test_qubit_junction_configs['short'] = test_qubit_junction_type[idx_test]['short']\n",
    "            test_qubit_junction_configs['open'] = test_qubit_junction_type[idx_test]['open']\n",
    "            full_chip_drawer.draw_multimode_qubit_ebeam(junction_configs=test_qubit_junction_configs,\n",
    "                                                        junc_correction=junc_correction, flag= not flip,\n",
    "                                                        xpos = xpos, \n",
    "                                                        ypos = ypos - test_qubit_optical_configs['y_left_thick'] - test_qubit_optical_configs['y_left_thin'] - test_qubit_optical_configs['jjgap'] )#- test_qubit_optical_configs['x_thin'])\n",
    "\n",
    "    # draw_bridge_junction(chip, d, junc_correction, flip)\n",
    "    chips.append(chip)\n",
    "\n",
    "\n",
    "\n"
   ]
  },
  {
   "cell_type": "code",
   "execution_count": 119,
   "id": "4aa94d1c",
   "metadata": {},
   "outputs": [
    {
     "data": {
      "text/plain": [
       "0"
      ]
     },
     "execution_count": 119,
     "metadata": {},
     "output_type": "execute_result"
    }
   ],
   "source": [
    "square"
   ]
  },
  {
   "cell_type": "markdown",
   "id": "38468c93",
   "metadata": {},
   "source": [
    "## Addings Chips to wafer"
   ]
  },
  {
   "cell_type": "code",
   "execution_count": 120,
   "id": "e9673b0c",
   "metadata": {},
   "outputs": [
    {
     "data": {
      "text/plain": [
       "['C:\\\\Users\\\\eeshg\\\\Documents\\\\multimode_sims\\\\Design\\\\fab\\\\LMM4_Dravid\\\\designs_dxf\\\\DRAVIDQUBITS_OPT-A.dxf',\n",
       " 'C:\\\\Users\\\\eeshg\\\\Documents\\\\multimode_sims\\\\Design\\\\fab\\\\LMM4_Dravid\\\\designs_dxf\\\\DRAVIDQUBITS_OPT-B.dxf',\n",
       " 'C:\\\\Users\\\\eeshg\\\\Documents\\\\multimode_sims\\\\Design\\\\fab\\\\LMM4_Dravid\\\\designs_dxf\\\\DRAVIDQUBITS_OPT-C.dxf',\n",
       " 'C:\\\\Users\\\\eeshg\\\\Documents\\\\multimode_sims\\\\Design\\\\fab\\\\LMM4_Dravid\\\\designs_dxf\\\\DRAVIDQUBITS_OPT-D.dxf',\n",
       " 'C:\\\\Users\\\\eeshg\\\\Documents\\\\multimode_sims\\\\Design\\\\fab\\\\LMM4_Dravid\\\\designs_dxf\\\\DRAVIDQUBITS_OPT-E.dxf',\n",
       " 'C:\\\\Users\\\\eeshg\\\\Documents\\\\multimode_sims\\\\Design\\\\fab\\\\LMM4_Dravid\\\\designs_dxf\\\\DRAVIDQUBITS_OPT-F.dxf',\n",
       " 'C:\\\\Users\\\\eeshg\\\\Documents\\\\multimode_sims\\\\Design\\\\fab\\\\LMM4_Dravid\\\\designs_dxf\\\\DRAVIDQUBITS_OPT-G.dxf',\n",
       " 'C:\\\\Users\\\\eeshg\\\\Documents\\\\multimode_sims\\\\Design\\\\fab\\\\LMM4_Dravid\\\\designs_dxf\\\\DRAVIDQUBITS_OPT-H.dxf',\n",
       " 'C:\\\\Users\\\\eeshg\\\\Documents\\\\multimode_sims\\\\Design\\\\fab\\\\LMM4_Dravid\\\\designs_dxf\\\\DRAVIDQUBITS_OPT-I.dxf',\n",
       " 'C:\\\\Users\\\\eeshg\\\\Documents\\\\multimode_sims\\\\Design\\\\fab\\\\LMM4_Dravid\\\\designs_dxf\\\\DRAVIDQUBITS_OPT-J.dxf']"
      ]
     },
     "execution_count": 120,
     "metadata": {},
     "output_type": "execute_result"
    }
   ],
   "source": [
    "# add chips to wafer\n",
    "chip_fnames = []\n",
    "for idx, c in enumerate(chips):\n",
    "    name = m.add_chip(c, 1, label= True, save_folder=save_folder)\n",
    "    chip_fnames.append(name)\n",
    "chip_fnames"
   ]
  },
  {
   "cell_type": "code",
   "execution_count": 121,
   "id": "f912df81",
   "metadata": {},
   "outputs": [],
   "source": [
    "with open(\"chip_names_qubit.txt\", \"w\") as f:\n",
    "    for name in chip_fnames:\n",
    "        f.write(name + \"\\n\")\n"
   ]
  },
  {
   "cell_type": "markdown",
   "id": "3c0cba9d",
   "metadata": {},
   "source": [
    "# Output Wafer"
   ]
  },
  {
   "cell_type": "code",
   "execution_count": 122,
   "id": "96abbab8",
   "metadata": {},
   "outputs": [
    {
     "name": "stdout",
     "output_type": "stream",
     "text": [
      "\n",
      "\n",
      " Chip names are:\n",
      "_____________________\n",
      "_____________________\n",
      "\n",
      "\n"
     ]
    }
   ],
   "source": [
    "import os\n",
    "import subprocess\n",
    "from time import sleep\n",
    "\n",
    "def save_and_open_mask(m, folder_path, klayout_path, sleep_time=0.1):\n",
    "\n",
    "    mask_name = m.name\n",
    "    mask_file_path = os.path.join(folder_path, mask_name + '.dxf')\n",
    "    m.save(name=mask_file_path)\n",
    "\n",
    "    print(\"\\n\\n Chip names are:\")\n",
    "    print(\"_____________________\")\n",
    "    # for name in chip_names:\n",
    "    #     print(name)\n",
    "    print(\"_____________________\\n\\n\")\n",
    "\n",
    "    sleep(sleep_time)\n",
    "\n",
    "    def open_klayout_app(klayout_path, mask_file_path):\n",
    "        subprocess.Popen(f'\"{klayout_path}\" \"{mask_file_path}\" -e')\n",
    "\n",
    "    open_klayout_app(klayout_path, mask_file_path)\n",
    "\n",
    "# Usage:\n",
    "folder_path = save_folder\n",
    "klayout_path = r\"C:\\Users\\eeshg\\AppData\\Roaming\\KLayout\\klayout_app\"\n",
    "save_and_open_mask(m, folder_path, klayout_path)\n",
    "\n"
   ]
  },
  {
   "cell_type": "code",
   "execution_count": 123,
   "id": "e50597f8",
   "metadata": {},
   "outputs": [
    {
     "data": {
      "text/plain": [
       "2.0"
      ]
     },
     "execution_count": 123,
     "metadata": {},
     "output_type": "execute_result"
    }
   ],
   "source": [
    "2/2+1"
   ]
  },
  {
   "cell_type": "code",
   "execution_count": null,
   "id": "c6e69a02",
   "metadata": {},
   "outputs": [],
   "source": []
  },
  {
   "cell_type": "code",
   "execution_count": null,
   "id": "71c35abe",
   "metadata": {},
   "outputs": [],
   "source": []
  },
  {
   "cell_type": "code",
   "execution_count": null,
   "id": "593e7c94",
   "metadata": {},
   "outputs": [],
   "source": []
  },
  {
   "cell_type": "code",
   "execution_count": null,
   "id": "946019bb",
   "metadata": {},
   "outputs": [],
   "source": []
  },
  {
   "cell_type": "code",
   "execution_count": null,
   "id": "a9800258",
   "metadata": {},
   "outputs": [],
   "source": []
  }
 ],
 "metadata": {
  "kernelspec": {
   "display_name": "klayout_env",
   "language": "python",
   "name": "python3"
  },
  "language_info": {
   "codemirror_mode": {
    "name": "ipython",
    "version": 3
   },
   "file_extension": ".py",
   "mimetype": "text/x-python",
   "name": "python",
   "nbconvert_exporter": "python",
   "pygments_lexer": "ipython3",
   "version": "3.11.5"
  }
 },
 "nbformat": 4,
 "nbformat_minor": 5
}
