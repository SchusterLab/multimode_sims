{
 "cells": [
  {
   "cell_type": "markdown",
   "id": "a79596d4",
   "metadata": {},
   "source": [
    "# Junction Parameters \n",
    "\n",
    "$$E_J = \\frac{\\hbar}{2e}{I_c}$$\n",
    "where critical current goes linearly with area and inversely prp to oxide thickness\n",
    "\n",
    "$$I_C = \\frac{\\pi \\Delta(0)}{2eR_n}$$\n",
    "where \\(\\Delta(0) = 170 \\mu\\text{eV}\\) for Aluminum \n",
    "\n",
    "$$\\omega = \\sqrt{8E_CE_J} - E_C$$ \n",
    "for transmon\n"
   ]
  },
  {
   "cell_type": "code",
   "execution_count": 130,
   "id": "424e7304",
   "metadata": {},
   "outputs": [],
   "source": [
    "critical_current_per_area = 0.2 # micro A /um^2\n",
    "junction_length = 0.35 # currently we are getting 0.25 um \n"
   ]
  },
  {
   "cell_type": "code",
   "execution_count": 131,
   "id": "2cf8a4a6",
   "metadata": {},
   "outputs": [],
   "source": [
    "# m,akeimport numpy as np"
   ]
  },
  {
   "cell_type": "code",
   "execution_count": 132,
   "id": "74c4dd83",
   "metadata": {},
   "outputs": [
    {
     "name": "stdout",
     "output_type": "stream",
     "text": [
      "Bridge width: 0.10 um\n"
     ]
    }
   ],
   "source": [
    "import numpy as np\n",
    "# given the calculations below, compute the bridge width given angle, undercut length and junction length\n",
    "def compute_bridge_width(junction_length, undercut_length, angle_deg):\n",
    "    \"\"\"\n",
    "    Compute the bridge width given junction length, undercut length, and angle.\n",
    "    Returns the bridge width in um.\n",
    "    \"\"\"\n",
    "    dep_width = undercut_length * np.tan(np.radians(angle_deg))\n",
    "    bridge_width = 2 * dep_width - junction_length\n",
    "    return bridge_width\n",
    "\n",
    "bridge_width = compute_bridge_width(junction_length = junction_length, undercut_length= 0.800, angle_deg = 15.7)\n",
    "print(f\"Bridge width: {bridge_width:.2f} um\")\n",
    "gap = junction_length\n"
   ]
  },
  {
   "cell_type": "markdown",
   "id": "c61c6859",
   "metadata": {},
   "source": [
    "# What is the \\(E_J\\) I need?"
   ]
  },
  {
   "cell_type": "code",
   "execution_count": 133,
   "id": "87dd4695",
   "metadata": {},
   "outputs": [
    {
     "name": "stdout",
     "output_type": "stream",
     "text": [
      "targ_Ej = 9.85 GHz\n"
     ]
    }
   ],
   "source": [
    "# given E_c  and omeaga find E_J\n",
    "Ec = 0.143 # GHz\n",
    "target_omega = 3.5 # GHz\n",
    "is_squid = False\n",
    "def find_E_J(E_c, omega):\n",
    "    \"\"\"\n",
    "    Find E_J given E_c and omega.\n",
    "    \"\"\"\n",
    "    return ((omega-E_c)**2) / (8 * E_c)\n",
    "\n",
    "targ_Ej = find_E_J(Ec, target_omega)\n",
    "if is_squid:\n",
    "    # for squid we need to divide by 2\n",
    "    targ_Ej /= 2\n",
    "print(f\"targ_Ej = {targ_Ej:.2f} GHz\")"
   ]
  },
  {
   "cell_type": "code",
   "execution_count": 144,
   "id": "3739dcba",
   "metadata": {},
   "outputs": [
    {
     "name": "stdout",
     "output_type": "stream",
     "text": [
      "L_J = 1.66e+01 nH\n"
     ]
    }
   ],
   "source": [
    "\n",
    "def find_L_J(E_J_freq):\n",
    "    \"\"\"\n",
    "    Calculate Josephson inductance L_J from Josephson energy frequency E_J_freq (in GHz).\n",
    "\n",
    "    L_J = Φ₀² / (4 * π² * h * E_J_freq)\n",
    "    where:\n",
    "        Φ₀ = flux quantum = 2.068e-15 Wb\n",
    "        h = Planck's constant = 2π * ħ\n",
    "    \"\"\"\n",
    "    phi0 = 2.068e-15  # Wb\n",
    "    h = 6.62607015e-34  # J*s\n",
    "    E_J_Hz = E_J_freq * 1e9  # Convert GHz to Hz\n",
    "    L_J = phi0**2 / (4 * np.pi**2 * h * E_J_Hz)\n",
    "    return L_J\n",
    "\n",
    "L_J = find_L_J(9.85)\n",
    "print(f\"L_J = {L_J * 1e9:.2e} nH\")\n",
    "    "
   ]
  },
  {
   "cell_type": "code",
   "execution_count": 140,
   "id": "75f89e36",
   "metadata": {},
   "outputs": [
    {
     "name": "stdout",
     "output_type": "stream",
     "text": [
      "Capacitance C = 851.10 fF\n"
     ]
    }
   ],
   "source": [
    "# convert C into E_C\n",
    "def capacitance_from_Ec(Ec):\n",
    "    \"\"\"\n",
    "    Convert charging energy E_c (in GHz) to capacitance C (in Farads).\n",
    "    E_c = e^2 / (2C * hbar)\n",
    "    \"\"\"\n",
    "    e = 1.602176634e-19  # C\n",
    "    hbar = 1.0545718e-34  # J*s\n",
    "    Ec_J = Ec * 1e9 * hbar  # Convert GHz to Joules\n",
    "    C = e**2 / (2 * Ec_J)\n",
    "    return C\n",
    "\n",
    "C = capacitance_from_Ec(Ec = 0.143)\n",
    "print(f\"Capacitance C = {C*1e15:.2f} fF\")"
   ]
  },
  {
   "cell_type": "code",
   "execution_count": 145,
   "id": "7af501c5",
   "metadata": {},
   "outputs": [
    {
     "data": {
      "text/plain": [
       "8.413683357203336"
      ]
     },
     "execution_count": 145,
     "metadata": {},
     "output_type": "execute_result"
    }
   ],
   "source": [
    "1/np.sqrt(L_J*C) * 1e-9 # convert to GHz"
   ]
  },
  {
   "cell_type": "markdown",
   "id": "9179670f",
   "metadata": {},
   "source": [
    "# What is the pin size I need ? \n",
    "given a gap of 0.25 microns"
   ]
  },
  {
   "cell_type": "code",
   "execution_count": 134,
   "id": "231c96e7",
   "metadata": {},
   "outputs": [
    {
     "name": "stdout",
     "output_type": "stream",
     "text": [
      "0.09916694342714646\n",
      "Required pin length: 0.28 um\n"
     ]
    }
   ],
   "source": [
    "import numpy as np\n",
    "\n",
    "# Use this $$E_J = \\frac{\\hbar}{2e}{I_c}$$  and critical current per area to find the pin size using a function\n",
    "def pin_size_from_Ej(E_j, critical_current_per_area, gap):\n",
    "    \"\"\"\n",
    "    Calculate the pin size (area) needed for a given E_j.\n",
    "    E_j: Josephson energy in GHz\n",
    "    critical_current_per_area: in microA/um^2\n",
    "    gap: in um (not used in calculation, just for reference)\n",
    "    Returns: area in um^2\n",
    "    \"\"\"\n",
    "    # Constants\n",
    "    hbar = 1.0545718e-34  # J*s\n",
    "    e = 1.602176634e-19   # C\n",
    "    GHz_to_J = 6.62607015e-34  # Planck's constant (J*s) * 1 Hz\n",
    "\n",
    "    # Convert E_j from GHz to Joules\n",
    "    E_j_J = E_j * GHz_to_J * 1e9\n",
    "\n",
    "    # Calculate I_c from E_j\n",
    "    I_c = (2 * e * E_j_J) / hbar  # in Amps\n",
    "\n",
    "    # Convert critical_current_per_area to A/um^2\n",
    "    critical_current_per_area_A = critical_current_per_area * 1e-6\n",
    "\n",
    "    # Area in um^2\n",
    "    area = I_c / critical_current_per_area_A\n",
    "    print(area)\n",
    "    return area/gap\n",
    "\n",
    "pin_length = pin_size_from_Ej(targ_Ej, critical_current_per_area, gap)\n",
    "print(f\"Required pin length: {pin_length:.2f} um\")"
   ]
  },
  {
   "cell_type": "markdown",
   "id": "69881ed2",
   "metadata": {},
   "source": [
    "# What RT resistance will I measure?"
   ]
  },
  {
   "cell_type": "code",
   "execution_count": 135,
   "id": "0ede18b1",
   "metadata": {},
   "outputs": [
    {
     "name": "stdout",
     "output_type": "stream",
     "text": [
      "Expected RT resistance R_n: 13463.93 Ω\n"
     ]
    }
   ],
   "source": [
    "# Use these formilas to find resistance of junction $$E_J = \\frac{\\hbar}{2e}{I_c}$$\n",
    "# where critical current goes linearly with area and inversely prp to oxide thickness\n",
    "\n",
    "# $$I_C = \\frac{\\pi \\Delta(0)}{2eR_n}$$\n",
    "# where \\(\\Delta(0) = 170 \\mu\\text{eV}\\) for Aluminum \n",
    "def calculate_R_n(pin_length, gap, critical_current_per_area):\n",
    "    \"\"\"\n",
    "    Calculate the normal resistance R_n of the junction.\n",
    "\n",
    "    Formulas used:\n",
    "    - Area = pin_length × gap\n",
    "    - Critical current: I_c = critical_current_per_area × Area\n",
    "    - Josephson relation: E_J = (ħ / 2e) * I_c\n",
    "    - I_C = (π Δ(0)) / (2e R_n), where Δ(0) = 170 μeV for Aluminum\n",
    "\n",
    "    Args:\n",
    "        pin_length: length of the pin in um\n",
    "        gap: gap in um\n",
    "        critical_current_per_area: in microA/um^2\n",
    "\n",
    "    Returns:\n",
    "        R_n in Ohms\n",
    "    \"\"\"\n",
    "    # Constants\n",
    "    e = 1.602176634e-19  # C\n",
    "    Delta_0 = 170e-6 * e  # 170 μeV in Joules\n",
    "\n",
    "    # Calculate area\n",
    "    area = pin_length * gap  # um^2\n",
    "\n",
    "    # Calculate critical current (I_c)\n",
    "    critical_current_per_area_A = critical_current_per_area * 1e-6  # A/um^2\n",
    "    I_c = critical_current_per_area_A * area  # A\n",
    "\n",
    "    # Calculate R_n using I_C = (π Δ(0)) / (2e R_n)\n",
    "    R_n = (np.pi * Delta_0) / (2 * e * I_c)  # Ohms\n",
    "\n",
    "    return R_n\n",
    "\n",
    "\n",
    "R_n = calculate_R_n(pin_length, gap, critical_current_per_area)\n",
    "print(f\"Expected RT resistance R_n: {R_n:.2f} Ω\")"
   ]
  },
  {
   "cell_type": "markdown",
   "id": "9a07a364",
   "metadata": {},
   "source": [
    "# Summarize the results of whole notebook in a few lines with a list of ciritcial parameters"
   ]
  },
  {
   "cell_type": "markdown",
   "id": "a855d69c",
   "metadata": {},
   "source": []
  },
  {
   "cell_type": "code",
   "execution_count": 136,
   "id": "cf70f49c",
   "metadata": {},
   "outputs": [
    {
     "name": "stdout",
     "output_type": "stream",
     "text": [
      "Summary of Critical Parameters:\n",
      "- Target Frequency (ω): 3.5 GHz\n",
      "- Charging Energy (E_c): 0.143 GHz\n",
      "- Target Josephson Energy (E_J): 9.85 GHz\n",
      "- Critical Current per Area: 0.2 μA/μm²\n",
      "- Gap: 0.35 μm\n",
      "- Required Pin Length: 0.28 μm\n",
      "- Expected RT Resistance (R_n): 13463.93 Ω\n",
      "- Bridge Width: 0.10 um\n"
     ]
    }
   ],
   "source": [
    "print(\"Summary of Critical Parameters:\")\n",
    "print(f\"- Target Frequency (ω): {target_omega} GHz\")\n",
    "print(f\"- Charging Energy (E_c): {Ec:.3f} GHz\")\n",
    "print(f\"- Target Josephson Energy (E_J): {targ_Ej:.2f} GHz\")\n",
    "print(f\"- Critical Current per Area: {critical_current_per_area} μA/μm²\")\n",
    "print(f\"- Gap: {gap} μm\")\n",
    "print(f\"- Required Pin Length: {pin_length:.2f} μm\")\n",
    "print(f\"- Expected RT Resistance (R_n): {R_n:.2f} Ω\")\n",
    "print(f\"- Bridge Width: {bridge_width:.2f} um\")"
   ]
  },
  {
   "cell_type": "code",
   "execution_count": null,
   "id": "6c2f8bf9",
   "metadata": {},
   "outputs": [],
   "source": []
  },
  {
   "cell_type": "code",
   "execution_count": null,
   "id": "64bd4d34",
   "metadata": {},
   "outputs": [],
   "source": []
  }
 ],
 "metadata": {
  "kernelspec": {
   "display_name": "quantum",
   "language": "python",
   "name": "python3"
  },
  "language_info": {
   "codemirror_mode": {
    "name": "ipython",
    "version": 3
   },
   "file_extension": ".py",
   "mimetype": "text/x-python",
   "name": "python",
   "nbconvert_exporter": "python",
   "pygments_lexer": "ipython3",
   "version": "3.12.4"
  }
 },
 "nbformat": 4,
 "nbformat_minor": 5
}
