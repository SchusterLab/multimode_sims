{
 "cells": [
  {
   "cell_type": "markdown",
   "id": "cf5a24ae",
   "metadata": {},
   "source": [
    "# Py EPR\n"
   ]
  },
  {
   "cell_type": "code",
   "execution_count": 14,
   "id": "35ae514a",
   "metadata": {},
   "outputs": [],
   "source": [
    "import numpy as np"
   ]
  },
  {
   "cell_type": "markdown",
   "id": "bf9a8b86",
   "metadata": {},
   "source": [
    "Participation factors \n",
    "\n",
    "\n",
    "$\\chi_{mn}  =\\sum_{j=1}^{J}\\hbar^{-1}E_{j}\\varphi_{mj}^{2}\\varphi_{nj}^{2}=\\sum_{j=1}^{J}\\frac{\\hbar\\omega_{m}\\omega_{n}}{4E_{j}}p_{mj}p_{nj}$\n"
   ]
  },
  {
   "cell_type": "code",
   "execution_count": 24,
   "id": "b6db6f27",
   "metadata": {},
   "outputs": [
    {
     "name": "stdout",
     "output_type": "stream",
     "text": [
      "Anharmonicity: 3.06e+00 kHz\n"
     ]
    }
   ],
   "source": [
    "omega_m = 3.5e9\n",
    "#3.8e9 \n",
    "E_j = 10e9\n",
    "p_mj = 1e-7\n",
    "\n",
    "anharmonicty = omega_m*omega_m/(4*E_j)*p_mj*p_mj\n",
    "print(f\"Anharmonicity: {anharmonicty*1e6:.2e} kHz\")\n"
   ]
  },
  {
   "cell_type": "code",
   "execution_count": 16,
   "id": "62103578",
   "metadata": {},
   "outputs": [
    {
     "name": "stdout",
     "output_type": "stream",
     "text": [
      "Target omega: 3.38 GHz\n"
     ]
    }
   ],
   "source": [
    "Ec  = 0.143 \n",
    "Ej = 10 \n",
    "target_omega = np.sqrt(8*Ec*Ej) #* 1e-9 # convert to GHz\n",
    "print(f\"Target omega: {target_omega:.2f} GHz\")\n"
   ]
  },
  {
   "cell_type": "markdown",
   "id": "3933f100",
   "metadata": {},
   "source": [
    "|"
   ]
  }
 ],
 "metadata": {
  "kernelspec": {
   "display_name": "quantum",
   "language": "python",
   "name": "python3"
  },
  "language_info": {
   "codemirror_mode": {
    "name": "ipython",
    "version": 3
   },
   "file_extension": ".py",
   "mimetype": "text/x-python",
   "name": "python",
   "nbconvert_exporter": "python",
   "pygments_lexer": "ipython3",
   "version": "3.12.4"
  }
 },
 "nbformat": 4,
 "nbformat_minor": 5
}
