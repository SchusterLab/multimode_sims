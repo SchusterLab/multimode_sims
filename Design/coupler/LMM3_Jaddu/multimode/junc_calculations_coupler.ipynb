{
 "cells": [
  {
   "cell_type": "markdown",
   "id": "a79596d4",
   "metadata": {},
   "source": [
    "# Junction Parameters \n",
    "\n",
    "$$E_J = \\frac{\\hbar}{2e}{I_c}$$\n",
    "where critical current goes linearly with area and inversely prp to oxide thickness\n",
    "\n",
    "$$I_C = \\frac{\\pi \\Delta(0)}{2eR_n}$$\n",
    "where \\(\\Delta(0) = 170 \\mu\\text{eV}\\) for Aluminum \n",
    "\n",
    "$$\\omega = \\sqrt{8E_CE_J} - E_C$$ \n",
    "for transmon\n"
   ]
  },
  {
   "cell_type": "code",
   "execution_count": 2,
   "id": "424e7304",
   "metadata": {},
   "outputs": [],
   "source": [
    "critical_current_per_area = 0.2 # micro A /um^2\n",
    "junction_length = 0.300 # currently we are getting 0.300 um\n"
   ]
  },
  {
   "cell_type": "code",
   "execution_count": 3,
   "id": "2cf8a4a6",
   "metadata": {},
   "outputs": [],
   "source": [
    "# m,akeimport numpy as np"
   ]
  },
  {
   "cell_type": "code",
   "execution_count": null,
   "id": "74c4dd83",
   "metadata": {},
   "outputs": [],
   "source": [
    "import numpy as np\n",
    "\n"
   ]
  },
  {
   "cell_type": "code",
   "execution_count": 5,
   "id": "c58fc7b3",
   "metadata": {},
   "outputs": [],
   "source": [
    "# def compute_junction_length(bridge_width, undercut_height, angle_deg, first_layer_height= 0.045):\n",
    "#     \"\"\"\n",
    "#     Compute the junction length given bridge width, undercut height, and angle.\n",
    "#     Returns the junction length in um.\n",
    "\n",
    "#     angle_deg: specified in plassys in deg\n",
    "#     \"\"\"\n",
    "#     dep_width_beam_1 = -1*(undercut_height * np.tan(np.radians(angle_deg))) + bridge_width\n",
    "#     dep_width_beam_2 = (undercut_height - first_layer_height) * np.tan(np.radians(angle_deg))\n",
    "#     print(f\"Dep width beam 1: {dep_width_beam_1:.2f} um\")\n",
    "#     print(f\"Dep width beam 2: {dep_width_beam_2:.2f} um\")\n",
    "#     return dep_width_beam_2 - dep_width_beam_1\n",
    "\n",
    "# compute_junction_length(bridge_width=0.2, undercut_height=0.610, angle_deg=15.7)"
   ]
  },
  {
   "cell_type": "markdown",
   "id": "c61c6859",
   "metadata": {},
   "source": [
    "# What is the \\(E_J\\) I need?"
   ]
  },
  {
   "cell_type": "code",
   "execution_count": 6,
   "id": "87dd4695",
   "metadata": {},
   "outputs": [
    {
     "name": "stdout",
     "output_type": "stream",
     "text": [
      "targ_Ej = 23.40 GHz\n"
     ]
    }
   ],
   "source": [
    "# given E_c  and omeaga find E_J\n",
    "Ec = 0.06 # GHz\n",
    "target_omega = 4.8# GHz\n",
    "is_squid = True\n",
    "def find_E_J(E_c, omega):\n",
    "    \"\"\"\n",
    "    Find E_J given E_c and omega.\n",
    "    \"\"\"\n",
    "    return ((omega-E_c)**2) / (8 * E_c)\n",
    "\n",
    "targ_Ej = find_E_J(Ec, target_omega)\n",
    "if is_squid:\n",
    "    # for squid we need to divide by 2\n",
    "    targ_Ej /= 2\n",
    "print(f\"targ_Ej = {targ_Ej:.2f} GHz\")"
   ]
  },
  {
   "cell_type": "code",
   "execution_count": 7,
   "id": "3739dcba",
   "metadata": {},
   "outputs": [
    {
     "name": "stdout",
     "output_type": "stream",
     "text": [
      "L_J = 6.99e+00 nH\n"
     ]
    }
   ],
   "source": [
    "\n",
    "def find_L_J(E_J_freq):\n",
    "    \"\"\"\n",
    "    Calculate Josephson inductance L_J from Josephson energy frequency E_J_freq (in GHz).\n",
    "\n",
    "    L_J = Φ₀² / (4 * π² * h * E_J_freq)\n",
    "    where:\n",
    "        Φ₀ = flux quantum = 2.068e-15 Wb\n",
    "        h = Planck's constant = 2π * ħ\n",
    "    \"\"\"\n",
    "    phi0 = 2.068e-15  # Wb\n",
    "    h = 6.62607015e-34  # J*s\n",
    "    E_J_Hz = E_J_freq * 1e9  # Convert GHz to Hz\n",
    "    L_J = phi0**2 / (4 * np.pi**2 * h * E_J_Hz)\n",
    "    return L_J\n",
    "\n",
    "L_J = find_L_J(targ_Ej)\n",
    "print(f\"L_J = {L_J * 1e9:.2e} nH\")\n",
    "    "
   ]
  },
  {
   "cell_type": "code",
   "execution_count": 8,
   "id": "75f89e36",
   "metadata": {},
   "outputs": [
    {
     "name": "stdout",
     "output_type": "stream",
     "text": [
      "Capacitance C = 851.10 fF\n"
     ]
    }
   ],
   "source": [
    "# convert C into E_C\n",
    "def capacitance_from_Ec(Ec):\n",
    "    \"\"\"\n",
    "    Convert charging energy E_c (in GHz) to capacitance C (in Farads).\n",
    "    E_c = e^2 / (2C * hbar)\n",
    "    \"\"\"\n",
    "    e = 1.602176634e-19  # C\n",
    "    hbar = 1.0545718e-34  # J*s\n",
    "    Ec_J = Ec * 1e9 * hbar  # Convert GHz to Joules\n",
    "    C = e**2 / (2 * Ec_J)\n",
    "    return C\n",
    "\n",
    "C = capacitance_from_Ec(Ec = 0.143)\n",
    "print(f\"Capacitance C = {C*1e15:.2f} fF\")"
   ]
  },
  {
   "cell_type": "code",
   "execution_count": 9,
   "id": "7af501c5",
   "metadata": {},
   "outputs": [
    {
     "data": {
      "text/plain": [
       "np.float64(12.969127909106332)"
      ]
     },
     "execution_count": 9,
     "metadata": {},
     "output_type": "execute_result"
    }
   ],
   "source": [
    "1/np.sqrt(L_J*C) * 1e-9 # convert to GHz"
   ]
  },
  {
   "cell_type": "markdown",
   "id": "9cdc66ec",
   "metadata": {},
   "source": [
    "# Utilities"
   ]
  },
  {
   "cell_type": "code",
   "execution_count": 12,
   "id": "bcc8041a",
   "metadata": {},
   "outputs": [],
   "source": [
    "# Conversions from SEM \n",
    "def bridge_width_to_junction_length(bridge_width):\n",
    "    junction_length = 0 \n",
    "    if bridge_width == 0.2: \n",
    "        junction_length = 0.300\n",
    "    return junction_length"
   ]
  },
  {
   "cell_type": "code",
   "execution_count": 15,
   "id": "82e1f99f",
   "metadata": {},
   "outputs": [],
   "source": [
    "def pin_size_from_Ej(E_j, critical_current_per_area, bridge_width):\n",
    "    \"\"\"\n",
    "    Calculate the pin size (area) needed for a given E_j.\n",
    "    E_j: Josephson energy in GHz\n",
    "    critical_current_per_area: in microA/um^2\n",
    "    gap: in um (not used in calculation, just for reference)\n",
    "    Returns: area in um^2\n",
    "    \"\"\"\n",
    "    # Constants\n",
    "    hbar = 1.0545718e-34  # J*s\n",
    "    e = 1.602176634e-19   # C\n",
    "    GHz_to_J = 6.62607015e-34  # Planck's constant (J*s) * 1 Hz\n",
    "\n",
    "    # Convert E_j from GHz to Joules\n",
    "    E_j_J = E_j * GHz_to_J * 1e9\n",
    "\n",
    "    # Calculate I_c from E_j\n",
    "    I_c = (2 * e * E_j_J) / hbar  # in Amps\n",
    "\n",
    "    # Convert critical_current_per_area to A/um^2\n",
    "    jc = critical_current_per_area * 1e-6\n",
    "\n",
    "    # Area in um^2\n",
    "    area = I_c / jc\n",
    "    return area, area/bridge_width_to_junction_length(bridge_width)\n",
    "\n",
    "# given the calculations below, compute the bridge width given angle, undercut length and junction length\n",
    "# def compute_bridge_width(junction_length, undercut_length, angle_deg):\n",
    "#     \"\"\"\n",
    "#     Compute the bridge width given junction length, undercut length, and angle.\n",
    "#     Returns the bridge width in um.\n",
    "#     \"\"\"\n",
    "#     dep_width = undercut_length * np.tan(np.radians(angle_deg))\n",
    "#     bridge_width = 2 * dep_width - junction_length\n",
    "#     return bridge_width\n",
    "\n",
    "# bridge_width = compute_bridge_width(junction_length = junction_length, undercut_length= 0.610, angle_deg = 15.7)\n",
    "# print(f\"Bridge width: {bridge_width:.2f} um\")\n",
    "# gap = junction_length\n",
    "\n",
    "def calculate_R_n(pin_length, bridge_width, critical_current_per_area):\n",
    "    \"\"\"\n",
    "    Calculate the normal resistance R_n of the junction.\n",
    "\n",
    "    Formulas used:\n",
    "    - Area = pin_length × gap\n",
    "    - Critical current: I_c = critical_current_per_area × Area\n",
    "    - Josephson relation: E_J = (ħ / 2e) * I_c\n",
    "    - I_C = (π Δ(0)) / (2e R_n), where Δ(0) = 170 μeV for Aluminum\n",
    "\n",
    "    Args:\n",
    "        pin_length: length of the pin in um\n",
    "        gap: gap in um\n",
    "        critical_current_per_area: in microA/um^2\n",
    "\n",
    "    Returns:\n",
    "        R_n in Ohms\n",
    "    \"\"\"\n",
    "    # Constants\n",
    "    e = 1.602176634e-19  # C\n",
    "    Delta_0 = 170e-6 * e  # 170 μeV in Joules\n",
    "\n",
    "    # Calculate area\n",
    "    area = pin_length * bridge_width_to_junction_length(bridge_width)  # um^2\n",
    "\n",
    "    # Calculate critical current (I_c)\n",
    "    critical_current_per_area_A = critical_current_per_area * 1e-6  # A/um^2\n",
    "    I_c = critical_current_per_area_A * area  # A\n",
    "\n",
    "    # Calculate R_n using I_C = (π Δ(0)) / (2e R_n)\n",
    "    R_n = (np.pi * Delta_0) / (2 * e * I_c)  # Ohms\n",
    "\n",
    "    return R_n\n"
   ]
  },
  {
   "cell_type": "markdown",
   "id": "9179670f",
   "metadata": {},
   "source": [
    "# What is the pin size I need ? \n",
    "given a gap of 0.2 micron "
   ]
  },
  {
   "cell_type": "code",
   "execution_count": null,
   "id": "cfe40ef4",
   "metadata": {},
   "outputs": [
    {
     "data": {
      "text/plain": [
       "array([0.2, 0.5, 0.8])"
      ]
     },
     "execution_count": 11,
     "metadata": {},
     "output_type": "execute_result"
    }
   ],
   "source": [
    "\n",
    "\n",
    "jc_values = np.linspace(0.2, 0.8, 3)\n",
    "jc_values"
   ]
  },
  {
   "cell_type": "code",
   "execution_count": 14,
   "id": "231c96e7",
   "metadata": {},
   "outputs": [
    {
     "name": "stdout",
     "output_type": "stream",
     "text": [
      "For jc = 0.20 nA/um, required area = 0.24 um^2 and pin width = 0.79 um\n",
      "For jc = 0.50 nA/um, required area = 0.09 um^2 and pin width = 0.31 um\n",
      "For jc = 0.80 nA/um, required area = 0.06 um^2 and pin width = 0.20 um\n"
     ]
    }
   ],
   "source": [
    "areas = []\n",
    "pin_lengths = []\n",
    "for jc in jc_values:\n",
    "    area, pin_length = pin_size_from_Ej(targ_Ej, jc, bridge_width=0.2)\n",
    "    areas.append(area)\n",
    "    pin_lengths.append(pin_length)\n",
    "    # print for jc  of... require area ... and pin width  ....\n",
    "    print(f\"For jc = {jc:.2f} nA/um, required area = {area:.2f} um^2 and pin width = {pin_length:.2f} um\")\n"
   ]
  },
  {
   "cell_type": "code",
   "execution_count": 18,
   "id": "11c3c21b",
   "metadata": {},
   "outputs": [
    {
     "data": {
      "text/plain": [
       "array([0.79, 0.31, 0.2 ])"
      ]
     },
     "execution_count": 18,
     "metadata": {},
     "output_type": "execute_result"
    }
   ],
   "source": [
    "np.round(np.array(pin_lengths),2)"
   ]
  },
  {
   "cell_type": "markdown",
   "id": "69881ed2",
   "metadata": {},
   "source": [
    "# What RT resistance will I measure?"
   ]
  },
  {
   "cell_type": "code",
   "execution_count": 16,
   "id": "0ede18b1",
   "metadata": {},
   "outputs": [
    {
     "name": "stdout",
     "output_type": "stream",
     "text": [
      "For jc = 0.20 nA/um and pin length = 0.79 um, expected R_n = 5667.13 Ω\n",
      "For jc = 0.50 nA/um and pin length = 0.31 um, expected R_n = 5667.13 Ω\n",
      "For jc = 0.80 nA/um and pin length = 0.20 um, expected R_n = 5667.13 Ω\n"
     ]
    }
   ],
   "source": [
    "for jc, area, pin_length in zip(jc_values, areas, pin_lengths):\n",
    "    R_n = calculate_R_n(pin_length, bridge_width=0.2, critical_current_per_area=jc)\n",
    "    print(f\"For jc = {jc:.2f} nA/um and pin length = {pin_length:.2f} um, expected R_n = {R_n:.2f} Ω\")\n"
   ]
  },
  {
   "cell_type": "markdown",
   "id": "9a07a364",
   "metadata": {},
   "source": [
    "# Summarize the results of whole notebook in a few lines with a list of ciritcial parameters"
   ]
  },
  {
   "cell_type": "markdown",
   "id": "a855d69c",
   "metadata": {},
   "source": []
  },
  {
   "cell_type": "code",
   "execution_count": 81,
   "id": "cf70f49c",
   "metadata": {},
   "outputs": [
    {
     "name": "stdout",
     "output_type": "stream",
     "text": [
      "Summary of Critical Parameters:\n",
      "- Target Frequency (ω): 4.8 GHz\n",
      "- Charging Energy (E_c): 0.060 GHz\n",
      "- Target Josephson Energy (E_J): 23.40 GHz\n",
      "- Critical Current per Area: 0.2 μA/μm²\n",
      "- Gap: 0.25 μm\n",
      "- Required Pin Length: 0.94 μm\n",
      "- Expected RT Resistance (R_n): 5667.13 Ω\n",
      "- Bridge Width: 0.20 um\n"
     ]
    }
   ],
   "source": [
    "print(\"Summary of Critical Parameters:\")\n",
    "print(f\"- Target Frequency (ω): {target_omega} GHz\")\n",
    "print(f\"- Charging Energy (E_c): {Ec:.3f} GHz\")\n",
    "print(f\"- Target Josephson Energy (E_J): {targ_Ej:.2f} GHz\")\n",
    "print(f\"- Critical Current per Area: {critical_current_per_area} μA/μm²\")\n",
    "print(f\"- Gap: {gap} μm\")\n",
    "print(f\"- Required Pin Length: {pin_length:.2f} μm\")\n",
    "print(f\"- Expected RT Resistance (R_n): {R_n:.2f} Ω\")\n",
    "print(f\"- Bridge Width: {bridge_width:.2f} um\")"
   ]
  },
  {
   "cell_type": "code",
   "execution_count": null,
   "id": "6c2f8bf9",
   "metadata": {},
   "outputs": [],
   "source": []
  },
  {
   "cell_type": "code",
   "execution_count": null,
   "id": "64bd4d34",
   "metadata": {},
   "outputs": [],
   "source": []
  }
 ],
 "metadata": {
  "kernelspec": {
   "display_name": "klayout_env",
   "language": "python",
   "name": "python3"
  },
  "language_info": {
   "codemirror_mode": {
    "name": "ipython",
    "version": 3
   },
   "file_extension": ".py",
   "mimetype": "text/x-python",
   "name": "python",
   "nbconvert_exporter": "python",
   "pygments_lexer": "ipython3",
   "version": "3.11.5"
  }
 },
 "nbformat": 4,
 "nbformat_minor": 5
}
