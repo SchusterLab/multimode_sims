{
 "cells": [
  {
   "cell_type": "markdown",
   "id": "8ea58999",
   "metadata": {},
   "source": []
  },
  {
   "cell_type": "code",
   "execution_count": 1,
   "id": "ed186a55",
   "metadata": {},
   "outputs": [],
   "source": [
    "import numpy as np"
   ]
  },
  {
   "cell_type": "code",
   "execution_count": 2,
   "id": "cc6f8c57",
   "metadata": {},
   "outputs": [
    {
     "ename": "KeyboardInterrupt",
     "evalue": "",
     "output_type": "error",
     "traceback": [
      "\u001b[31m---------------------------------------------------------------------------\u001b[39m",
      "\u001b[31mKeyboardInterrupt\u001b[39m                         Traceback (most recent call last)",
      "\u001b[36mCell\u001b[39m\u001b[36m \u001b[39m\u001b[32mIn[2]\u001b[39m\u001b[32m, line 5\u001b[39m\n\u001b[32m      2\u001b[39m \u001b[38;5;66;03m# sys.path.append(r\"C:\\_Lib\\python\")\u001b[39;00m\n\u001b[32m      3\u001b[39m sys.path.append(\u001b[33mr\u001b[39m\u001b[33m\"\u001b[39m\u001b[33mC:\u001b[39m\u001b[33m\\\u001b[39m\u001b[33mUsers\u001b[39m\u001b[33m\\\u001b[39m\u001b[33meeshg\u001b[39m\u001b[33m\\\u001b[39m\u001b[33mDocuments\u001b[39m\u001b[33m\\\u001b[39m\u001b[33mmultimode_sims\u001b[39m\u001b[33m\\\u001b[39m\u001b[33mDesign\u001b[39m\u001b[33m\\\u001b[39m\u001b[33mcoupler\u001b[39m\u001b[33m\"\u001b[39m)\n\u001b[32m----> \u001b[39m\u001b[32m5\u001b[39m \u001b[38;5;28;01mfrom\u001b[39;00m\u001b[38;5;250m \u001b[39m\u001b[34;01mmask_maker\u001b[39;00m\u001b[38;5;250m \u001b[39m\u001b[38;5;28;01mimport\u001b[39;00m * \n",
      "\u001b[36mFile \u001b[39m\u001b[32m~\\Documents\\multimode_sims\\Design\\coupler\\mask_maker\\__init__.py:3\u001b[39m\n\u001b[32m      1\u001b[39m \u001b[38;5;28;01mfrom\u001b[39;00m\u001b[38;5;250m \u001b[39m\u001b[34;01m.\u001b[39;00m\u001b[38;5;250m \u001b[39m\u001b[38;5;28;01mimport\u001b[39;00m sdxf\n\u001b[32m      2\u001b[39m \u001b[38;5;28;01mfrom\u001b[39;00m\u001b[38;5;250m \u001b[39m\u001b[34;01m.\u001b[39;00m\u001b[34;01mMaskMaker\u001b[39;00m\u001b[38;5;250m \u001b[39m\u001b[38;5;28;01mimport\u001b[39;00m *\n\u001b[32m----> \u001b[39m\u001b[32m3\u001b[39m \u001b[38;5;28;01mfrom\u001b[39;00m\u001b[38;5;250m \u001b[39m\u001b[34;01m.\u001b[39;00m\u001b[34;01mResonatorCalculations\u001b[39;00m\u001b[38;5;250m \u001b[39m\u001b[38;5;28;01mimport\u001b[39;00m *\n\u001b[32m      4\u001b[39m \u001b[38;5;28;01mfrom\u001b[39;00m\u001b[38;5;250m \u001b[39m\u001b[34;01m.\u001b[39;00m\u001b[34;01minductors\u001b[39;00m\u001b[38;5;250m \u001b[39m\u001b[38;5;28;01mimport\u001b[39;00m *\n\u001b[32m      5\u001b[39m \u001b[38;5;28;01mfrom\u001b[39;00m\u001b[38;5;250m \u001b[39m\u001b[34;01m.\u001b[39;00m\u001b[34;01mHangers\u001b[39;00m\u001b[38;5;250m \u001b[39m\u001b[38;5;28;01mimport\u001b[39;00m *\n",
      "\u001b[36mFile \u001b[39m\u001b[32m~\\Documents\\multimode_sims\\Design\\coupler\\mask_maker\\ResonatorCalculations.py:2\u001b[39m\n\u001b[32m      1\u001b[39m \u001b[38;5;28;01mfrom\u001b[39;00m\u001b[38;5;250m \u001b[39m\u001b[34;01mnumpy\u001b[39;00m\u001b[38;5;250m \u001b[39m\u001b[38;5;28;01mimport\u001b[39;00m sqrt,pi,tanh,sinh\n\u001b[32m----> \u001b[39m\u001b[32m2\u001b[39m \u001b[38;5;28;01mfrom\u001b[39;00m\u001b[38;5;250m \u001b[39m\u001b[34;01mscipy\u001b[39;00m\u001b[34;01m.\u001b[39;00m\u001b[34;01mspecial\u001b[39;00m\u001b[38;5;250m \u001b[39m\u001b[38;5;28;01mimport\u001b[39;00m ellipk\n\u001b[32m      3\u001b[39m \u001b[38;5;28;01mfrom\u001b[39;00m\u001b[38;5;250m \u001b[39m\u001b[34;01mscipy\u001b[39;00m\u001b[34;01m.\u001b[39;00m\u001b[34;01moptimize\u001b[39;00m\u001b[38;5;250m \u001b[39m\u001b[38;5;28;01mimport\u001b[39;00m newton, brentq\n\u001b[32m      4\u001b[39m \u001b[38;5;28;01mfrom\u001b[39;00m\u001b[38;5;250m \u001b[39m\u001b[34;01mscipy\u001b[39;00m\u001b[34;01m.\u001b[39;00m\u001b[34;01minterpolate\u001b[39;00m\u001b[38;5;250m \u001b[39m\u001b[38;5;28;01mimport\u001b[39;00m interp1d\n",
      "\u001b[36mFile \u001b[39m\u001b[32mc:\\Users\\eeshg\\miniconda3\\envs\\klayout_env\\Lib\\site-packages\\scipy\\special\\__init__.py:788\u001b[39m\n\u001b[32m    785\u001b[39m \u001b[38;5;28;01mfrom\u001b[39;00m\u001b[38;5;250m \u001b[39m\u001b[34;01m.\u001b[39;00m\u001b[34;01m_ufuncs\u001b[39;00m\u001b[38;5;250m \u001b[39m\u001b[38;5;28;01mimport\u001b[39;00m *\n\u001b[32m    787\u001b[39m \u001b[38;5;66;03m# Replace some function definitions from _ufuncs to add Array API support\u001b[39;00m\n\u001b[32m--> \u001b[39m\u001b[32m788\u001b[39m \u001b[38;5;28;01mfrom\u001b[39;00m\u001b[38;5;250m \u001b[39m\u001b[34;01m.\u001b[39;00m\u001b[34;01m_support_alternative_backends\u001b[39;00m\u001b[38;5;250m \u001b[39m\u001b[38;5;28;01mimport\u001b[39;00m *\n\u001b[32m    790\u001b[39m \u001b[38;5;28;01mfrom\u001b[39;00m\u001b[38;5;250m \u001b[39m\u001b[34;01m.\u001b[39;00m\u001b[38;5;250m \u001b[39m\u001b[38;5;28;01mimport\u001b[39;00m _basic\n\u001b[32m    791\u001b[39m \u001b[38;5;28;01mfrom\u001b[39;00m\u001b[38;5;250m \u001b[39m\u001b[34;01m.\u001b[39;00m\u001b[34;01m_basic\u001b[39;00m\u001b[38;5;250m \u001b[39m\u001b[38;5;28;01mimport\u001b[39;00m *\n",
      "\u001b[36mFile \u001b[39m\u001b[32mc:\\Users\\eeshg\\miniconda3\\envs\\klayout_env\\Lib\\site-packages\\scipy\\special\\_support_alternative_backends.py:8\u001b[39m\n\u001b[32m      5\u001b[39m \u001b[38;5;28;01mfrom\u001b[39;00m\u001b[38;5;250m \u001b[39m\u001b[34;01mtypes\u001b[39;00m\u001b[38;5;250m \u001b[39m\u001b[38;5;28;01mimport\u001b[39;00m ModuleType\n\u001b[32m      7\u001b[39m \u001b[38;5;28;01mimport\u001b[39;00m\u001b[38;5;250m \u001b[39m\u001b[34;01mnumpy\u001b[39;00m\u001b[38;5;250m \u001b[39m\u001b[38;5;28;01mas\u001b[39;00m\u001b[38;5;250m \u001b[39m\u001b[34;01mnp\u001b[39;00m\n\u001b[32m----> \u001b[39m\u001b[32m8\u001b[39m \u001b[38;5;28;01mfrom\u001b[39;00m\u001b[38;5;250m \u001b[39m\u001b[34;01mscipy\u001b[39;00m\u001b[34;01m.\u001b[39;00m\u001b[34;01m_lib\u001b[39;00m\u001b[34;01m.\u001b[39;00m\u001b[34;01m_array_api\u001b[39;00m\u001b[38;5;250m \u001b[39m\u001b[38;5;28;01mimport\u001b[39;00m (\n\u001b[32m      9\u001b[39m     array_namespace, scipy_namespace_for, is_numpy, is_dask, is_marray,\n\u001b[32m     10\u001b[39m     xp_promote, xp_capabilities, SCIPY_ARRAY_API\n\u001b[32m     11\u001b[39m )\n\u001b[32m     12\u001b[39m \u001b[38;5;28;01mimport\u001b[39;00m\u001b[38;5;250m \u001b[39m\u001b[34;01mscipy\u001b[39;00m\u001b[34;01m.\u001b[39;00m\u001b[34;01m_lib\u001b[39;00m\u001b[34;01m.\u001b[39;00m\u001b[34;01marray_api_extra\u001b[39;00m\u001b[38;5;250m \u001b[39m\u001b[38;5;28;01mas\u001b[39;00m\u001b[38;5;250m \u001b[39m\u001b[34;01mxpx\u001b[39;00m\n\u001b[32m     13\u001b[39m \u001b[38;5;28;01mfrom\u001b[39;00m\u001b[38;5;250m \u001b[39m\u001b[34;01m.\u001b[39;00m\u001b[38;5;250m \u001b[39m\u001b[38;5;28;01mimport\u001b[39;00m _ufuncs\n",
      "\u001b[36mFile \u001b[39m\u001b[32mc:\\Users\\eeshg\\miniconda3\\envs\\klayout_env\\Lib\\site-packages\\scipy\\_lib\\_array_api.py:25\u001b[39m\n\u001b[32m     22\u001b[39m \u001b[38;5;28;01mimport\u001b[39;00m\u001b[38;5;250m \u001b[39m\u001b[34;01mnumpy\u001b[39;00m\u001b[34;01m.\u001b[39;00m\u001b[34;01mtyping\u001b[39;00m\u001b[38;5;250m \u001b[39m\u001b[38;5;28;01mas\u001b[39;00m\u001b[38;5;250m \u001b[39m\u001b[34;01mnpt\u001b[39;00m\n\u001b[32m     24\u001b[39m \u001b[38;5;28;01mfrom\u001b[39;00m\u001b[38;5;250m \u001b[39m\u001b[34;01mscipy\u001b[39;00m\u001b[34;01m.\u001b[39;00m\u001b[34;01m_lib\u001b[39;00m\u001b[38;5;250m \u001b[39m\u001b[38;5;28;01mimport\u001b[39;00m array_api_compat\n\u001b[32m---> \u001b[39m\u001b[32m25\u001b[39m \u001b[38;5;28;01mfrom\u001b[39;00m\u001b[38;5;250m \u001b[39m\u001b[34;01mscipy\u001b[39;00m\u001b[34;01m.\u001b[39;00m\u001b[34;01m_lib\u001b[39;00m\u001b[34;01m.\u001b[39;00m\u001b[34;01marray_api_compat\u001b[39;00m\u001b[38;5;250m \u001b[39m\u001b[38;5;28;01mimport\u001b[39;00m (\n\u001b[32m     26\u001b[39m     is_array_api_obj,\n\u001b[32m     27\u001b[39m     is_lazy_array,\n\u001b[32m     28\u001b[39m     size \u001b[38;5;28;01mas\u001b[39;00m xp_size,\n\u001b[32m     29\u001b[39m     numpy \u001b[38;5;28;01mas\u001b[39;00m np_compat,\n\u001b[32m     30\u001b[39m     device \u001b[38;5;28;01mas\u001b[39;00m xp_device,\n\u001b[32m     31\u001b[39m     is_numpy_namespace \u001b[38;5;28;01mas\u001b[39;00m is_numpy,\n\u001b[32m     32\u001b[39m     is_cupy_namespace \u001b[38;5;28;01mas\u001b[39;00m is_cupy,\n\u001b[32m     33\u001b[39m     is_torch_namespace \u001b[38;5;28;01mas\u001b[39;00m is_torch,\n\u001b[32m     34\u001b[39m     is_jax_namespace \u001b[38;5;28;01mas\u001b[39;00m is_jax,\n\u001b[32m     35\u001b[39m     is_dask_namespace \u001b[38;5;28;01mas\u001b[39;00m is_dask,\n\u001b[32m     36\u001b[39m     is_array_api_strict_namespace \u001b[38;5;28;01mas\u001b[39;00m is_array_api_strict\n\u001b[32m     37\u001b[39m )\n\u001b[32m     38\u001b[39m \u001b[38;5;28;01mfrom\u001b[39;00m\u001b[38;5;250m \u001b[39m\u001b[34;01mscipy\u001b[39;00m\u001b[34;01m.\u001b[39;00m\u001b[34;01m_lib\u001b[39;00m\u001b[34;01m.\u001b[39;00m\u001b[34;01m_sparse\u001b[39;00m\u001b[38;5;250m \u001b[39m\u001b[38;5;28;01mimport\u001b[39;00m issparse\n\u001b[32m     39\u001b[39m \u001b[38;5;28;01mfrom\u001b[39;00m\u001b[38;5;250m \u001b[39m\u001b[34;01mscipy\u001b[39;00m\u001b[34;01m.\u001b[39;00m\u001b[34;01m_lib\u001b[39;00m\u001b[34;01m.\u001b[39;00m\u001b[34;01m_docscrape\u001b[39;00m\u001b[38;5;250m \u001b[39m\u001b[38;5;28;01mimport\u001b[39;00m FunctionDoc\n",
      "\u001b[36mFile \u001b[39m\u001b[32mc:\\Users\\eeshg\\miniconda3\\envs\\klayout_env\\Lib\\site-packages\\scipy\\_lib\\array_api_compat\\numpy\\__init__.py:4\u001b[39m\n\u001b[32m      1\u001b[39m \u001b[38;5;66;03m# ruff: noqa: PLC0414\u001b[39;00m\n\u001b[32m      2\u001b[39m \u001b[38;5;28;01mfrom\u001b[39;00m\u001b[38;5;250m \u001b[39m\u001b[34;01mtyping\u001b[39;00m\u001b[38;5;250m \u001b[39m\u001b[38;5;28;01mimport\u001b[39;00m Final\n\u001b[32m----> \u001b[39m\u001b[32m4\u001b[39m \u001b[38;5;28;01mfrom\u001b[39;00m\u001b[38;5;250m \u001b[39m\u001b[34;01mnumpy\u001b[39;00m\u001b[38;5;250m \u001b[39m\u001b[38;5;28;01mimport\u001b[39;00m *  \u001b[38;5;66;03m# noqa: F403  # pyright: ignore[reportWildcardImportFromLibrary]\u001b[39;00m\n\u001b[32m      6\u001b[39m \u001b[38;5;66;03m# from numpy import * doesn't overwrite these builtin names\u001b[39;00m\n\u001b[32m      7\u001b[39m \u001b[38;5;28;01mfrom\u001b[39;00m\u001b[38;5;250m \u001b[39m\u001b[34;01mnumpy\u001b[39;00m\u001b[38;5;250m \u001b[39m\u001b[38;5;28;01mimport\u001b[39;00m \u001b[38;5;28mabs\u001b[39m \u001b[38;5;28;01mas\u001b[39;00m \u001b[38;5;28mabs\u001b[39m\n",
      "\u001b[36mFile \u001b[39m\u001b[32m<frozen importlib._bootstrap>:1227\u001b[39m, in \u001b[36m_handle_fromlist\u001b[39m\u001b[34m(module, fromlist, import_, recursive)\u001b[39m\n",
      "\u001b[36mFile \u001b[39m\u001b[32m<frozen importlib._bootstrap>:1229\u001b[39m, in \u001b[36m_handle_fromlist\u001b[39m\u001b[34m(module, fromlist, import_, recursive)\u001b[39m\n",
      "\u001b[36mFile \u001b[39m\u001b[32mc:\\Users\\eeshg\\miniconda3\\envs\\klayout_env\\Lib\\site-packages\\numpy\\__init__.py:755\u001b[39m, in \u001b[36m__getattr__\u001b[39m\u001b[34m(attr)\u001b[39m\n\u001b[32m    753\u001b[39m     \u001b[38;5;28;01mreturn\u001b[39;00m matlib\n\u001b[32m    754\u001b[39m \u001b[38;5;28;01melif\u001b[39;00m attr == \u001b[33m\"\u001b[39m\u001b[33mf2py\u001b[39m\u001b[33m\"\u001b[39m:\n\u001b[32m--> \u001b[39m\u001b[32m755\u001b[39m     \u001b[38;5;28;01mimport\u001b[39;00m\u001b[38;5;250m \u001b[39m\u001b[34;01mnumpy\u001b[39;00m\u001b[34;01m.\u001b[39;00m\u001b[34;01mf2py\u001b[39;00m\u001b[38;5;250m \u001b[39m\u001b[38;5;28;01mas\u001b[39;00m\u001b[38;5;250m \u001b[39m\u001b[34;01mf2py\u001b[39;00m\n\u001b[32m    756\u001b[39m     \u001b[38;5;28;01mreturn\u001b[39;00m f2py\n\u001b[32m    757\u001b[39m \u001b[38;5;28;01melif\u001b[39;00m attr == \u001b[33m\"\u001b[39m\u001b[33mtyping\u001b[39m\u001b[33m\"\u001b[39m:\n",
      "\u001b[36mFile \u001b[39m\u001b[32mc:\\Users\\eeshg\\miniconda3\\envs\\klayout_env\\Lib\\site-packages\\numpy\\f2py\\__init__.py:19\u001b[39m\n\u001b[32m     15\u001b[39m \u001b[38;5;28;01mimport\u001b[39;00m\u001b[38;5;250m \u001b[39m\u001b[34;01mwarnings\u001b[39;00m\n\u001b[32m     17\u001b[39m \u001b[38;5;28;01mfrom\u001b[39;00m\u001b[38;5;250m \u001b[39m\u001b[34;01mnumpy\u001b[39;00m\u001b[34;01m.\u001b[39;00m\u001b[34;01mexceptions\u001b[39;00m\u001b[38;5;250m \u001b[39m\u001b[38;5;28;01mimport\u001b[39;00m VisibleDeprecationWarning\n\u001b[32m---> \u001b[39m\u001b[32m19\u001b[39m \u001b[38;5;28;01mfrom\u001b[39;00m\u001b[38;5;250m \u001b[39m\u001b[34;01m.\u001b[39;00m\u001b[38;5;250m \u001b[39m\u001b[38;5;28;01mimport\u001b[39;00m diagnose, f2py2e\n\u001b[32m     21\u001b[39m run_main = f2py2e.run_main\n\u001b[32m     22\u001b[39m main = f2py2e.main\n",
      "\u001b[36mFile \u001b[39m\u001b[32mc:\\Users\\eeshg\\miniconda3\\envs\\klayout_env\\Lib\\site-packages\\numpy\\f2py\\f2py2e.py:21\u001b[39m\n\u001b[32m     17\u001b[39m \u001b[38;5;28;01mimport\u001b[39;00m\u001b[38;5;250m \u001b[39m\u001b[34;01msys\u001b[39;00m\n\u001b[32m     19\u001b[39m \u001b[38;5;28;01mfrom\u001b[39;00m\u001b[38;5;250m \u001b[39m\u001b[34;01mnumpy\u001b[39;00m\u001b[34;01m.\u001b[39;00m\u001b[34;01mf2py\u001b[39;00m\u001b[34;01m.\u001b[39;00m\u001b[34;01m_backends\u001b[39;00m\u001b[38;5;250m \u001b[39m\u001b[38;5;28;01mimport\u001b[39;00m f2py_build_generator\n\u001b[32m---> \u001b[39m\u001b[32m21\u001b[39m \u001b[38;5;28;01mfrom\u001b[39;00m\u001b[38;5;250m \u001b[39m\u001b[34;01m.\u001b[39;00m\u001b[38;5;250m \u001b[39m\u001b[38;5;28;01mimport\u001b[39;00m (\n\u001b[32m     22\u001b[39m     __version__,\n\u001b[32m     23\u001b[39m     auxfuncs,\n\u001b[32m     24\u001b[39m     capi_maps,\n\u001b[32m     25\u001b[39m     cb_rules,\n\u001b[32m     26\u001b[39m     cfuncs,\n\u001b[32m     27\u001b[39m     crackfortran,\n\u001b[32m     28\u001b[39m     f90mod_rules,\n\u001b[32m     29\u001b[39m     rules,\n\u001b[32m     30\u001b[39m )\n\u001b[32m     31\u001b[39m \u001b[38;5;28;01mfrom\u001b[39;00m\u001b[38;5;250m \u001b[39m\u001b[34;01m.\u001b[39;00m\u001b[34;01mcfuncs\u001b[39;00m\u001b[38;5;250m \u001b[39m\u001b[38;5;28;01mimport\u001b[39;00m errmess\n\u001b[32m     33\u001b[39m f2py_version = __version__.version\n",
      "\u001b[36mFile \u001b[39m\u001b[32mc:\\Users\\eeshg\\miniconda3\\envs\\klayout_env\\Lib\\site-packages\\numpy\\f2py\\capi_maps.py:24\u001b[39m\n\u001b[32m     20\u001b[39m \u001b[38;5;66;03m# The environment provided by auxfuncs.py is needed for some calls to eval.\u001b[39;00m\n\u001b[32m     21\u001b[39m \u001b[38;5;66;03m# As the needed functions cannot be determined by static inspection of the\u001b[39;00m\n\u001b[32m     22\u001b[39m \u001b[38;5;66;03m# code, it is safest to use import * pending a major refactoring of f2py.\u001b[39;00m\n\u001b[32m     23\u001b[39m \u001b[38;5;28;01mfrom\u001b[39;00m\u001b[38;5;250m \u001b[39m\u001b[34;01m.\u001b[39;00m\u001b[34;01mauxfuncs\u001b[39;00m\u001b[38;5;250m \u001b[39m\u001b[38;5;28;01mimport\u001b[39;00m *\n\u001b[32m---> \u001b[39m\u001b[32m24\u001b[39m \u001b[38;5;28;01mfrom\u001b[39;00m\u001b[38;5;250m \u001b[39m\u001b[34;01m.\u001b[39;00m\u001b[34;01mcrackfortran\u001b[39;00m\u001b[38;5;250m \u001b[39m\u001b[38;5;28;01mimport\u001b[39;00m markoutercomma\n\u001b[32m     26\u001b[39m __all__ = [\n\u001b[32m     27\u001b[39m     \u001b[33m'\u001b[39m\u001b[33mgetctype\u001b[39m\u001b[33m'\u001b[39m, \u001b[33m'\u001b[39m\u001b[33mgetstrlength\u001b[39m\u001b[33m'\u001b[39m, \u001b[33m'\u001b[39m\u001b[33mgetarrdims\u001b[39m\u001b[33m'\u001b[39m, \u001b[33m'\u001b[39m\u001b[33mgetpydocsign\u001b[39m\u001b[33m'\u001b[39m,\n\u001b[32m     28\u001b[39m     \u001b[33m'\u001b[39m\u001b[33mgetarrdocsign\u001b[39m\u001b[33m'\u001b[39m, \u001b[33m'\u001b[39m\u001b[33mgetinit\u001b[39m\u001b[33m'\u001b[39m, \u001b[33m'\u001b[39m\u001b[33msign2map\u001b[39m\u001b[33m'\u001b[39m, \u001b[33m'\u001b[39m\u001b[33mroutsign2map\u001b[39m\u001b[33m'\u001b[39m, \u001b[33m'\u001b[39m\u001b[33mmodsign2map\u001b[39m\u001b[33m'\u001b[39m,\n\u001b[32m     29\u001b[39m     \u001b[33m'\u001b[39m\u001b[33mcb_sign2map\u001b[39m\u001b[33m'\u001b[39m, \u001b[33m'\u001b[39m\u001b[33mcb_routsign2map\u001b[39m\u001b[33m'\u001b[39m, \u001b[33m'\u001b[39m\u001b[33mcommon_sign2map\u001b[39m\u001b[33m'\u001b[39m, \u001b[33m'\u001b[39m\u001b[33mprocess_f2cmap_dict\u001b[39m\u001b[33m'\u001b[39m\n\u001b[32m     30\u001b[39m ]\n\u001b[32m     33\u001b[39m depargs = []\n",
      "\u001b[36mFile \u001b[39m\u001b[32mc:\\Users\\eeshg\\miniconda3\\envs\\klayout_env\\Lib\\site-packages\\numpy\\f2py\\crackfortran.py:2961\u001b[39m\n\u001b[32m   2957\u001b[39m                 \u001b[38;5;28;01mdel\u001b[39;00m \u001b[38;5;28mvars\u001b[39m[n]\n\u001b[32m   2958\u001b[39m     \u001b[38;5;28;01mreturn\u001b[39;00m \u001b[38;5;28mvars\u001b[39m\n\u001b[32m-> \u001b[39m\u001b[32m2961\u001b[39m analyzeargs_re_1 = \u001b[43mre\u001b[49m\u001b[43m.\u001b[49m\u001b[43mcompile\u001b[49m\u001b[43m(\u001b[49m\u001b[33;43mr\u001b[39;49m\u001b[33;43m'\u001b[39;49m\u001b[33;43m\\\u001b[39;49m\u001b[33;43mA[a-z]+[\u001b[39;49m\u001b[33;43m\\\u001b[39;49m\u001b[33;43mw$]*\u001b[39;49m\u001b[33;43m\\\u001b[39;49m\u001b[33;43mZ\u001b[39;49m\u001b[33;43m'\u001b[39;49m\u001b[43m,\u001b[49m\u001b[43m \u001b[49m\u001b[43mre\u001b[49m\u001b[43m.\u001b[49m\u001b[43mI\u001b[49m\u001b[43m)\u001b[49m\n\u001b[32m   2964\u001b[39m \u001b[38;5;28;01mdef\u001b[39;00m\u001b[38;5;250m \u001b[39m\u001b[34mparam_eval\u001b[39m(v, g_params, params, dimspec=\u001b[38;5;28;01mNone\u001b[39;00m):\n\u001b[32m   2965\u001b[39m \u001b[38;5;250m    \u001b[39m\u001b[33;03m\"\"\"\u001b[39;00m\n\u001b[32m   2966\u001b[39m \u001b[33;03m    Creates a dictionary of indices and values for each parameter in a\u001b[39;00m\n\u001b[32m   2967\u001b[39m \u001b[33;03m    parameter array to be evaluated later.\u001b[39;00m\n\u001b[32m   (...)\u001b[39m\u001b[32m   2981\u001b[39m \u001b[33;03m    We are choosing 2 for now.\u001b[39;00m\n\u001b[32m   2982\u001b[39m \u001b[33;03m    \"\"\"\u001b[39;00m\n",
      "\u001b[36mFile \u001b[39m\u001b[32mc:\\Users\\eeshg\\miniconda3\\envs\\klayout_env\\Lib\\re\\__init__.py:227\u001b[39m, in \u001b[36mcompile\u001b[39m\u001b[34m(pattern, flags)\u001b[39m\n\u001b[32m    225\u001b[39m \u001b[38;5;28;01mdef\u001b[39;00m\u001b[38;5;250m \u001b[39m\u001b[34mcompile\u001b[39m(pattern, flags=\u001b[32m0\u001b[39m):\n\u001b[32m    226\u001b[39m     \u001b[33m\"\u001b[39m\u001b[33mCompile a regular expression pattern, returning a Pattern object.\u001b[39m\u001b[33m\"\u001b[39m\n\u001b[32m--> \u001b[39m\u001b[32m227\u001b[39m     \u001b[38;5;28;01mreturn\u001b[39;00m \u001b[43m_compile\u001b[49m\u001b[43m(\u001b[49m\u001b[43mpattern\u001b[49m\u001b[43m,\u001b[49m\u001b[43m \u001b[49m\u001b[43mflags\u001b[49m\u001b[43m)\u001b[49m\n",
      "\u001b[36mFile \u001b[39m\u001b[32mc:\\Users\\eeshg\\miniconda3\\envs\\klayout_env\\Lib\\re\\__init__.py:294\u001b[39m, in \u001b[36m_compile\u001b[39m\u001b[34m(pattern, flags)\u001b[39m\n\u001b[32m    288\u001b[39m     \u001b[38;5;28;01mimport\u001b[39;00m\u001b[38;5;250m \u001b[39m\u001b[34;01mwarnings\u001b[39;00m\n\u001b[32m    289\u001b[39m     warnings.warn(\u001b[33m\"\u001b[39m\u001b[33mThe re.TEMPLATE/re.T flag is deprecated \u001b[39m\u001b[33m\"\u001b[39m\n\u001b[32m    290\u001b[39m               \u001b[33m\"\u001b[39m\u001b[33mas it is an undocumented flag \u001b[39m\u001b[33m\"\u001b[39m\n\u001b[32m    291\u001b[39m               \u001b[33m\"\u001b[39m\u001b[33mwithout an obvious purpose. \u001b[39m\u001b[33m\"\u001b[39m\n\u001b[32m    292\u001b[39m               \u001b[33m\"\u001b[39m\u001b[33mDon\u001b[39m\u001b[33m'\u001b[39m\u001b[33mt use it.\u001b[39m\u001b[33m\"\u001b[39m,\n\u001b[32m    293\u001b[39m               \u001b[38;5;167;01mDeprecationWarning\u001b[39;00m)\n\u001b[32m--> \u001b[39m\u001b[32m294\u001b[39m p = \u001b[43m_compiler\u001b[49m\u001b[43m.\u001b[49m\u001b[43mcompile\u001b[49m\u001b[43m(\u001b[49m\u001b[43mpattern\u001b[49m\u001b[43m,\u001b[49m\u001b[43m \u001b[49m\u001b[43mflags\u001b[49m\u001b[43m)\u001b[49m\n\u001b[32m    295\u001b[39m \u001b[38;5;28;01mif\u001b[39;00m \u001b[38;5;129;01mnot\u001b[39;00m (flags & DEBUG):\n\u001b[32m    296\u001b[39m     \u001b[38;5;28;01mif\u001b[39;00m \u001b[38;5;28mlen\u001b[39m(_cache) >= _MAXCACHE:\n\u001b[32m    297\u001b[39m         \u001b[38;5;66;03m# Drop the oldest item\u001b[39;00m\n",
      "\u001b[36mFile \u001b[39m\u001b[32mc:\\Users\\eeshg\\miniconda3\\envs\\klayout_env\\Lib\\re\\_compiler.py:747\u001b[39m, in \u001b[36mcompile\u001b[39m\u001b[34m(p, flags)\u001b[39m\n\u001b[32m    744\u001b[39m \u001b[38;5;28;01melse\u001b[39;00m:\n\u001b[32m    745\u001b[39m     pattern = \u001b[38;5;28;01mNone\u001b[39;00m\n\u001b[32m--> \u001b[39m\u001b[32m747\u001b[39m code = \u001b[43m_code\u001b[49m\u001b[43m(\u001b[49m\u001b[43mp\u001b[49m\u001b[43m,\u001b[49m\u001b[43m \u001b[49m\u001b[43mflags\u001b[49m\u001b[43m)\u001b[49m\n\u001b[32m    749\u001b[39m \u001b[38;5;28;01mif\u001b[39;00m flags & SRE_FLAG_DEBUG:\n\u001b[32m    750\u001b[39m     \u001b[38;5;28mprint\u001b[39m()\n",
      "\u001b[36mFile \u001b[39m\u001b[32mc:\\Users\\eeshg\\miniconda3\\envs\\klayout_env\\Lib\\re\\_compiler.py:580\u001b[39m, in \u001b[36m_code\u001b[39m\u001b[34m(p, flags)\u001b[39m\n\u001b[32m    577\u001b[39m _compile_info(code, p, flags)\n\u001b[32m    579\u001b[39m \u001b[38;5;66;03m# compile the pattern\u001b[39;00m\n\u001b[32m--> \u001b[39m\u001b[32m580\u001b[39m \u001b[43m_compile\u001b[49m\u001b[43m(\u001b[49m\u001b[43mcode\u001b[49m\u001b[43m,\u001b[49m\u001b[43m \u001b[49m\u001b[43mp\u001b[49m\u001b[43m.\u001b[49m\u001b[43mdata\u001b[49m\u001b[43m,\u001b[49m\u001b[43m \u001b[49m\u001b[43mflags\u001b[49m\u001b[43m)\u001b[49m\n\u001b[32m    582\u001b[39m code.append(SUCCESS)\n\u001b[32m    584\u001b[39m \u001b[38;5;28;01mreturn\u001b[39;00m code\n",
      "\u001b[36mFile \u001b[39m\u001b[32mc:\\Users\\eeshg\\miniconda3\\envs\\klayout_env\\Lib\\re\\_compiler.py:111\u001b[39m, in \u001b[36m_compile\u001b[39m\u001b[34m(code, pattern, flags)\u001b[39m\n\u001b[32m    109\u001b[39m emit(av[\u001b[32m0\u001b[39m])\n\u001b[32m    110\u001b[39m emit(av[\u001b[32m1\u001b[39m])\n\u001b[32m--> \u001b[39m\u001b[32m111\u001b[39m \u001b[43m_compile\u001b[49m\u001b[43m(\u001b[49m\u001b[43mcode\u001b[49m\u001b[43m,\u001b[49m\u001b[43m \u001b[49m\u001b[43mav\u001b[49m\u001b[43m[\u001b[49m\u001b[32;43m2\u001b[39;49m\u001b[43m]\u001b[49m\u001b[43m,\u001b[49m\u001b[43m \u001b[49m\u001b[43mflags\u001b[49m\u001b[43m)\u001b[49m\n\u001b[32m    112\u001b[39m emit(SUCCESS)\n\u001b[32m    113\u001b[39m code[skip] = _len(code) - skip\n",
      "\u001b[36mFile \u001b[39m\u001b[32mc:\\Users\\eeshg\\miniconda3\\envs\\klayout_env\\Lib\\re\\_compiler.py:86\u001b[39m, in \u001b[36m_compile\u001b[39m\u001b[34m(code, pattern, flags)\u001b[39m\n\u001b[32m     84\u001b[39m             code[skip] = _len(code) - skip\n\u001b[32m     85\u001b[39m \u001b[38;5;28;01melif\u001b[39;00m op \u001b[38;5;129;01mis\u001b[39;00m IN:\n\u001b[32m---> \u001b[39m\u001b[32m86\u001b[39m     charset, hascased = \u001b[43m_optimize_charset\u001b[49m\u001b[43m(\u001b[49m\u001b[43mav\u001b[49m\u001b[43m,\u001b[49m\u001b[43m \u001b[49m\u001b[43miscased\u001b[49m\u001b[43m,\u001b[49m\u001b[43m \u001b[49m\u001b[43mtolower\u001b[49m\u001b[43m,\u001b[49m\u001b[43m \u001b[49m\u001b[43mfixes\u001b[49m\u001b[43m)\u001b[49m\n\u001b[32m     87\u001b[39m     \u001b[38;5;28;01mif\u001b[39;00m flags & SRE_FLAG_IGNORECASE \u001b[38;5;129;01mand\u001b[39;00m flags & SRE_FLAG_LOCALE:\n\u001b[32m     88\u001b[39m         emit(IN_LOC_IGNORE)\n",
      "\u001b[36mFile \u001b[39m\u001b[32mc:\\Users\\eeshg\\miniconda3\\envs\\klayout_env\\Lib\\re\\_compiler.py:374\u001b[39m, in \u001b[36m_optimize_charset\u001b[39m\u001b[34m(charset, iscased, fixup, fixes)\u001b[39m\n\u001b[32m    372\u001b[39m         mapping[i // \u001b[32m256\u001b[39m] = comps[chunk] = block\n\u001b[32m    373\u001b[39m         block += \u001b[32m1\u001b[39m\n\u001b[32m--> \u001b[39m\u001b[32m374\u001b[39m         data += chunk\n\u001b[32m    375\u001b[39m data = _mk_bitmap(data)\n\u001b[32m    376\u001b[39m data[\u001b[32m0\u001b[39m:\u001b[32m0\u001b[39m] = [block] + _bytes_to_codes(mapping)\n",
      "\u001b[31mKeyboardInterrupt\u001b[39m: "
     ]
    }
   ],
   "source": [
    "\n",
    "import sys\n",
    "# sys.path.append(r\"C:\\_Lib\\python\")\n",
    "sys.path.append(r\"C:\\Users\\eeshg\\Documents\\multimode_sims\\Design\\coupler\")\n",
    "\n",
    "from mask_maker import * "
   ]
  },
  {
   "cell_type": "code",
   "execution_count": null,
   "id": "f1f8e1c2",
   "metadata": {},
   "outputs": [
    {
     "name": "stdout",
     "output_type": "stream",
     "text": [
      "The autoreload extension is already loaded. To reload it, use:\n",
      "  %reload_ext autoreload\n"
     ]
    }
   ],
   "source": [
    "\n",
    "%load_ext autoreload\n",
    "%autoreload 2"
   ]
  },
  {
   "cell_type": "code",
   "execution_count": null,
   "id": "e85e15ea",
   "metadata": {},
   "outputs": [],
   "source": [
    "from mm_coupler import *\n",
    "from mm_chips_base import * "
   ]
  },
  {
   "cell_type": "markdown",
   "id": "10e1beb0",
   "metadata": {},
   "source": [
    "# Imports"
   ]
  },
  {
   "cell_type": "code",
   "execution_count": null,
   "id": "c83df455",
   "metadata": {},
   "outputs": [],
   "source": [
    "\n",
    "\n"
   ]
  },
  {
   "cell_type": "markdown",
   "id": "cf1ceee3",
   "metadata": {},
   "source": [
    "# Mask Generation"
   ]
  },
  {
   "cell_type": "markdown",
   "id": "a13aa1b0",
   "metadata": {},
   "source": [
    "## Wafer Initialization\n",
    "\n",
    " 4in wafer -> diameter=101600, flat_distance=48200\n",
    "\n",
    "\n",
    " 3in wafer -> diameter=76200., flat_distance=37100.\n",
    "\n",
    " \n",
    " 2in wafer -> diameter=50800., flat_distance=24100."
   ]
  },
  {
   "cell_type": "code",
   "execution_count": null,
   "id": "5c3a3cae",
   "metadata": {},
   "outputs": [
    {
     "name": "stdout",
     "output_type": "stream",
     "text": [
      "Maximum number of rows=1 and cols=17\n",
      "Room for 13 chips on wafer.\n"
     ]
    }
   ],
   "source": [
    "# MaskName = 'SirajCoupler_junc_no_dice'\n",
    "y_len = 6100\n",
    "s_match = 3\n",
    "w_hi=3\n",
    "shorten = 2000\n",
    "MaskName = f'Raph_design_shorten_horizontal_{shorten/2}__y={y_len}_s={s_match}_w={w_hi}um'\n",
    "\n",
    "save_folder=r\"C:\\Users\\eeshg\\Documents\\multimode_sims\\Design\\coupler\\Siraj1\\designs_dxf\"\n",
    "m = WaferMask(MaskName, diameter=101600., flat_angle=270., flat_distance=48200., wafer_padding=2500,\n",
    "                  chip_size=(5450, 48300),\n",
    "                  dicing_border=200, etchtype=False, wafer_edge=True,\n",
    "                  dashed_dicing_border=80, ndashes=10, dice_corner=False, square_arr=False)"
   ]
  },
  {
   "cell_type": "markdown",
   "id": "838cf71d",
   "metadata": {},
   "source": [
    "## Chips"
   ]
  },
  {
   "cell_type": "code",
   "execution_count": null,
   "id": "8db73234",
   "metadata": {},
   "outputs": [],
   "source": [
    "## Iniatilization\n",
    "mm_chips_base = MMChipsBase()\n",
    "chip_defaults = mm_chips_base.set_mask_init()"
   ]
  },
  {
   "cell_type": "markdown",
   "id": "c9107c4b",
   "metadata": {},
   "source": [
    "### Chip Configs"
   ]
  },
  {
   "cell_type": "code",
   "execution_count": null,
   "id": "9fa1f88a",
   "metadata": {},
   "outputs": [],
   "source": [
    "chip_configs = [\n",
    "        # (junc_correction, flip, CHIPNAME, type)\n",
    "        ({'width': 1.2, 'gap': 0.2}, False, 'C1A', 1),\n",
    "        # ({'width': 1.1, 'gap': 0.2}, False, 'C1B', 1),\n",
    "        # ({'width': 1.0, 'gap': 0.2}, False, 'C1C', 1),\n",
    "        # ({'width': 0.9, 'gap': 0.2}, False, 'C1D', 1),\n",
    "        # ({'width': 0.8, 'gap': 0.2}, False, 'C1E', 1),\n",
    "        # ({'width': 0.7, 'gap': 0.2}, False, 'C1F', 1),\n",
    "        # ({'width': 1.3, 'gap': 0.2}, False, 'C1G', 0),\n",
    "        # ({'width': 0.14, 'gap': 0.2}, False, 'C1H', 0),\n",
    "        # ({'width': 0.12, 'gap': 0.2}, False, 'C1I', 0),\n",
    "        # ({'width': 0.13, 'gap': 0.2}, False, 'C1J', 1),\n",
    "        # ({'width': 0.14, 'gap': 0.2}, False, 'C1K', 1),\n",
    "        # ({'width': 0.35, 'gap': 0.2}, False, 'C1L', 1),\n",
    "        # ({'width': 0.25, 'gap': 0.2}, False, 'C1M', 1),\n",
    "        # ({'width': 0.2, 'gap': 0.2}, False, 'C1N', 0),\n",
    "    ]"
   ]
  },
  {
   "cell_type": "markdown",
   "id": "9e0b7d7a",
   "metadata": {},
   "source": [
    "## Configs specific to Multimode Coupler Chip"
   ]
  },
  {
   "cell_type": "code",
   "execution_count": null,
   "id": "c959949e",
   "metadata": {},
   "outputs": [],
   "source": [
    "balun_configs = dict(\n",
    "    launcher_width=500,\n",
    "    launcher_length=500,\n",
    "    launcher_taper=500,\n",
    "    ground=2825,\n",
    "    gap2ground=200 * 1.0,\n",
    "    cpw_ground_width=200 * 1.25,\n",
    "    cpw_pin=12 * 1.25,\n",
    "    cpw_gap=6 * 1.25,\n",
    "    cpw_ground4=200 * 1.25,\n",
    "    cpw_ground4_length=200 * 1.25,\n",
    "    cps_gap2=12 * 1.25,\n",
    "    cps_w=(200 * 1.25 * 2 + 6 * 1.25 * 2 + 12 * 1.25 - 12 * 1.25) / 2,\n",
    "    cps_port2_length=400 - 100,\n",
    "    cps_pin=200,\n",
    "    cps_gap=3,\n",
    "    cps_gap_target=3,\n",
    "    cps_pin_target=3,\n",
    "    cps_pin_taper=2000,\n",
    "    scpw_length=1000,\n",
    ")"
   ]
  },
  {
   "cell_type": "code",
   "execution_count": null,
   "id": "d7db840a",
   "metadata": {},
   "outputs": [],
   "source": [
    "#end to end drops by shorten/2\n",
    "coupler_configs = dict(\n",
    "    s_lo=3,\n",
    "    s_hi=3,\n",
    "    w_lo=2422.5,\n",
    "    w_hi=3,\n",
    "    length_lo= 6100,\n",
    "    length_hi= 6100 - shorten,\n",
    "    length_pad_to_loop = 6100,\n",
    "    high_imp_horizontal_length_half = 1245 - shorten/4,\n",
    "    high_imp_bend_radius = 80,\n",
    "    high_imp_vertical_length = 95,\n",
    "    left_padx=1900,\n",
    "    left_pady=700,\n",
    "    right_padx=1900,\n",
    "    right_pady=1600 + 400,\n",
    "    bar_thick=50,\n",
    "    bar_length=500,\n",
    "    squid_space=30,\n",
    "    wirebond_x=750 - 200,\n",
    "    wirebond_y=400,\n",
    "    wirebond_dis=600,\n",
    "    flux_loop_x=190 - 60,\n",
    "    flux_loop_y=75 - 30 -2,\n",
    "    squid_width=4,\n",
    "    squid_x=39,\n",
    "    squid_y=14 + 4 * 2,\n",
    "    tripplr_jj=False,\n",
    "    width_long_left_pad = 120,\n",
    "    thin_bar_length=200,\n",
    "    xpos =  5450 / 2.,    # center of pads (coupler; not the junction area)\n",
    "    ypos = 46000 - 17 + 3 + 890 ,\n",
    ")"
   ]
  },
  {
   "cell_type": "code",
   "execution_count": null,
   "id": "1ee8f015",
   "metadata": {},
   "outputs": [
    {
     "data": {
      "text/plain": [
       "46876"
      ]
     },
     "execution_count": 537,
     "metadata": {},
     "output_type": "execute_result"
    }
   ],
   "source": [
    "46000 - 17 + 3 + 890"
   ]
  },
  {
   "cell_type": "code",
   "execution_count": null,
   "id": "bf022e40",
   "metadata": {},
   "outputs": [
    {
     "data": {
      "text/plain": [
       "2725.0"
      ]
     },
     "execution_count": 538,
     "metadata": {},
     "output_type": "execute_result"
    }
   ],
   "source": [
    "5450 / 2."
   ]
  },
  {
   "cell_type": "code",
   "execution_count": null,
   "id": "dd61f596",
   "metadata": {},
   "outputs": [],
   "source": [
    "# Loop configuration (was 'loop')\n",
    "loop_configs = dict(\n",
    "    x=31 + 0.65 * 2,\n",
    "    y=14,\n",
    "    gap=0.2,\n",
    "    gap_wide=0.7,\n",
    "    width=4,\n",
    "    overlap=23,\n",
    ")"
   ]
  },
  {
   "cell_type": "code",
   "execution_count": null,
   "id": "5db6834d",
   "metadata": {},
   "outputs": [],
   "source": [
    "\n",
    "# Junction configuration (was 'djj')\n",
    "junction_configs = dict(\n",
    "    bar_width=loop_configs['width'],\n",
    "    bar_length1=2,\n",
    "    bar_length2=2,\n",
    "    taper_length=3,\n",
    "    jj_length=0.8,\n",
    "    # jj_width=junc_correction['width'],\n",
    "    # jj_gap=junc_correction['gap'],\n",
    "    right_half_junction_width=2,\n",
    ")"
   ]
  },
  {
   "cell_type": "markdown",
   "id": "1bb48744",
   "metadata": {},
   "source": [
    "### test structure configs"
   ]
  },
  {
   "cell_type": "code",
   "execution_count": null,
   "id": "8e8cf452",
   "metadata": {},
   "outputs": [],
   "source": [
    "\n",
    "from copy import copy\n",
    "test_structure_configs = copy(coupler_configs)\n",
    "test_structure_configs.update(\n",
    "    dict(\n",
    "       \n",
    "        left_padx=800,\n",
    "        left_pady=600,\n",
    "        right_padx=800,\n",
    "        right_pady=800,\n",
    "        # bar_thick=100,\n",
    "        bar_length=200,\n",
    "        thin_bar_length=100,\n",
    "\n",
    "        width_long_left_pad = 50,\n",
    "        squid_movey=0,  # coupler center position\n",
    "    )\n",
    ")\n",
    "test_structure_coords = [(5450 / 4., 46000 + 5000 + 600 ),\n",
    "                         (5450 / 4., 46000 + 5000 +600 - 1500),\n",
    "                         (3*5450 / 4., 46000 + 5000 + 600 ),\n",
    "                         (3*5450 / 4., 46000 + 5000 +600 - 1500)]\n",
    "                         #(5450 / 2. + 1000, 46000 - 17 + 3 + 100)]"
   ]
  },
  {
   "cell_type": "markdown",
   "id": "fdce5147",
   "metadata": {},
   "source": [
    "### Chip Generation"
   ]
  },
  {
   "cell_type": "code",
   "execution_count": null,
   "id": "2142e080",
   "metadata": {},
   "outputs": [],
   "source": [
    "draw_optical = True\n",
    "# draw_optical = False\n",
    "# draw_ebeam = False\n",
    "draw_ebeam = False\n",
    "two_layer = True if draw_ebeam == 1 else False"
   ]
  },
  {
   "cell_type": "code",
   "execution_count": null,
   "id": "3b4f64ae",
   "metadata": {},
   "outputs": [
    {
     "name": "stdout",
     "output_type": "stream",
     "text": [
      "Drawing chip C1A with junc_correction={'width': 1.2, 'gap': 0.2}, flip=False, type=1\n",
      "Drawing test structure at (1362.5, 51600)\n",
      "Drawing test structure at (1362.5, 50100)\n",
      "Drawing test structure at (4087.5, 51600)\n",
      "Drawing test structure at (4087.5, 50100)\n"
     ]
    }
   ],
   "source": [
    "chips = []\n",
    "author = 'Eesh Gupta'\n",
    "for idx, (junc_correction, flip, CHIPNAME, type_) in enumerate(chip_configs):\n",
    "    print(f\"Drawing chip {CHIPNAME} with junc_correction={junc_correction}, flip={flip}, type={type_}\")\n",
    "    chip_id_loc = (100, 100) if idx < 2 else (200, 100)\n",
    "\n",
    "    \n",
    "    c = Chip(CHIPNAME, author=author, size=m.chip_size, mask_id_loc=(5800, 6430),\n",
    "                chip_id_loc=chip_id_loc, textsize=(70, 70), two_layer=two_layer, solid=False)\n",
    "    \n",
    "    full_chip_drawer = MultimodeCouplerChip(structure = c, chip_defaults=chip_defaults, flip=flip)\n",
    "    if draw_optical: \n",
    "        draw_marks = True if idx == 0 or idx == (len(chip_configs)-1) else False\n",
    "        full_chip_drawer.draw_alignment_marks(draw_marks=draw_marks)\n",
    "\n",
    "    if draw_optical:\n",
    "        full_chip_drawer.draw_coupler_optical(balun_configs=balun_configs, coupler_configs=coupler_configs)\n",
    "        for (xpos, ypos) in test_structure_coords:\n",
    "            print(f\"Drawing test structure at ({xpos}, {ypos})\")\n",
    "            test_structure_configs['xpos'] = xpos\n",
    "            test_structure_configs['ypos'] = ypos\n",
    "            full_chip_drawer.draw_coupler_optical(balun_configs=balun_configs, coupler_configs=test_structure_configs,\n",
    "                                                  flux_line_bool=False)\n",
    "    if draw_ebeam:\n",
    "        j_conf_for_chip = copy(junction_configs)\n",
    "        loop_configs_for_chip = copy(loop_configs)\n",
    "        full_chip_drawer.draw_coupler_ebeam(loop_configs=loop_configs_for_chip, junction_configs=j_conf_for_chip,\n",
    "                                            junc_correction=junc_correction)\n",
    "        for (xpos, ypos) in test_structure_coords:\n",
    "            print(f\"Drawing test structure at ({xpos}, {ypos})\")\n",
    "            j_conf_for_chip['xpos'] = xpos\n",
    "            j_conf_for_chip['ypos'] = ypos + 11\n",
    "            full_chip_drawer.draw_coupler_ebeam(loop_configs=loop_configs_for_chip, junction_configs=j_conf_for_chip,\n",
    "                                                junc_correction=junc_correction)\n",
    "        \n",
    "    chips.append(c)"
   ]
  },
  {
   "cell_type": "code",
   "execution_count": null,
   "id": "4aa94d1c",
   "metadata": {},
   "outputs": [
    {
     "data": {
      "text/plain": [
       "0"
      ]
     },
     "execution_count": 544,
     "metadata": {},
     "output_type": "execute_result"
    }
   ],
   "source": [
    "square"
   ]
  },
  {
   "cell_type": "markdown",
   "id": "38468c93",
   "metadata": {},
   "source": [
    "## Addings Chips to wafer"
   ]
  },
  {
   "cell_type": "code",
   "execution_count": null,
   "id": "e9673b0c",
   "metadata": {},
   "outputs": [
    {
     "data": {
      "text/plain": [
       "['C:\\\\Users\\\\eeshg\\\\Documents\\\\multimode_sims\\\\Design\\\\coupler\\\\Siraj1\\\\designs_dxf\\\\RAPH_DESIGN_SHORTEN_HORIZONTAL_1000.0__Y=6100_S=3_W=3UM-C1A.dxf']"
      ]
     },
     "execution_count": 545,
     "metadata": {},
     "output_type": "execute_result"
    }
   ],
   "source": [
    "# add chips to wafer\n",
    "chip_fnames = []\n",
    "for idx, c in enumerate(chips[:18]):\n",
    "    name = m.add_chip(c, 1, label= True, save_folder=save_folder)\n",
    "    chip_fnames.append(name)\n",
    "chip_fnames"
   ]
  },
  {
   "cell_type": "code",
   "execution_count": null,
   "id": "cb3d7c9e",
   "metadata": {},
   "outputs": [],
   "source": [
    "with open(\"chip_names_coup.txt\", \"w\") as f:\n",
    "    for name in chip_fnames:\n",
    "        f.write(name + \"\\n\")"
   ]
  },
  {
   "cell_type": "code",
   "execution_count": null,
   "id": "2ee9abe0",
   "metadata": {},
   "outputs": [],
   "source": []
  },
  {
   "cell_type": "markdown",
   "id": "3c0cba9d",
   "metadata": {},
   "source": [
    "# Output Wafer"
   ]
  },
  {
   "cell_type": "code",
   "execution_count": null,
   "id": "96abbab8",
   "metadata": {},
   "outputs": [
    {
     "name": "stdout",
     "output_type": "stream",
     "text": [
      "\n",
      "\n",
      " Chip names are:\n",
      "_____________________\n",
      "_____________________\n",
      "\n",
      "\n"
     ]
    }
   ],
   "source": [
    "import os\n",
    "import subprocess\n",
    "from time import sleep\n",
    "\n",
    "def save_and_open_mask(m, folder_path, klayout_path, sleep_time=0.1):\n",
    "\n",
    "    mask_name = m.name\n",
    "    mask_file_path = os.path.join(folder_path, mask_name + '.dxf')\n",
    "    m.save(name=mask_file_path)\n",
    "\n",
    "    print(\"\\n\\n Chip names are:\")\n",
    "    print(\"_____________________\")\n",
    "    # for name in chip_names:\n",
    "    #     print(name)\n",
    "    print(\"_____________________\\n\\n\")\n",
    "\n",
    "    sleep(sleep_time)\n",
    "\n",
    "    def open_klayout_app(klayout_path, mask_file_path):\n",
    "        subprocess.Popen(f'\"{klayout_path}\" \"{mask_file_path}\" -e')\n",
    "\n",
    "    open_klayout_app(klayout_path, mask_file_path)\n",
    "\n",
    "# Usage:\n",
    "folder_path = r\"C:\\Users\\eeshg\\Documents\\multimode_sims\\Design\\coupler\\Siraj1\\designs_dxf\"\n",
    "klayout_path = r\"C:\\Users\\eeshg\\AppData\\Roaming\\KLayout\\klayout_app\"\n",
    "save_and_open_mask(m, folder_path, klayout_path)\n"
   ]
  },
  {
   "cell_type": "code",
   "execution_count": null,
   "id": "fd2373d1",
   "metadata": {},
   "outputs": [],
   "source": []
  }
 ],
 "metadata": {
  "kernelspec": {
   "display_name": "klayout_env",
   "language": "python",
   "name": "python3"
  },
  "language_info": {
   "codemirror_mode": {
    "name": "ipython",
    "version": 3
   },
   "file_extension": ".py",
   "mimetype": "text/x-python",
   "name": "python",
   "nbconvert_exporter": "python",
   "pygments_lexer": "ipython3",
   "version": "3.11.5"
  }
 },
 "nbformat": 4,
 "nbformat_minor": 5
}
