{
 "cells": [
  {
   "cell_type": "markdown",
   "id": "8ea58999",
   "metadata": {},
   "source": []
  },
  {
   "cell_type": "code",
   "execution_count": 1,
   "id": "ed186a55",
   "metadata": {},
   "outputs": [],
   "source": [
    "import numpy as np"
   ]
  },
  {
   "cell_type": "code",
   "execution_count": 2,
   "id": "cc6f8c57",
   "metadata": {},
   "outputs": [
    {
     "name": "stdout",
     "output_type": "stream",
     "text": [
      "No module named 'visa.six.moves'\n",
      "Warning VISA library import failed\n",
      "Warning serial library import failed.\n",
      "Warning could not load Chase AWG dll, check that dll located at 'C:\\_Lib\\python\\slab\\instruments\\awg\\chase\\dax22000_lib_DLL32.dll'\n",
      "Could not load InstrumentManagerWindow\n",
      "Warning could not load LDA labbrick dll, check that dll located at 'C:\\_Lib\\python\\slab\\instruments\\labbrick\\VNX_atten.dll'\n",
      "Warning could not load LMS labbrick dll, check that dll located at 'C:\\_Lib\\python\\slab\\instruments\\labbrick\\vnx_fmsynth.dll'\n",
      "Warning could not load LPS labbrick dll, check that dll located at 'C:\\_Lib\\python\\slab\\instruments\\labbrick\\VNX_dps.dll'\n",
      "Could not load labbrick\n"
     ]
    }
   ],
   "source": [
    "import sys\n",
    "sys.path.append(r\"C:\\_Lib\\python\")\n",
    "\n",
    "from slab.circuits import *\n",
    "from slab.circuits.mp_components import *"
   ]
  },
  {
   "cell_type": "markdown",
   "id": "10e1beb0",
   "metadata": {},
   "source": [
    "# Imports"
   ]
  },
  {
   "cell_type": "code",
   "execution_count": 3,
   "id": "c83df455",
   "metadata": {},
   "outputs": [
    {
     "name": "stdout",
     "output_type": "stream",
     "text": [
      "4.841688109419363\n"
     ]
    }
   ],
   "source": [
    "from NMM_coupler_filter_test1 import *\n",
    "\n"
   ]
  },
  {
   "cell_type": "markdown",
   "id": "8f69c078",
   "metadata": {},
   "source": [
    "# Initial Parameters"
   ]
  },
  {
   "cell_type": "code",
   "execution_count": null,
   "id": "cb9a8064",
   "metadata": {},
   "outputs": [],
   "source": [
    "plt.close('all')\n",
    "\n",
    "# CHIPNAME = \"UC\"  # dt.datetime.today().strftime(\"%Y%m%d\") #+ \"ParaAmp\"\n",
    "today = time.strftime('%Y%m%d')\n",
    "author = ''\n",
    "\n",
    "# Only change these two variables!!\n",
    "pad_layer = 1\n",
    "junction_layer = 0\n",
    "global shorting_layer\n",
    "shorting_layer = 0   #  0 junction pattern only, 1 shorting line pattern only\n",
    "\n",
    "# I don't know why it works...\n",
    "if pad_layer == 1 and junction_layer == 0:\n",
    "    draw_layer1 = 1\n",
    "    draw_layer2 = 0\n",
    "    draw_layer3 = 1\n",
    "\n",
    "if junction_layer == 1 and pad_layer == 0:\n",
    "    draw_layer1 = 0\n",
    "    draw_layer2 = 1\n",
    "    draw_layer3 = 1\n",
    "\n",
    "if pad_layer == 1 and junction_layer == 1:\n",
    "    draw_layer1 = 1\n",
    "    draw_layer2 = 1\n",
    "    draw_layer3 = 1\n",
    "\n",
    "show_structure = 0\n",
    "show_wafer = 1\n",
    "two_layer = 1\n",
    "perf = False\n",
    "solid = 0\n",
    "square = 0\n",
    "etching = True  # False if a bare wafer is used\n",
    "open_dwgviewer = False\n",
    "open_klayout = True\n",
    "\n",
    "if draw_layer1 == 1:\n",
    "    MaskName = \"\"\n",
    "else:\n",
    "    MaskName = \" \"  # MaskName not needed for junction mask\n",
    "\n",
    "if draw_layer1 == 1 and draw_layer2 == 0:\n",
    "    two_layer = 0\n",
    "elif draw_layer1 == 0 and draw_layer3 == 1:\n",
    "    two_layer = 0\n",
    "else:\n",
    "    two_layer = 1\n",
    "\n",
    "if junction_layer == 1:\n",
    "    two_layer = 1\n",
    "# Don't change anything above!\n",
    "\n",
    "### CPW Parameters\n",
    "# cpw_length = 10\n",
    "# cpw_pinw = 10.0\n",
    "# cpw_rad = 50\n",
    "# taperl = 50\n",
    "# eps_eff = (1. + 10.4) / 2.\n",
    "# cpw_gapw = calculate_gap_width(eps_eff, 50, cpw_pinw)\n",
    "# flux_pinw = 3.5\n",
    "# flux_gapw = calculate_gap_width(eps_eff, 50, flux_pinw) + 0.21\n",
    "\n",
    "# print(calculate_gap_width(eps_eff, 50, 6))\n",
    "### JPA capacitor parameters\n",
    "# cap_botm_y = 40\n",
    "# cap_botm_x = 140\n",
    "# cap_top_y = 120\n",
    "# cap_top_x = 80\n",
    "# cap_sep = 11\n",
    "# con_pin_l = 50.\n",
    "\n",
    "# junc_pad_y = 6.5\n",
    "\n",
    "# print(cpw_gapw)\n",
    "\n",
    "# chip_names = list()\n",
    "# chanstarts = list()\n",
    "\n",
    "### Close DWG Viewer & KLayout\n",
    "if open_dwgviewer:\n",
    "    subprocess.Popen(r'taskkill /F /im \"dwgviewr.exe\"')\n",
    "if open_klayout:\n",
    "    subprocess.Popen(r'taskkill /F /im \"klayout_app.exe\"')"
   ]
  },
  {
   "cell_type": "code",
   "execution_count": 4,
   "id": "96abbab8",
   "metadata": {},
   "outputs": [
    {
     "name": "stdout",
     "output_type": "stream",
     "text": [
      "Maximum number of rows=1 and cols=17\n",
      "Room for 13 chips on wafer.\n",
      "Warning -- Negative length straight section\n",
      "Warning -- Negative length straight section\n",
      "Warning -- Negative length straight section\n",
      "Warning -- Negative length straight section\n",
      "Warning -- Negative length straight section\n",
      "Warning -- Negative length straight section\n",
      "Warning -- Negative length straight section\n",
      "Warning -- Negative length straight section\n",
      "Warning -- Negative length straight section\n",
      "Warning -- Negative length straight section\n",
      "Warning -- Negative length straight section\n",
      "Warning -- Negative length straight section\n",
      "Warning -- Negative length straight section\n",
      "Warning -- Negative length straight section\n",
      "\n",
      "\n",
      " Chip names are:\n",
      "_____________________\n",
      "_____________________\n",
      "\n",
      "\n"
     ]
    },
    {
     "ename": "FileNotFoundError",
     "evalue": "[WinError 2] The system cannot find the file specified",
     "output_type": "error",
     "traceback": [
      "\u001b[1;31m---------------------------------------------------------------------------\u001b[0m",
      "\u001b[1;31mFileNotFoundError\u001b[0m                         Traceback (most recent call last)",
      "Cell \u001b[1;32mIn[4], line 24\u001b[0m\n\u001b[0;32m     21\u001b[0m         subprocess\u001b[38;5;241m.\u001b[39mPopen(\n\u001b[0;32m     22\u001b[0m             \u001b[38;5;124mr\u001b[39m\u001b[38;5;124m'\u001b[39m\u001b[38;5;124m\"\u001b[39m\u001b[38;5;124mC:\u001b[39m\u001b[38;5;124m\\\u001b[39m\u001b[38;5;124mProgram Files\u001b[39m\u001b[38;5;124m\\\u001b[39m\u001b[38;5;124mAutodesk\u001b[39m\u001b[38;5;124m\\\u001b[39m\u001b[38;5;124mDWG TrueView 2019 - English\u001b[39m\u001b[38;5;124m\\\u001b[39m\u001b[38;5;124mdwgviewr.exe\u001b[39m\u001b[38;5;124m\"\u001b[39m\u001b[38;5;124m \u001b[39m\u001b[38;5;124m\"\u001b[39m\u001b[38;5;124m'\u001b[39m \u001b[38;5;241m+\u001b[39m os\u001b[38;5;241m.\u001b[39mgetcwd() \u001b[38;5;241m+\u001b[39m \u001b[38;5;124m'\u001b[39m\u001b[38;5;130;01m\\\\\u001b[39;00m\u001b[38;5;124m'\u001b[39m \u001b[38;5;241m+\u001b[39m MaskName \u001b[38;5;241m+\u001b[39m \u001b[38;5;124m'\u001b[39m\u001b[38;5;124m.dxf\u001b[39m\u001b[38;5;124m\"\u001b[39m\u001b[38;5;124m \u001b[39m\u001b[38;5;124m'\u001b[39m)\n\u001b[0;32m     23\u001b[0m     \u001b[38;5;28;01mif\u001b[39;00m open_klayout:\n\u001b[1;32m---> 24\u001b[0m         \u001b[43msubprocess\u001b[49m\u001b[38;5;241;43m.\u001b[39;49m\u001b[43mPopen\u001b[49m\u001b[43m(\u001b[49m\n\u001b[0;32m     25\u001b[0m \u001b[43m            \u001b[49m\u001b[38;5;124;43mr\u001b[39;49m\u001b[38;5;124;43m'\u001b[39;49m\u001b[38;5;124;43m\"\u001b[39;49m\u001b[38;5;124;43mC:\u001b[39;49m\u001b[38;5;124;43m\\\u001b[39;49m\u001b[38;5;124;43mUsers\u001b[39;49m\u001b[38;5;124;43m\\\u001b[39;49m\u001b[38;5;124;43mslab\u001b[39;49m\u001b[38;5;124;43m\\\u001b[39;49m\u001b[38;5;124;43mAppData\u001b[39;49m\u001b[38;5;124;43m\\\u001b[39;49m\u001b[38;5;124;43mRoaming\u001b[39;49m\u001b[38;5;124;43m\\\u001b[39;49m\u001b[38;5;124;43mKLayout\u001b[39;49m\u001b[38;5;124;43m\\\u001b[39;49m\u001b[38;5;124;43mklayout_app.exe\u001b[39;49m\u001b[38;5;124;43m\"\u001b[39;49m\u001b[38;5;124;43m \u001b[39;49m\u001b[38;5;124;43m\"\u001b[39;49m\u001b[38;5;124;43m'\u001b[39;49m\u001b[43m \u001b[49m\u001b[38;5;241;43m+\u001b[39;49m\u001b[43m \u001b[49m\u001b[43mos\u001b[49m\u001b[38;5;241;43m.\u001b[39;49m\u001b[43mgetcwd\u001b[49m\u001b[43m(\u001b[49m\u001b[43m)\u001b[49m\u001b[43m \u001b[49m\u001b[38;5;241;43m+\u001b[39;49m\u001b[43m \u001b[49m\u001b[38;5;124;43m'\u001b[39;49m\u001b[38;5;130;43;01m\\\\\u001b[39;49;00m\u001b[38;5;124;43m'\u001b[39;49m\u001b[43m \u001b[49m\u001b[38;5;241;43m+\u001b[39;49m\u001b[43m \u001b[49m\u001b[43mMaskName\u001b[49m\u001b[43m \u001b[49m\u001b[38;5;241;43m+\u001b[39;49m\u001b[43m \u001b[49m\u001b[38;5;124;43m'\u001b[39;49m\u001b[38;5;124;43m.dxf\u001b[39;49m\u001b[38;5;124;43m\"\u001b[39;49m\u001b[38;5;124;43m -e\u001b[39;49m\u001b[38;5;124;43m'\u001b[39;49m\u001b[43m)\u001b[49m\n\u001b[0;32m     27\u001b[0m \u001b[38;5;28;01mtry\u001b[39;00m:\n\u001b[0;32m     28\u001b[0m     \u001b[38;5;66;03m# save a text file with the dimensions\u001b[39;00m\n\u001b[0;32m     29\u001b[0m     text \u001b[38;5;241m=\u001b[39m \u001b[38;5;124m\"\u001b[39m\u001b[38;5;124mSpecs for \u001b[39m\u001b[38;5;132;01m%s\u001b[39;00m\u001b[38;5;124m created at \u001b[39m\u001b[38;5;132;01m%s\u001b[39;00m\u001b[38;5;124m at \u001b[39m\u001b[38;5;132;01m%s\u001b[39;00m\u001b[38;5;130;01m\\n\u001b[39;00m\u001b[38;5;130;01m\\n\u001b[39;00m\u001b[38;5;124mTapered: \u001b[39m\u001b[38;5;130;01m\\t\u001b[39;00m\u001b[38;5;130;01m\\t\u001b[39;00m\u001b[38;5;132;01m%s\u001b[39;00m\u001b[38;5;130;01m\\n\u001b[39;00m\u001b[38;5;124mTotal length: \u001b[39m\u001b[38;5;130;01m\\t\u001b[39;00m\u001b[38;5;130;01m\\t\u001b[39;00m\u001b[38;5;132;01m%s\u001b[39;00m\u001b[38;5;124m um\u001b[39m\u001b[38;5;130;01m\\n\u001b[39;00m\u001b[38;5;124mTotal width: \u001b[39m\u001b[38;5;130;01m\\t\u001b[39;00m\u001b[38;5;130;01m\\t\u001b[39;00m\u001b[38;5;132;01m%s\u001b[39;00m\u001b[38;5;124m um\u001b[39m\u001b[38;5;130;01m\\n\u001b[39;00m\u001b[38;5;124mFinger length: \u001b[39m\u001b[38;5;130;01m\\t\u001b[39;00m\u001b[38;5;130;01m\\t\u001b[39;00m\u001b[38;5;132;01m%s\u001b[39;00m\u001b[38;5;124m um\u001b[39m\u001b[38;5;130;01m\\n\u001b[39;00m\u001b[38;5;124mFinger width: \u001b[39m\u001b[38;5;130;01m\\t\u001b[39;00m\u001b[38;5;130;01m\\t\u001b[39;00m\u001b[38;5;132;01m%s\u001b[39;00m\u001b[38;5;124m um\u001b[39m\u001b[38;5;130;01m\\n\u001b[39;00m\u001b[38;5;124mFinger separation: \u001b[39m\u001b[38;5;130;01m\\t\u001b[39;00m\u001b[38;5;132;01m%s\u001b[39;00m\u001b[38;5;124m um\u001b[39m\u001b[38;5;130;01m\\n\u001b[39;00m\u001b[38;5;124mNumber of fingers: \u001b[39m\u001b[38;5;130;01m\\t\u001b[39;00m\u001b[38;5;132;01m%s\u001b[39;00m\u001b[38;5;130;01m\\n\u001b[39;00m\u001b[38;5;124mTaper length: \u001b[39m\u001b[38;5;130;01m\\t\u001b[39;00m\u001b[38;5;130;01m\\t\u001b[39;00m\u001b[38;5;132;01m%s\u001b[39;00m\u001b[38;5;124m um\u001b[39m\u001b[38;5;130;01m\\n\u001b[39;00m\u001b[38;5;124mCPW length: \u001b[39m\u001b[38;5;130;01m\\t\u001b[39;00m\u001b[38;5;130;01m\\t\u001b[39;00m\u001b[38;5;132;01m%s\u001b[39;00m\u001b[38;5;124m um\u001b[39m\u001b[38;5;130;01m\\n\u001b[39;00m\u001b[38;5;124mCPW center pin: \u001b[39m\u001b[38;5;130;01m\\t\u001b[39;00m\u001b[38;5;132;01m%s\u001b[39;00m\u001b[38;5;124m um\u001b[39m\u001b[38;5;130;01m\\n\u001b[39;00m\u001b[38;5;124mCPW gap width: \u001b[39m\u001b[38;5;130;01m\\t\u001b[39;00m\u001b[38;5;130;01m\\t\u001b[39;00m\u001b[38;5;132;01m%s\u001b[39;00m\u001b[38;5;124m um\u001b[39m\u001b[38;5;124m\"\u001b[39m \\\n\u001b[0;32m     30\u001b[0m             \u001b[38;5;241m%\u001b[39m (MaskName \u001b[38;5;241m+\u001b[39m \u001b[38;5;124m'\u001b[39m\u001b[38;5;124m-\u001b[39m\u001b[38;5;124m'\u001b[39m \u001b[38;5;241m+\u001b[39m c\u001b[38;5;241m.\u001b[39mname, today, time\u001b[38;5;241m.\u001b[39mstrftime(\u001b[38;5;124m\"\u001b[39m\u001b[38;5;124m%\u001b[39m\u001b[38;5;124mH:\u001b[39m\u001b[38;5;124m%\u001b[39m\u001b[38;5;124mM:\u001b[39m\u001b[38;5;124m%\u001b[39m\u001b[38;5;124mS\u001b[39m\u001b[38;5;124m\"\u001b[39m), \u001b[38;5;28mstr\u001b[39m(taper), c\u001b[38;5;241m.\u001b[39mtotal_size, c\u001b[38;5;241m.\u001b[39mtotal_width,\n\u001b[0;32m     31\u001b[0m                 finger_length, finger_width, finger_spacing, noof_fingers, taper_length, cpw_length, cpw_pinw,\n\u001b[0;32m     32\u001b[0m                 cpw_pinw)\n",
      "File \u001b[1;32mc:\\Anaconda3\\envs\\design-py312\\Lib\\subprocess.py:1026\u001b[0m, in \u001b[0;36mPopen.__init__\u001b[1;34m(self, args, bufsize, executable, stdin, stdout, stderr, preexec_fn, close_fds, shell, cwd, env, universal_newlines, startupinfo, creationflags, restore_signals, start_new_session, pass_fds, user, group, extra_groups, encoding, errors, text, umask, pipesize, process_group)\u001b[0m\n\u001b[0;32m   1022\u001b[0m         \u001b[38;5;28;01mif\u001b[39;00m \u001b[38;5;28mself\u001b[39m\u001b[38;5;241m.\u001b[39mtext_mode:\n\u001b[0;32m   1023\u001b[0m             \u001b[38;5;28mself\u001b[39m\u001b[38;5;241m.\u001b[39mstderr \u001b[38;5;241m=\u001b[39m io\u001b[38;5;241m.\u001b[39mTextIOWrapper(\u001b[38;5;28mself\u001b[39m\u001b[38;5;241m.\u001b[39mstderr,\n\u001b[0;32m   1024\u001b[0m                     encoding\u001b[38;5;241m=\u001b[39mencoding, errors\u001b[38;5;241m=\u001b[39merrors)\n\u001b[1;32m-> 1026\u001b[0m     \u001b[38;5;28;43mself\u001b[39;49m\u001b[38;5;241;43m.\u001b[39;49m\u001b[43m_execute_child\u001b[49m\u001b[43m(\u001b[49m\u001b[43margs\u001b[49m\u001b[43m,\u001b[49m\u001b[43m \u001b[49m\u001b[43mexecutable\u001b[49m\u001b[43m,\u001b[49m\u001b[43m \u001b[49m\u001b[43mpreexec_fn\u001b[49m\u001b[43m,\u001b[49m\u001b[43m \u001b[49m\u001b[43mclose_fds\u001b[49m\u001b[43m,\u001b[49m\n\u001b[0;32m   1027\u001b[0m \u001b[43m                        \u001b[49m\u001b[43mpass_fds\u001b[49m\u001b[43m,\u001b[49m\u001b[43m \u001b[49m\u001b[43mcwd\u001b[49m\u001b[43m,\u001b[49m\u001b[43m \u001b[49m\u001b[43menv\u001b[49m\u001b[43m,\u001b[49m\n\u001b[0;32m   1028\u001b[0m \u001b[43m                        \u001b[49m\u001b[43mstartupinfo\u001b[49m\u001b[43m,\u001b[49m\u001b[43m \u001b[49m\u001b[43mcreationflags\u001b[49m\u001b[43m,\u001b[49m\u001b[43m \u001b[49m\u001b[43mshell\u001b[49m\u001b[43m,\u001b[49m\n\u001b[0;32m   1029\u001b[0m \u001b[43m                        \u001b[49m\u001b[43mp2cread\u001b[49m\u001b[43m,\u001b[49m\u001b[43m \u001b[49m\u001b[43mp2cwrite\u001b[49m\u001b[43m,\u001b[49m\n\u001b[0;32m   1030\u001b[0m \u001b[43m                        \u001b[49m\u001b[43mc2pread\u001b[49m\u001b[43m,\u001b[49m\u001b[43m \u001b[49m\u001b[43mc2pwrite\u001b[49m\u001b[43m,\u001b[49m\n\u001b[0;32m   1031\u001b[0m \u001b[43m                        \u001b[49m\u001b[43merrread\u001b[49m\u001b[43m,\u001b[49m\u001b[43m \u001b[49m\u001b[43merrwrite\u001b[49m\u001b[43m,\u001b[49m\n\u001b[0;32m   1032\u001b[0m \u001b[43m                        \u001b[49m\u001b[43mrestore_signals\u001b[49m\u001b[43m,\u001b[49m\n\u001b[0;32m   1033\u001b[0m \u001b[43m                        \u001b[49m\u001b[43mgid\u001b[49m\u001b[43m,\u001b[49m\u001b[43m \u001b[49m\u001b[43mgids\u001b[49m\u001b[43m,\u001b[49m\u001b[43m \u001b[49m\u001b[43muid\u001b[49m\u001b[43m,\u001b[49m\u001b[43m \u001b[49m\u001b[43mumask\u001b[49m\u001b[43m,\u001b[49m\n\u001b[0;32m   1034\u001b[0m \u001b[43m                        \u001b[49m\u001b[43mstart_new_session\u001b[49m\u001b[43m,\u001b[49m\u001b[43m \u001b[49m\u001b[43mprocess_group\u001b[49m\u001b[43m)\u001b[49m\n\u001b[0;32m   1035\u001b[0m \u001b[38;5;28;01mexcept\u001b[39;00m:\n\u001b[0;32m   1036\u001b[0m     \u001b[38;5;66;03m# Cleanup if the child failed starting.\u001b[39;00m\n\u001b[0;32m   1037\u001b[0m     \u001b[38;5;28;01mfor\u001b[39;00m f \u001b[38;5;129;01min\u001b[39;00m \u001b[38;5;28mfilter\u001b[39m(\u001b[38;5;28;01mNone\u001b[39;00m, (\u001b[38;5;28mself\u001b[39m\u001b[38;5;241m.\u001b[39mstdin, \u001b[38;5;28mself\u001b[39m\u001b[38;5;241m.\u001b[39mstdout, \u001b[38;5;28mself\u001b[39m\u001b[38;5;241m.\u001b[39mstderr)):\n",
      "File \u001b[1;32mc:\\Anaconda3\\envs\\design-py312\\Lib\\subprocess.py:1538\u001b[0m, in \u001b[0;36mPopen._execute_child\u001b[1;34m(self, args, executable, preexec_fn, close_fds, pass_fds, cwd, env, startupinfo, creationflags, shell, p2cread, p2cwrite, c2pread, c2pwrite, errread, errwrite, unused_restore_signals, unused_gid, unused_gids, unused_uid, unused_umask, unused_start_new_session, unused_process_group)\u001b[0m\n\u001b[0;32m   1536\u001b[0m \u001b[38;5;66;03m# Start the process\u001b[39;00m\n\u001b[0;32m   1537\u001b[0m \u001b[38;5;28;01mtry\u001b[39;00m:\n\u001b[1;32m-> 1538\u001b[0m     hp, ht, pid, tid \u001b[38;5;241m=\u001b[39m \u001b[43m_winapi\u001b[49m\u001b[38;5;241;43m.\u001b[39;49m\u001b[43mCreateProcess\u001b[49m\u001b[43m(\u001b[49m\u001b[43mexecutable\u001b[49m\u001b[43m,\u001b[49m\u001b[43m \u001b[49m\u001b[43margs\u001b[49m\u001b[43m,\u001b[49m\n\u001b[0;32m   1539\u001b[0m \u001b[43m                             \u001b[49m\u001b[38;5;66;43;03m# no special security\u001b[39;49;00m\n\u001b[0;32m   1540\u001b[0m \u001b[43m                             \u001b[49m\u001b[38;5;28;43;01mNone\u001b[39;49;00m\u001b[43m,\u001b[49m\u001b[43m \u001b[49m\u001b[38;5;28;43;01mNone\u001b[39;49;00m\u001b[43m,\u001b[49m\n\u001b[0;32m   1541\u001b[0m \u001b[43m                             \u001b[49m\u001b[38;5;28;43mint\u001b[39;49m\u001b[43m(\u001b[49m\u001b[38;5;129;43;01mnot\u001b[39;49;00m\u001b[43m \u001b[49m\u001b[43mclose_fds\u001b[49m\u001b[43m)\u001b[49m\u001b[43m,\u001b[49m\n\u001b[0;32m   1542\u001b[0m \u001b[43m                             \u001b[49m\u001b[43mcreationflags\u001b[49m\u001b[43m,\u001b[49m\n\u001b[0;32m   1543\u001b[0m \u001b[43m                             \u001b[49m\u001b[43menv\u001b[49m\u001b[43m,\u001b[49m\n\u001b[0;32m   1544\u001b[0m \u001b[43m                             \u001b[49m\u001b[43mcwd\u001b[49m\u001b[43m,\u001b[49m\n\u001b[0;32m   1545\u001b[0m \u001b[43m                             \u001b[49m\u001b[43mstartupinfo\u001b[49m\u001b[43m)\u001b[49m\n\u001b[0;32m   1546\u001b[0m \u001b[38;5;28;01mfinally\u001b[39;00m:\n\u001b[0;32m   1547\u001b[0m     \u001b[38;5;66;03m# Child is launched. Close the parent's copy of those pipe\u001b[39;00m\n\u001b[0;32m   1548\u001b[0m     \u001b[38;5;66;03m# handles that only the child should have open.  You need\u001b[39;00m\n\u001b[1;32m   (...)\u001b[0m\n\u001b[0;32m   1551\u001b[0m     \u001b[38;5;66;03m# pipe will not close when the child process exits and the\u001b[39;00m\n\u001b[0;32m   1552\u001b[0m     \u001b[38;5;66;03m# ReadFile will hang.\u001b[39;00m\n\u001b[0;32m   1553\u001b[0m     \u001b[38;5;28mself\u001b[39m\u001b[38;5;241m.\u001b[39m_close_pipe_fds(p2cread, p2cwrite,\n\u001b[0;32m   1554\u001b[0m                          c2pread, c2pwrite,\n\u001b[0;32m   1555\u001b[0m                          errread, errwrite)\n",
      "\u001b[1;31mFileNotFoundError\u001b[0m: [WinError 2] The system cannot find the file specified"
     ]
    }
   ],
   "source": [
    "m = output_wafer()\n",
    "m.save()\n",
    "\n",
    "print(\"\\n\\n Chip names are:\")\n",
    "print(\"_____________________\")\n",
    "for name in chip_names:\n",
    "    print(name)\n",
    "print(\"_____________________\\n\\n\")\n",
    "\n",
    "sleep(.1)\n",
    "\n",
    "if show_structure:\n",
    "    if open_dwgviewer:\n",
    "        subprocess.Popen(\n",
    "            r'\"C:\\Program Files\\Autodesk\\DWG TrueView 2019 - English\\dwgviewr.exe\" \"' + os.getcwd() + '\\\\' + MaskName + '-' + '6000' + '.dxf\" ')\n",
    "    if open_klayout:\n",
    "        subprocess.Popen(\n",
    "            r'\"C:\\Users\\slab\\AppData\\Roaming\\KLayout\\klayout_app.exe\" \"' + os.getcwd() + '\\\\' + MaskName + '-' + '6000' + '.dxf\" -e')  # editor mode\n",
    "elif show_wafer:\n",
    "    if open_dwgviewer:\n",
    "        subprocess.Popen(\n",
    "            r'\"C:\\Program Files\\Autodesk\\DWG TrueView 2019 - English\\dwgviewr.exe\" \"' + os.getcwd() + '\\\\' + MaskName + '.dxf\" ')\n",
    "    if open_klayout:\n",
    "        subprocess.Popen(\n",
    "            r'\"C:\\Users\\slab\\AppData\\Roaming\\KLayout\\klayout_app.exe\" \"' + os.getcwd() + '\\\\' + MaskName + '.dxf\" -e')\n",
    "\n",
    "try:\n",
    "    # save a text file with the dimensions\n",
    "    text = \"Specs for %s created at %s at %s\\n\\nTapered: \\t\\t%s\\nTotal length: \\t\\t%s um\\nTotal width: \\t\\t%s um\\nFinger length: \\t\\t%s um\\nFinger width: \\t\\t%s um\\nFinger separation: \\t%s um\\nNumber of fingers: \\t%s\\nTaper length: \\t\\t%s um\\nCPW length: \\t\\t%s um\\nCPW center pin: \\t%s um\\nCPW gap width: \\t\\t%s um\" \\\n",
    "            % (MaskName + '-' + c.name, today, time.strftime(\"%H:%M:%S\"), str(taper), c.total_size, c.total_width,\n",
    "                finger_length, finger_width, finger_spacing, noof_fingers, taper_length, cpw_length, cpw_pinw,\n",
    "                cpw_pinw)\n",
    "\n",
    "    text_file = open(MaskName + '-' + c.name + '-specs.txt', \"w\")\n",
    "    text_file.write(text)\n",
    "    text_file.close()\n",
    "\n",
    "    print(\"\\nFinished creating capacitor with following parameters:\")\n",
    "    print(text)\n",
    "except:\n",
    "    pass"
   ]
  },
  {
   "cell_type": "code",
   "execution_count": null,
   "id": "e50597f8",
   "metadata": {},
   "outputs": [],
   "source": []
  }
 ],
 "metadata": {
  "kernelspec": {
   "display_name": "design-py312",
   "language": "python",
   "name": "python3"
  },
  "language_info": {
   "codemirror_mode": {
    "name": "ipython",
    "version": 3
   },
   "file_extension": ".py",
   "mimetype": "text/x-python",
   "name": "python",
   "nbconvert_exporter": "python",
   "pygments_lexer": "ipython3",
   "version": "3.12.11"
  }
 },
 "nbformat": 4,
 "nbformat_minor": 5
}
