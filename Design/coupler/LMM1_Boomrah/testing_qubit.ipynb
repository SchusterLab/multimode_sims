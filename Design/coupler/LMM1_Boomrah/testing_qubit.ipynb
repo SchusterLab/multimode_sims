{
 "cells": [
  {
   "cell_type": "markdown",
   "id": "8ea58999",
   "metadata": {},
   "source": []
  },
  {
   "cell_type": "code",
   "execution_count": 1078,
   "id": "ed186a55",
   "metadata": {},
   "outputs": [],
   "source": [
    "import numpy as np"
   ]
  },
  {
   "cell_type": "code",
   "execution_count": 1079,
   "id": "cc6f8c57",
   "metadata": {},
   "outputs": [],
   "source": [
    "import sys\n",
    "sys.path.append(r\"C:\\_Lib\\python\")\n",
    "\n",
    "from mask_maker import * \n",
    "# from slab.circuits.mp_components import *"
   ]
  },
  {
   "cell_type": "code",
   "execution_count": 1080,
   "id": "f1f8e1c2",
   "metadata": {},
   "outputs": [
    {
     "name": "stdout",
     "output_type": "stream",
     "text": [
      "The autoreload extension is already loaded. To reload it, use:\n",
      "  %reload_ext autoreload\n"
     ]
    }
   ],
   "source": [
    "\n",
    "%load_ext autoreload\n",
    "%autoreload 2"
   ]
  },
  {
   "cell_type": "code",
   "execution_count": 1081,
   "id": "e85e15ea",
   "metadata": {},
   "outputs": [],
   "source": [
    "from mm_qubit import *\n",
    "from mm_chips_base import * "
   ]
  },
  {
   "cell_type": "markdown",
   "id": "10e1beb0",
   "metadata": {},
   "source": [
    "# Imports"
   ]
  },
  {
   "cell_type": "code",
   "execution_count": null,
   "id": "c83df455",
   "metadata": {},
   "outputs": [],
   "source": [
    "\n",
    "\n"
   ]
  },
  {
   "cell_type": "markdown",
   "id": "cf1ceee3",
   "metadata": {},
   "source": [
    "# Mask Generation"
   ]
  },
  {
   "cell_type": "markdown",
   "id": "a13aa1b0",
   "metadata": {},
   "source": [
    "## Wafer Initialization\n",
    "\n",
    " 4in wafer -> diameter=101600, flat_distance=48200\n",
    "\n",
    "\n",
    " 3in wafer -> diameter=76200., flat_distance=37100.\n",
    "\n",
    " \n",
    " 2in wafer -> diameter=50800., flat_distance=24100."
   ]
  },
  {
   "cell_type": "code",
   "execution_count": 1082,
   "id": "5c3a3cae",
   "metadata": {},
   "outputs": [
    {
     "name": "stdout",
     "output_type": "stream",
     "text": [
      "Maximum number of rows=1 and cols=22\n",
      "Room for 18 chips on wafer.\n"
     ]
    }
   ],
   "source": [
    "MaskName = 'TestingQubit1113_junc_'\n",
    "save_folder=r\"C:\\Users\\eeshg\\Documents\\multimode_sims\\Design\\coupler\\designs_dxf\"\n",
    "m = WaferMask(MaskName, diameter=50800., flat_angle=270., flat_distance=24100., wafer_padding=2500,\n",
    "                  chip_size=(1600, 25950),\n",
    "                  dicing_border=400, etchtype=False, wafer_edge=False,\n",
    "                  dashed_dicing_border=80, ndashes=3, dice_corner=True, square_arr=False)"
   ]
  },
  {
   "cell_type": "markdown",
   "id": "838cf71d",
   "metadata": {},
   "source": [
    "## Chips"
   ]
  },
  {
   "cell_type": "code",
   "execution_count": 1083,
   "id": "8db73234",
   "metadata": {},
   "outputs": [],
   "source": [
    "## Iniatilization\n",
    "mm_chips_base = MMChipsBase()\n",
    "chip_defaults = mm_chips_base.set_mask_init()"
   ]
  },
  {
   "cell_type": "markdown",
   "id": "c9107c4b",
   "metadata": {},
   "source": [
    "### Chip Configs"
   ]
  },
  {
   "cell_type": "code",
   "execution_count": 1084,
   "id": "c6b3aa78",
   "metadata": {},
   "outputs": [],
   "source": [
    "chip_configs = [\n",
    "        # (junc_correction, flip, CHIPNAME, type) # type does not matter \n",
    "        ({'width': 0.2, 'gap': 0.1}, False, 'C1A', 1),\n",
    "        ({'width': 0.3, 'gap': 0.1}, False, 'C1B', 1),\n",
    "        ({'width': 0.4, 'gap': 0.1}, False, 'C1C', 1),\n",
    "        ({'width': 0.25, 'gap': 0.15}, False, 'C1D', 1),\n",
    "        ({'width': 0.45, 'gap': 0.15}, False, 'C1E', 1),\n",
    "        ({'width': 0.35, 'gap': 0.15}, False, 'C1F', 1),\n",
    "        ({'width': 0.5, 'gap': 0.2}, False, 'C1G', 0),\n",
    "        ({'width': 0.45, 'gap': 0.2}, False, 'C1H', 0),\n",
    "        ({'width': 0.4, 'gap': 0.2}, False, 'C1I', 0),\n",
    "        ({'width': 0.35, 'gap': 0.2}, False, 'C1J', 1),\n",
    "        # ({'width': 0.14, 'gap': 0.2}, False, 'C1K', 1),\n",
    "        # ({'width': 0.35, 'gap': 0.2}, False, 'C1L', 1),\n",
    "        # ({'width': 0.25, 'gap': 0.2}, False, 'C1M', 1),\n",
    "        # ({'width': 0.2, 'gap': 0.4}, False, 'C1N', 0),\n",
    "    ][:10]"
   ]
  },
  {
   "cell_type": "markdown",
   "id": "9e0b7d7a",
   "metadata": {},
   "source": [
    "## Configs specific to Multimode Qubit Chip"
   ]
  },
  {
   "cell_type": "code",
   "execution_count": 1085,
   "id": "c959949e",
   "metadata": {},
   "outputs": [],
   "source": [
    "qubit_optical_configs= {\n",
    "    'x_thin': 30,\n",
    "    'y_right_thin': 350,\n",
    "    'x_right_thick': 150,\n",
    "    'y_right_thick': 3100,\n",
    "    'y_left_thin': 370,\n",
    "    'x_left_thick': 150,\n",
    "    'y_left_thick': 3700,\n",
    "    'jjgap': 30,\n",
    "    'xpos': 1000 - 200,\n",
    "    'ypos': 17700 - 200 + 7780,\n",
    "    \n",
    "}"
   ]
  },
  {
   "cell_type": "code",
   "execution_count": 1086,
   "id": "4fbad18e",
   "metadata": {},
   "outputs": [],
   "source": [
    "test_qubit_optical_configs = {\n",
    "    'x_thin': 30,\n",
    "    'y_right_thin': 100,\n",
    "    'x_right_thick': 800,\n",
    "    'y_right_thick': 800,\n",
    "    'y_left_thin': 100,\n",
    "    'x_left_thick': 800,\n",
    "    'y_left_thick': 800,\n",
    "    'jjgap': 30,\n",
    "}\n",
    "test_qubit_optical_posns = [\n",
    "    (800, 3000+200), \n",
    "    (800, 5500+200),\n",
    "    (800, 8000+200),\n",
    "]"
   ]
  },
  {
   "cell_type": "code",
   "execution_count": 1087,
   "id": "5f4304b2",
   "metadata": {},
   "outputs": [],
   "source": [
    "\n",
    "qubit_junction_configs = dict(\n",
    "    bar_width=40,\n",
    "    bar_length=15,\n",
    "    thin_bar_length = 2,\n",
    "    taper_length=10,\n",
    "    jj_length=0.8,\n",
    "    # jj_width=junc_correction['width'],\n",
    "    # jj_gap=junc_correction['gap'],\n",
    "    top_bar_jj_width=5,\n",
    "    # under cut parameters \n",
    "    undercut_width = 0.2,\n",
    "    # for horizontal oriented junctions 07/27 blunder\n",
    "    horizontal_l_arm = 70+15,\n",
    "    bend_radius = 5,\n",
    "\n",
    ")\n"
   ]
  },
  {
   "cell_type": "markdown",
   "id": "fdce5147",
   "metadata": {},
   "source": [
    "### Chip Generation"
   ]
  },
  {
   "cell_type": "code",
   "execution_count": 1088,
   "id": "2142e080",
   "metadata": {},
   "outputs": [],
   "source": [
    "draw_optical = False\n",
    "# draw_optical = False\n",
    "draw_ebeam = True\n",
    "# draw_ebeam = False\n",
    "two_layer = True if draw_ebeam == 1 else False"
   ]
  },
  {
   "cell_type": "code",
   "execution_count": 1089,
   "id": "3b4f64ae",
   "metadata": {},
   "outputs": [
    {
     "name": "stdout",
     "output_type": "stream",
     "text": [
      "flag1 0\n",
      "flag1 0\n",
      "flag1 0\n",
      "flag1 0\n",
      "flag1 0\n",
      "flag1 0\n",
      "flag1 0\n",
      "flag1 0\n",
      "flag1 0\n",
      "flag1 0\n",
      "flag1 0\n",
      "flag1 0\n",
      "flag1 0\n",
      "flag1 0\n",
      "flag1 0\n",
      "flag1 0\n",
      "flag1 0\n",
      "flag1 0\n",
      "flag1 0\n",
      "flag1 0\n",
      "flag1 0\n",
      "flag1 0\n",
      "flag1 0\n",
      "flag1 0\n",
      "flag1 0\n",
      "flag1 0\n",
      "flag1 0\n",
      "flag1 0\n",
      "flag1 0\n",
      "flag1 0\n",
      "flag1 0\n",
      "flag1 0\n",
      "flag1 0\n",
      "flag1 0\n",
      "flag1 0\n",
      "flag1 0\n",
      "flag1 0\n",
      "flag1 0\n",
      "flag1 0\n",
      "flag1 0\n"
     ]
    }
   ],
   "source": [
    "chips = []\n",
    "author = 'Eesh Gupta'\n",
    "# flag flips the junction vertically \n",
    "for idx, (junc_correction, flip, name, type) in enumerate(chip_configs):\n",
    "    chip = Chip(\n",
    "        name,\n",
    "        author=\"\",\n",
    "        size=m.chip_size,\n",
    "        mask_id_loc=(5800, 6430),\n",
    "        chip_id_loc=(200, 100),\n",
    "        textsize=(70, 70),\n",
    "        two_layer=two_layer,\n",
    "        solid=False,\n",
    "    )\n",
    "    full_chip_drawer = MultimodeQubitChip(structure=chip, chip_defaults=chip_defaults, flip=flip)\n",
    "    full_chip_drawer.draw_alignment_marks()\n",
    "\n",
    "    if draw_optical:\n",
    "        full_chip_drawer.draw_multimode_qubit_optical(qubit_optical_configs=qubit_optical_configs,\n",
    "                                                      flag = not flip,xpos= qubit_optical_configs['xpos'],\n",
    "                                                      ypos= qubit_optical_configs['ypos'])\n",
    "        #test structures\n",
    "        for idx, (xpos, ypos) in enumerate(test_qubit_optical_posns):\n",
    "            full_chip_drawer.draw_multimode_qubit_optical(qubit_optical_configs=test_qubit_optical_configs,\n",
    "                                                          flag = not flip, \n",
    "                                                          xpos = xpos, ypos = ypos)\n",
    "        \n",
    "    if draw_ebeam:\n",
    "        # print(f\"Drawing e-beam features for {name} with flip={flip}\")\n",
    "        full_chip_drawer.draw_multimode_qubit_ebeam(junction_configs=qubit_junction_configs,\n",
    "                                                    junc_correction=junc_correction, flag= not flip, \n",
    "                                                    xpos = qubit_optical_configs['xpos'],\n",
    "                                                    ypos = qubit_optical_configs['ypos'] - qubit_optical_configs['y_left_thick'] - qubit_optical_configs['y_left_thin'] - qubit_optical_configs['jjgap'] )#- qubit_optical_configs['x_thin'])\n",
    "        ##test structures\n",
    "        for idx, (xpos, ypos) in enumerate(test_qubit_optical_posns):\n",
    "            full_chip_drawer.draw_multimode_qubit_ebeam(junction_configs=qubit_junction_configs,\n",
    "                                                        junc_correction=junc_correction, flag= not flip,\n",
    "                                                        xpos = xpos, \n",
    "                                                        ypos = ypos - test_qubit_optical_configs['y_left_thick'] - test_qubit_optical_configs['y_left_thin'] - test_qubit_optical_configs['jjgap'] )#- test_qubit_optical_configs['x_thin'])\n",
    "\n",
    "    # draw_bridge_junction(chip, d, junc_correction, flip)\n",
    "    chips.append(chip)\n",
    "\n",
    "\n",
    "\n"
   ]
  },
  {
   "cell_type": "code",
   "execution_count": 1090,
   "id": "4aa94d1c",
   "metadata": {},
   "outputs": [
    {
     "data": {
      "text/plain": [
       "0"
      ]
     },
     "execution_count": 1090,
     "metadata": {},
     "output_type": "execute_result"
    }
   ],
   "source": [
    "square"
   ]
  },
  {
   "cell_type": "markdown",
   "id": "38468c93",
   "metadata": {},
   "source": [
    "## Addings Chips to wafer"
   ]
  },
  {
   "cell_type": "code",
   "execution_count": 1091,
   "id": "e9673b0c",
   "metadata": {},
   "outputs": [
    {
     "name": "stdout",
     "output_type": "stream",
     "text": [
      "[<mask_maker.sdxf.Layer object at 0x00000277E9841E50>, <mask_maker.sdxf.Layer object at 0x00000277FB0058D0>, <mask_maker.sdxf.Layer object at 0x00000277FB361E10>]\n",
      "GAP\n",
      "PIN\n",
      "[<mask_maker.sdxf.Layer object at 0x00000277E9841E50>, <mask_maker.sdxf.Layer object at 0x00000277FB3FE1D0>, <mask_maker.sdxf.Layer object at 0x00000277FB3FE250>]\n",
      "GAP\n",
      "PIN\n",
      "[<mask_maker.sdxf.Layer object at 0x00000277E9841E50>, <mask_maker.sdxf.Layer object at 0x00000277FB3D2850>, <mask_maker.sdxf.Layer object at 0x00000277FB3D28D0>]\n",
      "GAP\n",
      "PIN\n",
      "[<mask_maker.sdxf.Layer object at 0x00000277E9841E50>, <mask_maker.sdxf.Layer object at 0x00000277FB396C90>, <mask_maker.sdxf.Layer object at 0x00000277FB396D10>]\n",
      "GAP\n",
      "PIN\n",
      "[<mask_maker.sdxf.Layer object at 0x00000277E9841E50>, <mask_maker.sdxf.Layer object at 0x00000277FB46D9D0>, <mask_maker.sdxf.Layer object at 0x00000277FB46F390>]\n",
      "GAP\n",
      "PIN\n",
      "[<mask_maker.sdxf.Layer object at 0x00000277E9841E50>, <mask_maker.sdxf.Layer object at 0x00000277FBBDF7D0>, <mask_maker.sdxf.Layer object at 0x00000277FBBDF850>]\n",
      "GAP\n",
      "PIN\n",
      "[<mask_maker.sdxf.Layer object at 0x00000277E9841E50>, <mask_maker.sdxf.Layer object at 0x00000277FBBCFC10>, <mask_maker.sdxf.Layer object at 0x00000277FBBCFC90>]\n",
      "GAP\n",
      "PIN\n",
      "[<mask_maker.sdxf.Layer object at 0x00000277E9841E50>, <mask_maker.sdxf.Layer object at 0x00000277FBBE8110>, <mask_maker.sdxf.Layer object at 0x00000277FBBE8190>]\n",
      "GAP\n",
      "PIN\n",
      "[<mask_maker.sdxf.Layer object at 0x00000277E9841E50>, <mask_maker.sdxf.Layer object at 0x00000277FBC045D0>, <mask_maker.sdxf.Layer object at 0x00000277FBC04650>]\n",
      "GAP\n",
      "PIN\n",
      "[<mask_maker.sdxf.Layer object at 0x00000277E9841E50>, <mask_maker.sdxf.Layer object at 0x00000277FBBA4990>, <mask_maker.sdxf.Layer object at 0x00000277FBBA4A10>]\n",
      "GAP\n",
      "PIN\n"
     ]
    },
    {
     "data": {
      "text/plain": [
       "['C:\\\\Users\\\\eeshg\\\\Documents\\\\multimode_sims\\\\Design\\\\coupler\\\\designs_dxf\\\\TESTINGQUBIT1113_JUNC_-C1A.dxf',\n",
       " 'C:\\\\Users\\\\eeshg\\\\Documents\\\\multimode_sims\\\\Design\\\\coupler\\\\designs_dxf\\\\TESTINGQUBIT1113_JUNC_-C1B.dxf',\n",
       " 'C:\\\\Users\\\\eeshg\\\\Documents\\\\multimode_sims\\\\Design\\\\coupler\\\\designs_dxf\\\\TESTINGQUBIT1113_JUNC_-C1C.dxf',\n",
       " 'C:\\\\Users\\\\eeshg\\\\Documents\\\\multimode_sims\\\\Design\\\\coupler\\\\designs_dxf\\\\TESTINGQUBIT1113_JUNC_-C1D.dxf',\n",
       " 'C:\\\\Users\\\\eeshg\\\\Documents\\\\multimode_sims\\\\Design\\\\coupler\\\\designs_dxf\\\\TESTINGQUBIT1113_JUNC_-C1E.dxf',\n",
       " 'C:\\\\Users\\\\eeshg\\\\Documents\\\\multimode_sims\\\\Design\\\\coupler\\\\designs_dxf\\\\TESTINGQUBIT1113_JUNC_-C1F.dxf',\n",
       " 'C:\\\\Users\\\\eeshg\\\\Documents\\\\multimode_sims\\\\Design\\\\coupler\\\\designs_dxf\\\\TESTINGQUBIT1113_JUNC_-C1G.dxf',\n",
       " 'C:\\\\Users\\\\eeshg\\\\Documents\\\\multimode_sims\\\\Design\\\\coupler\\\\designs_dxf\\\\TESTINGQUBIT1113_JUNC_-C1H.dxf',\n",
       " 'C:\\\\Users\\\\eeshg\\\\Documents\\\\multimode_sims\\\\Design\\\\coupler\\\\designs_dxf\\\\TESTINGQUBIT1113_JUNC_-C1I.dxf',\n",
       " 'C:\\\\Users\\\\eeshg\\\\Documents\\\\multimode_sims\\\\Design\\\\coupler\\\\designs_dxf\\\\TESTINGQUBIT1113_JUNC_-C1J.dxf']"
      ]
     },
     "execution_count": 1091,
     "metadata": {},
     "output_type": "execute_result"
    }
   ],
   "source": [
    "# add chips to wafer\n",
    "chip_fnames = []\n",
    "for idx, c in enumerate(chips[:18]):\n",
    "    name = m.add_chip(c, 1, label= True, save_folder=save_folder)\n",
    "    chip_fnames.append(name)\n",
    "chip_fnames"
   ]
  },
  {
   "cell_type": "markdown",
   "id": "3c0cba9d",
   "metadata": {},
   "source": [
    "# Output Wafer"
   ]
  },
  {
   "cell_type": "code",
   "execution_count": 1092,
   "id": "96abbab8",
   "metadata": {},
   "outputs": [
    {
     "name": "stdout",
     "output_type": "stream",
     "text": [
      "\n",
      "\n",
      " Chip names are:\n",
      "_____________________\n",
      "_____________________\n",
      "\n",
      "\n"
     ]
    }
   ],
   "source": [
    "import os\n",
    "import subprocess\n",
    "from time import sleep\n",
    "\n",
    "def save_and_open_mask(m, folder_path, klayout_path, sleep_time=0.1):\n",
    "\n",
    "    mask_name = m.name\n",
    "    mask_file_path = os.path.join(folder_path, mask_name + '.dxf')\n",
    "    m.save(name=mask_file_path)\n",
    "\n",
    "    print(\"\\n\\n Chip names are:\")\n",
    "    print(\"_____________________\")\n",
    "    # for name in chip_names:\n",
    "    #     print(name)\n",
    "    print(\"_____________________\\n\\n\")\n",
    "\n",
    "    sleep(sleep_time)\n",
    "\n",
    "    def open_klayout_app(klayout_path, mask_file_path):\n",
    "        subprocess.Popen(f'\"{klayout_path}\" \"{mask_file_path}\" -e')\n",
    "\n",
    "    open_klayout_app(klayout_path, mask_file_path)\n",
    "\n",
    "# Usage:\n",
    "folder_path = r\"C:\\Users\\eeshg\\Documents\\multimode_sims\\Design\\coupler\\designs_dxf\"\n",
    "klayout_path = r\"C:\\Users\\eeshg\\AppData\\Roaming\\KLayout\\klayout_app\"\n",
    "save_and_open_mask(m, folder_path, klayout_path)\n"
   ]
  },
  {
   "cell_type": "code",
   "execution_count": 1093,
   "id": "e50597f8",
   "metadata": {},
   "outputs": [
    {
     "data": {
      "text/plain": [
       "2.0"
      ]
     },
     "execution_count": 1093,
     "metadata": {},
     "output_type": "execute_result"
    }
   ],
   "source": [
    "2/2+1"
   ]
  },
  {
   "cell_type": "code",
   "execution_count": null,
   "id": "c6e69a02",
   "metadata": {},
   "outputs": [],
   "source": []
  },
  {
   "cell_type": "code",
   "execution_count": null,
   "id": "71c35abe",
   "metadata": {},
   "outputs": [],
   "source": []
  },
  {
   "cell_type": "code",
   "execution_count": null,
   "id": "593e7c94",
   "metadata": {},
   "outputs": [],
   "source": []
  },
  {
   "cell_type": "code",
   "execution_count": null,
   "id": "946019bb",
   "metadata": {},
   "outputs": [],
   "source": []
  },
  {
   "cell_type": "code",
   "execution_count": null,
   "id": "a9800258",
   "metadata": {},
   "outputs": [],
   "source": []
  }
 ],
 "metadata": {
  "kernelspec": {
   "display_name": "klayout_env",
   "language": "python",
   "name": "python3"
  },
  "language_info": {
   "codemirror_mode": {
    "name": "ipython",
    "version": 3
   },
   "file_extension": ".py",
   "mimetype": "text/x-python",
   "name": "python",
   "nbconvert_exporter": "python",
   "pygments_lexer": "ipython3",
   "version": "3.11.5"
  }
 },
 "nbformat": 4,
 "nbformat_minor": 5
}
